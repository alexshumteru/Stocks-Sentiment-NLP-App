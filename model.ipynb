{
  "cells": [
    {
      "cell_type": "code",
      "execution_count": 57,
      "metadata": {
        "id": "bpiddPjsl_4Q"
      },
      "outputs": [],
      "source": [
        "import pandas as pd\n",
        "import numpy as np\n",
        "import matplotlib.pyplot as plt\n",
        "import nltk\n",
        "import re\n",
        "from nltk.stem import PorterStemmer, WordNetLemmatizer\n",
        "from nltk.corpus import stopwords\n",
        "import gensim\n",
        "from gensim.utils import simple_preprocess\n",
        "from gensim.parsing.preprocessing import STOPWORDS\n",
        "\n",
        "from sklearn.model_selection import train_test_split\n",
        "from sklearn.metrics import accuracy_score\n",
        "from sklearn.metrics import confusion_matrix\n",
        "\n",
        "import seaborn as sns \n",
        "\n",
        "import tensorflow as tf\n",
        "from tensorflow.keras.preprocessing.text import one_hot,Tokenizer\n",
        "from tensorflow.keras.preprocessing.sequence import pad_sequences\n",
        "from tensorflow.keras.models import Sequential\n",
        "from tensorflow.keras.layers import Dense, Flatten, Embedding, Input, LSTM, Conv1D, MaxPool1D, Bidirectional, Dropout, GlobalMaxPool1D\n",
        "from tensorflow.keras.models import Model\n",
        "from tensorflow.keras.utils import to_categorical\n",
        "\n",
        "import pathlib"
      ]
    },
    {
      "cell_type": "code",
      "execution_count": 2,
      "metadata": {
        "id": "8QiTczEunJNx",
        "colab": {
          "base_uri": "https://localhost:8080/"
        },
        "outputId": "2c250d4f-b3e5-4f8f-ddd1-11ec3283b800"
      },
      "outputs": [
        {
          "output_type": "stream",
          "name": "stdout",
          "text": [
            "Mounted at /content/gdrive\n"
          ]
        }
      ],
      "source": [
        "from google.colab import drive\n",
        "drive.mount('/content/gdrive')"
      ]
    },
    {
      "cell_type": "code",
      "source": [
        "%cd gdrive/MyDrive"
      ],
      "metadata": {
        "colab": {
          "base_uri": "https://localhost:8080/"
        },
        "id": "8vEDyb4H2ctO",
        "outputId": "bd6f9144-e608-49d6-db25-ace32067d85c"
      },
      "execution_count": 3,
      "outputs": [
        {
          "output_type": "stream",
          "name": "stdout",
          "text": [
            "/content/gdrive/MyDrive\n"
          ]
        }
      ]
    },
    {
      "cell_type": "code",
      "execution_count": 4,
      "metadata": {
        "colab": {
          "base_uri": "https://localhost:8080/",
          "height": 419
        },
        "id": "DB2gQ1w4nR-P",
        "outputId": "fefd299c-9215-4a85-d614-74c513f8b857"
      },
      "outputs": [
        {
          "output_type": "execute_result",
          "data": {
            "text/html": [
              "\n",
              "  <div id=\"df-89d9b119-9de7-4dce-95bb-b01a944000ce\">\n",
              "    <div class=\"colab-df-container\">\n",
              "      <div>\n",
              "<style scoped>\n",
              "    .dataframe tbody tr th:only-of-type {\n",
              "        vertical-align: middle;\n",
              "    }\n",
              "\n",
              "    .dataframe tbody tr th {\n",
              "        vertical-align: top;\n",
              "    }\n",
              "\n",
              "    .dataframe thead th {\n",
              "        text-align: right;\n",
              "    }\n",
              "</style>\n",
              "<table border=\"1\" class=\"dataframe\">\n",
              "  <thead>\n",
              "    <tr style=\"text-align: right;\">\n",
              "      <th></th>\n",
              "      <th>Text</th>\n",
              "      <th>Sentiment</th>\n",
              "    </tr>\n",
              "  </thead>\n",
              "  <tbody>\n",
              "    <tr>\n",
              "      <th>0</th>\n",
              "      <td>Kickers on my watchlist XIDE TIT SOQ PNK CPW B...</td>\n",
              "      <td>1</td>\n",
              "    </tr>\n",
              "    <tr>\n",
              "      <th>1</th>\n",
              "      <td>user: AAP MOVIE. 55% return for the FEA/GEED i...</td>\n",
              "      <td>1</td>\n",
              "    </tr>\n",
              "    <tr>\n",
              "      <th>2</th>\n",
              "      <td>user I'd be afraid to short AMZN - they are lo...</td>\n",
              "      <td>1</td>\n",
              "    </tr>\n",
              "    <tr>\n",
              "      <th>3</th>\n",
              "      <td>MNTA Over 12.00</td>\n",
              "      <td>1</td>\n",
              "    </tr>\n",
              "    <tr>\n",
              "      <th>4</th>\n",
              "      <td>OI  Over 21.37</td>\n",
              "      <td>1</td>\n",
              "    </tr>\n",
              "    <tr>\n",
              "      <th>...</th>\n",
              "      <td>...</td>\n",
              "      <td>...</td>\n",
              "    </tr>\n",
              "    <tr>\n",
              "      <th>5786</th>\n",
              "      <td>Industry body CII said #discoms are likely to ...</td>\n",
              "      <td>0</td>\n",
              "    </tr>\n",
              "    <tr>\n",
              "      <th>5787</th>\n",
              "      <td>#Gold prices slip below Rs 46,000 as #investor...</td>\n",
              "      <td>0</td>\n",
              "    </tr>\n",
              "    <tr>\n",
              "      <th>5788</th>\n",
              "      <td>Workers at Bajaj Auto have agreed to a 10% wag...</td>\n",
              "      <td>1</td>\n",
              "    </tr>\n",
              "    <tr>\n",
              "      <th>5789</th>\n",
              "      <td>#Sharemarket LIVE: Sensex off day’s high, up 6...</td>\n",
              "      <td>1</td>\n",
              "    </tr>\n",
              "    <tr>\n",
              "      <th>5790</th>\n",
              "      <td>#Sensex, #Nifty climb off day's highs, still u...</td>\n",
              "      <td>1</td>\n",
              "    </tr>\n",
              "  </tbody>\n",
              "</table>\n",
              "<p>5791 rows × 2 columns</p>\n",
              "</div>\n",
              "      <button class=\"colab-df-convert\" onclick=\"convertToInteractive('df-89d9b119-9de7-4dce-95bb-b01a944000ce')\"\n",
              "              title=\"Convert this dataframe to an interactive table.\"\n",
              "              style=\"display:none;\">\n",
              "        \n",
              "  <svg xmlns=\"http://www.w3.org/2000/svg\" height=\"24px\"viewBox=\"0 0 24 24\"\n",
              "       width=\"24px\">\n",
              "    <path d=\"M0 0h24v24H0V0z\" fill=\"none\"/>\n",
              "    <path d=\"M18.56 5.44l.94 2.06.94-2.06 2.06-.94-2.06-.94-.94-2.06-.94 2.06-2.06.94zm-11 1L8.5 8.5l.94-2.06 2.06-.94-2.06-.94L8.5 2.5l-.94 2.06-2.06.94zm10 10l.94 2.06.94-2.06 2.06-.94-2.06-.94-.94-2.06-.94 2.06-2.06.94z\"/><path d=\"M17.41 7.96l-1.37-1.37c-.4-.4-.92-.59-1.43-.59-.52 0-1.04.2-1.43.59L10.3 9.45l-7.72 7.72c-.78.78-.78 2.05 0 2.83L4 21.41c.39.39.9.59 1.41.59.51 0 1.02-.2 1.41-.59l7.78-7.78 2.81-2.81c.8-.78.8-2.07 0-2.86zM5.41 20L4 18.59l7.72-7.72 1.47 1.35L5.41 20z\"/>\n",
              "  </svg>\n",
              "      </button>\n",
              "      \n",
              "  <style>\n",
              "    .colab-df-container {\n",
              "      display:flex;\n",
              "      flex-wrap:wrap;\n",
              "      gap: 12px;\n",
              "    }\n",
              "\n",
              "    .colab-df-convert {\n",
              "      background-color: #E8F0FE;\n",
              "      border: none;\n",
              "      border-radius: 50%;\n",
              "      cursor: pointer;\n",
              "      display: none;\n",
              "      fill: #1967D2;\n",
              "      height: 32px;\n",
              "      padding: 0 0 0 0;\n",
              "      width: 32px;\n",
              "    }\n",
              "\n",
              "    .colab-df-convert:hover {\n",
              "      background-color: #E2EBFA;\n",
              "      box-shadow: 0px 1px 2px rgba(60, 64, 67, 0.3), 0px 1px 3px 1px rgba(60, 64, 67, 0.15);\n",
              "      fill: #174EA6;\n",
              "    }\n",
              "\n",
              "    [theme=dark] .colab-df-convert {\n",
              "      background-color: #3B4455;\n",
              "      fill: #D2E3FC;\n",
              "    }\n",
              "\n",
              "    [theme=dark] .colab-df-convert:hover {\n",
              "      background-color: #434B5C;\n",
              "      box-shadow: 0px 1px 3px 1px rgba(0, 0, 0, 0.15);\n",
              "      filter: drop-shadow(0px 1px 2px rgba(0, 0, 0, 0.3));\n",
              "      fill: #FFFFFF;\n",
              "    }\n",
              "  </style>\n",
              "\n",
              "      <script>\n",
              "        const buttonEl =\n",
              "          document.querySelector('#df-89d9b119-9de7-4dce-95bb-b01a944000ce button.colab-df-convert');\n",
              "        buttonEl.style.display =\n",
              "          google.colab.kernel.accessAllowed ? 'block' : 'none';\n",
              "\n",
              "        async function convertToInteractive(key) {\n",
              "          const element = document.querySelector('#df-89d9b119-9de7-4dce-95bb-b01a944000ce');\n",
              "          const dataTable =\n",
              "            await google.colab.kernel.invokeFunction('convertToInteractive',\n",
              "                                                     [key], {});\n",
              "          if (!dataTable) return;\n",
              "\n",
              "          const docLinkHtml = 'Like what you see? Visit the ' +\n",
              "            '<a target=\"_blank\" href=https://colab.research.google.com/notebooks/data_table.ipynb>data table notebook</a>'\n",
              "            + ' to learn more about interactive tables.';\n",
              "          element.innerHTML = '';\n",
              "          dataTable['output_type'] = 'display_data';\n",
              "          await google.colab.output.renderOutput(dataTable, element);\n",
              "          const docLink = document.createElement('div');\n",
              "          docLink.innerHTML = docLinkHtml;\n",
              "          element.appendChild(docLink);\n",
              "        }\n",
              "      </script>\n",
              "    </div>\n",
              "  </div>\n",
              "  "
            ],
            "text/plain": [
              "                                                   Text  Sentiment\n",
              "0     Kickers on my watchlist XIDE TIT SOQ PNK CPW B...          1\n",
              "1     user: AAP MOVIE. 55% return for the FEA/GEED i...          1\n",
              "2     user I'd be afraid to short AMZN - they are lo...          1\n",
              "3                                     MNTA Over 12.00            1\n",
              "4                                      OI  Over 21.37            1\n",
              "...                                                 ...        ...\n",
              "5786  Industry body CII said #discoms are likely to ...          0\n",
              "5787  #Gold prices slip below Rs 46,000 as #investor...          0\n",
              "5788  Workers at Bajaj Auto have agreed to a 10% wag...          1\n",
              "5789  #Sharemarket LIVE: Sensex off day’s high, up 6...          1\n",
              "5790  #Sensex, #Nifty climb off day's highs, still u...          1\n",
              "\n",
              "[5791 rows x 2 columns]"
            ]
          },
          "metadata": {},
          "execution_count": 4
        }
      ],
      "source": [
        "stock_df = pd.read_csv(\"stock_sentiment.csv\")\n",
        "stock_df"
      ]
    },
    {
      "cell_type": "code",
      "execution_count": 16,
      "metadata": {
        "colab": {
          "base_uri": "https://localhost:8080/"
        },
        "id": "3_wBSqU51Lnk",
        "outputId": "ae926665-6ac6-412f-9ad7-d8ddc5730e7d"
      },
      "outputs": [
        {
          "output_type": "stream",
          "name": "stdout",
          "text": [
            "[nltk_data] Downloading package stopwords to /root/nltk_data...\n",
            "[nltk_data]   Package stopwords is already up-to-date!\n",
            "[nltk_data] Downloading package punkt to /root/nltk_data...\n",
            "[nltk_data]   Unzipping tokenizers/punkt.zip.\n"
          ]
        },
        {
          "output_type": "execute_result",
          "data": {
            "text/plain": [
              "True"
            ]
          },
          "metadata": {},
          "execution_count": 16
        }
      ],
      "source": [
        "nltk.download(\"stopwords\")\n",
        "import string\n",
        "string.punctuation\n",
        "stopwords.words('english')"
      ]
    },
    {
      "cell_type": "code",
      "execution_count": 8,
      "metadata": {
        "id": "HE4dRfZG_O8O"
      },
      "outputs": [],
      "source": [
        "def clean_text(message):\n",
        "    remove_punc = [char for char in message if char not in string.punctuation]\n",
        "    remove_punc = ''.join(remove_punc)\n",
        "    #remove_punc = remove_punc.lower()\n",
        "\n",
        "    return remove_punc"
      ]
    },
    {
      "cell_type": "code",
      "execution_count": 9,
      "metadata": {
        "id": "9KW-IgnK-dV4"
      },
      "outputs": [],
      "source": [
        "stock_df[\"no punc\"] = stock_df[\"Text\"].apply(clean_text)"
      ]
    },
    {
      "cell_type": "code",
      "execution_count": 10,
      "metadata": {
        "id": "HyDMuSWA69Y2"
      },
      "outputs": [],
      "source": [
        "from nltk.corpus import stopwords\n",
        "stop_words = stopwords.words('english')\n",
        "stop_words.extend(['http', 'https', 'from', 'subject', 're', 'edu', 'use','will','aap','co','day','user','stock','today','week','year'])\n",
        "\n",
        "from google.colab import files\n",
        "#import json\n",
        "\n",
        "\n",
        "\n",
        "#with open('stop_words.json', 'w') as fp:\n",
        " # json.dump(stop_words, fp)"
      ]
    },
    {
      "cell_type": "code",
      "execution_count": 11,
      "metadata": {
        "id": "jy1n42a069Vr"
      },
      "outputs": [],
      "source": [
        "def preprocess(text):\n",
        "    result = []\n",
        "    test1 = gensim.utils.simple_preprocess(text)\n",
        "    test2 = text.split()\n",
        "    for token in gensim.utils.simple_preprocess(text):\n",
        "        if len(token) >= 3 and token not in stop_words:\n",
        "            result.append(token)\n",
        "                \n",
        "    return result\n",
        "    "
      ]
    },
    {
      "cell_type": "code",
      "execution_count": 13,
      "metadata": {
        "id": "zv1Igmf87a5I"
      },
      "outputs": [],
      "source": [
        "stock_df['cleaned'] = stock_df['no punc'].apply(preprocess)"
      ]
    },
    {
      "cell_type": "code",
      "execution_count": 14,
      "metadata": {
        "id": "8bYql7en7hcs"
      },
      "outputs": [],
      "source": [
        "stock_df['cleaned'] = stock_df['cleaned'].apply(lambda x: \" \".join(x)) "
      ]
    },
    {
      "cell_type": "code",
      "execution_count": 22,
      "metadata": {
        "id": "ffCdD2BZjFyP",
        "colab": {
          "base_uri": "https://localhost:8080/"
        },
        "outputId": "dfe77562-c06a-4df7-a1fb-f81d31f72574"
      },
      "outputs": [
        {
          "output_type": "stream",
          "name": "stdout",
          "text": [
            "20\n"
          ]
        }
      ],
      "source": [
        "tweets_length = [ len(x.split()) for x in stock_df['cleaned'] ]\n",
        "max_length = max(tweets_length)"
      ]
    },
    {
      "cell_type": "code",
      "execution_count": 24,
      "metadata": {
        "id": "alPKDD0P7a28"
      },
      "outputs": [],
      "source": [
        "def build_word_dict(texts):\n",
        "    dit = {'__PAD__': 0, '__UNK__': 1} \n",
        "    for sentence in texts: \n",
        "        for word in sentence.split():\n",
        "            if word not in dit: \n",
        "                dit[word] = len(dit)\n",
        "    return dit    "
      ]
    },
    {
      "cell_type": "code",
      "execution_count": 26,
      "metadata": {
        "id": "FN75gigvYVxc",
        "scrolled": true,
        "colab": {
          "base_uri": "https://localhost:8080/"
        },
        "outputId": "7b253a0e-7cd9-4b3b-81df-9a4c4ac2bc7d"
      },
      "outputs": [
        {
          "output_type": "stream",
          "name": "stdout",
          "text": [
            "{'__PAD__': 0, '__UNK__': 1, 'kickers': 2, 'watchlist': 3, 'xide': 4, 'tit': 5, 'soq': 6, 'pnk': 7, 'cpw': 8, 'bpz': 9, 'trade': 10, 'method': 11, 'see': 12, 'prev': 13, 'posts': 14, 'movie': 15, 'return': 16, 'feageed': 17, 'indicator': 18, 'trades': 19, 'awesome': 20, 'afraid': 21, 'short': 22, 'amzn': 23, 'looking': 24, 'like': 25, 'nearmonopoly': 26, 'ebooks': 27, 'mnta': 28, 'pgnx': 29, 'current': 30, 'downtrend': 31, 'break': 32, 'otherwise': 33, 'shortterm': 34, 'correction': 35, 'medterm': 36, 'mondays': 37, 'relative': 38, 'weakness': 39, 'nyx': 40, 'win': 41, 'tie': 42, 'tap': 43, 'ice': 44, 'int': 45, 'bmc': 46, 'aon': 47, 'chk': 48, 'biib': 49, 'goog': 50, 'ower': 51, 'trend': 52, 'line': 53, 'channel': 54, 'test': 55, 'volume': 56, 'support': 57, 'watch': 58, 'tomorrow': 59, 'ong': 60, 'entry': 61, 'assuming': 62, 'fcx': 63, 'opens': 64, 'trigger': 65, 'buy': 66, 'still': 67, 'much': 68, 'setup': 69, 'really': 70, 'worries': 71, 'everyone': 72, 'expects': 73, 'market': 74, 'rally': 75, 'nowusually': 76, 'exact': 77, 'opposite': 78, 'happens': 79, 'every': 80, 'time': 81, 'shall': 82, 'soon': 83, 'bac': 84, 'spx': 85, 'jpm': 86, 'gamcos': 87, 'arry': 88, 'haverty': 89, 'apple': 90, 'extremely': 91, 'cheap': 92, 'great': 93, 'video': 94, 'maykiljil': 95, 'posted': 96, 'agree': 97, 'msft': 98, 'going': 99, 'higher': 100, 'possibly': 101, 'north': 102, 'momentum': 103, 'coming': 104, 'back': 105, 'etfc': 106, 'broke': 107, 'resistance': 108, 'solid': 109, 'friday': 110, 'hitting': 111, 'means': 112, 'resume': 113, 'targeting': 114, 'level': 115, 'gameplan': 116, 'shot': 117, 'liked': 118, 'may': 119, 'weekly': 120, 'july': 121, 'gapping': 122, 'well': 123, 'ideal': 124, 'pull': 125, 'least': 126, 'open': 127, 'list': 128, 'particularly': 129, 'fisv': 130, 'syk': 131, 'hold': 132, 'types': 133, 'check': 134, 'free': 135, 'athx': 136, 'upper': 137, 'nice': 138, 'pnf': 139, 'breakout': 140, 'need': 141, 'follow': 142, 'thru': 143, 'wont': 144, 'believe': 145, 'uptrend': 146, 'crosses': 147, 'swing': 148, 'swy': 149, 'float': 150, 'breaking': 151, 'ouch': 152, 'biof': 153, 'wants': 154, 'comin': 155, 'inverted': 156, 'head': 157, 'shoulder': 158, 'play': 159, 'wasnt': 160, 'able': 161, 'catch': 162, 'eyes': 163, 'red': 164, 'ready': 165, 'close': 166, 'quick': 167, 'latebut': 168, 'investing': 169, 'good': 170, 'point': 171, 'imho': 172, 'chdn': 173, 'trailing': 174, 'stop': 175, 'prior': 176, 'stops': 177, 'vome': 178, 'impressive': 179, 'rate': 180, 'probably': 181, 'get': 182, 'shares': 183, 'traded': 184, 'adding': 185, 'vxy': 186, 'long': 187, 'bottom': 188, 'also': 189, 'got': 190, 'wpi': 191, 'near': 192, 'low': 193, 'repeat': 194, 'global': 195, 'economy': 196, 'better': 197, 'instead': 198, 'nkd': 199, 'failed': 200, 'price': 201, 'action': 202, 'far': 203, 'holding': 204, 'deciding': 205, 'whether': 206, 'calls': 207, 'stocks': 208, 'sbx': 209, 'clears': 210, 'new': 211, 'target': 212, 'notice': 213, 'shakeout': 214, 'reading': 215, 'dot': 216, 'monday': 217, 'early': 218, 'move': 219, 'needs': 220, 'days': 221, 'settle': 222, 'patience': 223, 'coh': 224, 'bwd': 225, 'pay': 226, 'obbers': 227, 'hit': 228, 'store': 229, 'paris': 230, 'prefer': 231, 'take': 232, 'merchendise': 233, 'cash': 234, 'bullish': 235, 'axa': 236, 'tip': 237, 'even': 238, 'sign': 239, 'newsletter': 240, 'anything': 241, 'wrong': 242, 'eat': 243, 'crow': 244, 'due': 245, 'kirby': 246, 'daily': 247, 'around': 248, 'swinging': 249, 'min': 250, 'longs': 251, 'fully': 252, 'added': 253, 'look': 254, 'pop': 255, 'marketshakeout': 256, 'reset': 257, 'stellar': 258, 'full': 259, 'position': 260, 'atice': 261, 'tade': 262, 'setp': 263, 'cnx': 264, 'idcc': 265, 'sma': 266, 'acting': 267, 'indicators': 268, 'switched': 269, 'upside': 270, 'post': 271, 'month': 272, 'highs': 273, 'showing': 274, 'signs': 275, 'stress': 276, 'two': 277, 'bull': 278, 'flags': 279, 'top': 280, 'otherbullish': 281, 'traditional': 282, 'figure': 283, 'signals': 284, 'multiyear': 285, 'high': 286, 'closed': 287, 'mondayu': 288, 'know': 289, 'ruleslarge': 290, 'cup': 291, 'handlestill': 292, 'eog': 293, 'ascending': 294, 'triangle': 295, 'original': 296, 'extension': 297, 'eps': 298, 'feb': 299, 'aapl': 300, 'downtrendfrom': 301, 'closing': 302, 'prices': 303, 'pattern': 304, 'phm': 305, 'pultegroup': 306, 'option': 307, 'bear': 308, 'bets': 309, 'million': 310, 'april': 311, 'setups': 312, 'displaying': 313, 'shd': 314, 'wtw': 315, 'prepare': 316, 'stall': 317, 'esf': 318, 'monetize': 319, 'electronics': 320, 'makes': 321, 'traffic': 322, 'marketplace': 323, 'wake': 324, 'say': 325, 'didnt': 326, 'ebay': 327, 'cvi': 328, 'starting': 329, 'clean': 330, 'book': 331, 'making': 332, 'first': 333, 'sam': 334, 'cheers': 335, 'temporary': 336, 'solution': 337, 'economic': 338, 'woes': 339, 'gave': 340, 'ovti': 341, 'ttm': 342, 'ending': 343, 'oct': 344, 'negative': 345, 'operational': 346, 'flow': 347, 'decline': 348, 'yoy': 349, 'respond': 350, 'positively': 351, 'jobless': 352, 'claims': 353, 'numbers': 354, 'analyst': 355, 'targets': 356, 'earnings': 357, 'downexacty': 358, 'want': 359, 'reporting': 360, 'color': 361, 'intc': 362, 'heads': 363, 'ess': 364, 'away': 365, 'tho': 366, 'season': 367, 'doesnt': 368, 'eay': 369, 'begin': 370, 'cranking': 371, 'til': 372, 'idea': 373, 'cut': 374, 'looks': 375, 'set': 376, 'make': 377, 'ath': 378, 'unknown': 379, 'one': 380, 'verse': 381, 'fnf': 382, 'fod': 383, 'tom': 384, 'system': 385, 'predict': 386, 'green': 387, 'candle': 388, 'fitness': 389, 'health': 390, 'appsthe': 391, 'winners': 392, 'gynormous': 393, 'speculation': 394, 'run': 395, 'nke': 396, 'invest': 397, 'compq': 398, 'shorts': 399, 'dimes': 400, 'ongs': 401, 'dollars': 402, 'qqq': 403, 'nbelieveable': 404, 'payment': 405, 'vcs': 406, 'chasing': 407, 'easily': 408, 'played': 409, 'public': 410, 'markets': 411, 'mastercard': 412, 'triggered': 413, 'oex': 414, 'agnx': 415, 'vbd': 416, 'ppc': 417, 'exp': 418, 'onty': 419, 'bmn': 420, 'chmt': 421, 'fbc': 422, 'isi': 423, 'aig': 424, 'flag': 425, 'technology': 426, 'software': 427, 'alerts': 428, 'went': 429, 'bonkers': 430, 'todayone': 431, 'many': 432, 'pfe': 433, 'host': 434, 'mostcongrats': 435, 'cloud': 436, 'alltime': 437, 'wow': 438, 'steel': 439, 'dndn': 440, 'broken': 441, 'clear': 442, 'resistanc': 443, 'heavy': 444, 'could': 445, 'headed': 446, 'expe': 447, 'apc': 448, 'setting': 449, 'morning': 450, 'call': 451, 'options': 452, 'jan': 453, 'expiration': 454, 'path': 455, 'unthreatened': 456, 'unless': 457, 'fails': 458, 'monitor': 459, 'lineprice': 460, 'dynamic': 461, 'dec': 462, 'mho': 463, 'tsm': 464, 'ipgp': 465, 'eqix': 466, 'bdc': 467, 'ash': 468, 'ddd': 469, 'continue': 470, 'hoped': 471, 'pick': 472, 'ost': 473, 'late': 474, 'gps': 475, 'fast': 476, 'fade': 477, 'behaves': 478, 'weeks': 479, 'huston': 480, 'geen': 481, 'breakoutbut': 482, 'pullback': 483, 'enter': 484, 'ascend': 485, 'breakouts': 486, 'exten': 487, 'fibs': 488, 'subjective': 489, 'kcg': 490, 'things': 491, 'hmmmm': 492, 'vng': 493, 'huge': 494, 'news': 495, 'patent': 496, 'attorney': 497, 'dan': 498, 'avicher': 499, 'nhod': 500, 'previous': 501, 'lows': 502, 'american': 503, 'international': 504, 'group': 505, 'traders': 506, 'bet': 507, 'next': 508, 'balance': 509, 'buys': 510, 'sells': 511, 'since': 512, 'consolidation': 513, 'stable': 514, 'parabolic': 515, 'moves': 516, 'sony': 517, 'preowned': 518, 'block': 519, 'tech': 520, 'unearthed': 521, 'sne': 522, 'gme': 523, 'profits': 524, 'pre': 525, 'owned': 526, 'last': 527, 'turn': 528, 'lights': 529, 'love': 530, 'wynn': 531, 'yesterday': 532, 'wave': 533, 'would': 534, 'points': 535, 'lower': 536, 'key': 537, 'hod': 538, 'neckline': 539, 'bearish': 540, 'consolidating': 541, 'strong': 542, 'mil': 543, 'plus': 544, 'buying': 545, 'massive': 546, 'squeeze': 547, 'thought': 548, 'story': 549, 'dead': 550, 'kills': 551, 'thesis': 552, 'bks': 553, 'sales': 554, 'nook': 555, 'holidays': 556, 'average': 557, 'bounce': 558, 'wightwatchers': 559, 'ads': 560, 'fun': 561, 'light': 562, 'regular': 563, 'people': 564, 'interesting': 565, 'dont': 566, 'trust': 567, 'exactly': 568, 'zcs': 569, 'theres': 570, 'spy': 571, 'bring': 572, 'geithner': 573, 'extended': 574, 'unexpected': 575, 'fed': 576, 'minutes': 577, 'esd': 578, 'panicky': 579, 'nqf': 580, 'ncle': 581, 'ben': 582, 'needed': 583, 'spice': 584, 'little': 585, 'bored': 586, 'might': 587, 'bears': 588, 'control': 589, 'descending': 590, 'trendline': 591, 'fan': 592, 'seeking': 593, 'synthetic': 594, 'add': 595, 'cwst': 596, 'watchn': 597, 'bout': 598, 'minimal': 599, 'risk': 600, 'gamestop': 601, 'vmw': 602, 'keep': 603, 'overniight': 604, 'mmy': 605, 'pos': 606, 'bin': 607, 'premarket': 608, 'tmorrow': 609, 'polk': 610, 'vehicle': 611, 'egistrations': 612, 'think': 613, 'talked': 614, 'trends': 615, 'scty': 616, 'angi': 617, 'fio': 618, 'panw': 619, 'jcp': 620, 'yep': 621, 'mnst': 622, 'gpn': 623, 'show': 624, 'someone': 625, 'bought': 626, 'man': 627, 'skippy': 628, 'made': 629, 'thiswould': 630, 'thrown': 631, 'jar': 632, 'hormel': 633, 'big': 634, 'bonds': 635, 'months': 636, 'znf': 637, 'truly': 638, 'ugly': 639, 'nfp': 640, 'number': 641, 'wrap': 642, 'additions': 643, 'ist': 644, 'including': 645, 'bcei': 646, 'bji': 647, 'cee': 648, 'sons': 649, 'sqnm': 650, 'maybe': 651, 'vrng': 652, 'asked': 653, 'judge': 654, 'royalty': 655, 'became': 656, 'risky': 657, 'deal': 658, 'systems': 659, 'brings': 660, 'nextgen': 661, 'consumer': 662, 'printing': 663, 'ces': 664, 'aston': 665, 'kutcher': 666, 'stars': 667, 'jobs': 668, 'kinda': 669, 'facebook': 670, 'social': 671, 'network': 672, 'came': 673, 'macd': 674, 'turning': 675, 'signal': 676, 'levels': 677, 'mos': 678, 'ago': 679, 'bbby': 680, 'increase': 681, 'improvement': 682, 'increases': 683, 'neg': 684, 'quiet': 685, 'carl': 686, 'icahn': 687, 'nfx': 688, 'paranoid': 689, 'acquired': 690, 'cannot': 691, 'obv': 692, 'phantom': 693, 'ive': 694, 'calling': 695, 'ever': 696, 'start': 697, 'thing': 698, 'given': 699, 'small': 700, 'ave': 701, 'poised': 702, 'area': 703, 'closely': 704, 'gdp': 705, 'slightly': 706, 'ema': 707, 'took': 708, 'breaks': 709, 'scalp': 710, 'holders': 711, 'raise': 712, 'ask': 713, 'climb': 714, 'slowly': 715, 'regardless': 716, 'pxd': 717, 'oas': 718, 'energyswag': 719, 'moving': 720, 'couldnt': 721, 'cope': 722, 'perhaps': 723, 'impossible': 724, 'work': 725, 'maco': 726, 'sense': 727, 'picked': 728, 'bit': 729, 'realistic': 730, 'undecided': 731, 'lift': 732, 'reversal': 733, 'carefully': 734, 'decide': 735, 'eye': 736, 'reports': 737, 'handle': 738, 'sold': 739, 'mca': 740, 'faf': 741, 'giving': 742, 'finger': 743, 'care': 744, 'anymore': 745, 'lol': 746, 'smithcorona': 747, 'alert': 748, 'update': 749, 'minute': 750, 'push': 751, 'tried': 752, 'shake': 753, 'puts': 754, 'hanging': 755, 'mind': 756, 'hba': 757, 'panic': 758, 'domain': 759, 'twitchy': 760, 'robots': 761, 'term': 762, 'fundamentals': 763, 'nvda': 764, 'hour': 765, 'vol': 766, 'explode': 767, 'hard': 768, 'ftc': 769, 'settlement': 770, 'patents': 771, 'worried': 772, 'gone': 773, 'oco': 774, 'door': 775, 'step': 776, 'nearly': 777, 'crazy': 778, 'anyone': 779, 'listens': 780, 'tool': 781, 'getting': 782, 'fueled': 783, 'aaps': 784, 'bby': 785, 'offer': 786, 'shave': 787, 'bid': 788, 'matter': 789, 'answer': 790, 'question': 791, 'ove': 792, 'lot': 793, 'create': 794, 'delta': 795, 'candidate': 796, 'missed': 797, 'started': 798, 'mye': 799, 'second': 800, 'gap': 801, 'fill': 802, 'qcom': 803, 'introduces': 804, 'streamboost': 805, 'home': 806, 'connects': 807, 'seven': 808, 'devices': 809, 'internet': 810, 'momo': 811, 'histogram': 812, 'bars': 813, 'noted': 814, 'hma': 815, 'unusual': 816, 'activity': 817, 'trader': 818, 'put': 819, 'adbe': 820, 'ooks': 821, 'must': 822, 'stay': 823, 'basis': 824, 'monthly': 825, 'hott': 826, 'ticking': 827, 'seller': 828, 'sdjpy': 829, 'werent': 830, 'already': 831, 'ino': 832, 'accumulation': 833, 'znga': 834, 'fat': 835, 'juicy': 836, 'closes': 837, 'gdot': 838, 'recent': 839, 'ooking': 840, 'spf': 841, 'rates': 842, 'hungry': 843, 'engulfing': 844, 'heading': 845, 'ipad': 846, 'minis': 847, 'everywhere': 848, 'different': 849, 'stores': 850, 'none': 851, 'explodes': 852, 'implodes': 853, 'minte': 854, 'vid': 855, 'years': 856, 'mark': 857, 'nailing': 858, 'kkd': 859, 'krispy': 860, 'kreme': 861, 'doughnuts': 862, 'inc': 863, 'xchange': 864, 'conference': 865, 'downgrade': 866, 'held': 867, 'picking': 868, 'food': 869, 'company': 870, 'dpz': 871, 'twenty': 872, 'shows': 873, 'enko': 874, 'view': 875, 'box': 876, 'size': 877, 'potential': 878, 'less': 879, 'csx': 880, 'vey': 881, 'coal': 882, 'confirming': 883, 'rails': 884, 'fins': 885, 'lagging': 886, 'etest': 887, 'continues': 888, 'base': 889, 'rising': 890, 'pickup': 891, 'major': 892, 'financials': 893, 'ripping': 894, 'easy': 895, 'money': 896, 'approaching': 897, 'throughs': 898, 'dma': 899, 'crossing': 900, 'trading': 901, 'mas': 902, 'yeah': 903, 'slashing': 904, 'winwin': 905, 'total': 906, 'triggers': 907, 'earththis': 908, 'kind': 909, 'stuff': 910, 'perk': 911, 'sorrybut': 912, 'onbullish': 913, 'five': 914, 'waves': 915, 'brainier': 916, 'sbac': 917, 'collar': 918, 'protection': 919, 'svu': 920, 'goes': 921, 'sure': 922, 'left': 923, 'cleared': 924, 'axti': 925, 'climbingsi': 926, 'risingobv': 927, 'upwards': 928, 'notes': 929, 'egov': 930, 'restingbasing': 931, 'room': 932, 'bolly': 933, 'absorb': 934, 'atr': 935, 'friends': 936, 'tsa': 937, 'dismisses': 938, 'massachusetts': 939, 'state': 940, 'automobile': 941, 'dealers': 942, 'association': 943, 'awsuit': 944, 'trending': 945, 'appear': 946, 'slow': 947, 'yet': 948, 'prudent': 949, 'profit': 950, 'fired': 951, 'sell': 952, 'tick': 953, 'utilities': 954, 'later': 955, 'rejected': 956, 'slight': 957, 'past': 958, 'enters': 959, 'yum': 960, 'either': 961, 'hog': 962, 'mon': 963, 'pii': 964, 'qih': 965, 'soda': 966, 'ideas': 967, 'favorite': 968, 'though': 969, 'contraction': 970, 'aapdown': 971, 'wedslong': 972, 'spread': 973, 'fuego': 974, 'oversold': 975, 'oscillating': 976, 'angeindicators': 977, 'suggest': 978, 'holds': 979, 'cross': 980, 'bbg': 981, 'cop': 982, 'eni': 983, 'jec': 984, 'sfy': 985, 'xop': 986, 'jds': 987, 'beautiful': 988, 'dip': 989, 'buyers': 990, 'trouble': 991, 'staying': 992, 'mako': 993, 'old': 994, 'afterhour': 995, 'advanced': 996, 'opt': 997, 'gnmk': 998, 'ege': 999, 'amn': 1000, 'aay': 1001, 'simple': 1002, 'fibonacci': 1003, 'projections': 1004, 'measured': 1005, 'pipeline': 1006, 'partnerships': 1007, 'nis': 1008, 'mkthat': 1009, 'pretty': 1010, 'sums': 1011, 'data': 1012, 'retailer': 1013, 'environment': 1014, 'favors': 1015, 'side': 1016, 'welcome': 1017, 'quality': 1018, 'leaders': 1019, 'amh': 1020, 'ocn': 1021, 'egn': 1022, 'hov': 1023, 'amazing': 1024, 'tale': 1025, 'fords': 1026, 'powerful': 1027, 'dictates': 1028, 'direction': 1029, 'participate': 1030, 'overbought': 1031, 'cva': 1032, 'mck': 1033, 'vmed': 1034, 'reverse': 1035, 'tuesday': 1036, 'sup': 1037, 'kidding': 1038, 'legible': 1039, 'version': 1040, 'currently': 1041, 'tweeted': 1042, 'ford': 1043, 'perform': 1044, 'hurricane': 1045, 'sandys': 1046, 'destruction': 1047, 'palladium': 1048, 'banks': 1049, 'picks': 1050, 'san': 1051, 'bigger': 1052, 'ceg': 1053, 'wish': 1054, 'die': 1055, 'newspapers': 1056, 'told': 1057, 'cbs': 1058, 'ftw': 1059, 'butyap': 1060, 'yap': 1061, 'sndk': 1062, 'successfully': 1063, 'plunging': 1064, 'divergences': 1065, 'resolve': 1066, 'onxx': 1067, 'expansion': 1068, 'another': 1069, 'biotech': 1070, 'building': 1071, 'usually': 1072, 'tiny': 1073, 'twi': 1074, 'heopdating': 1075, 'watching': 1076, 'almost': 1077, 'lossglad': 1078, 'gains': 1079, 'june': 1080, 'never': 1081, 'largest': 1082, 'gainer': 1083, 'biggest': 1084, 'mover': 1085, 'protect': 1086, 'ktospdating': 1087, 'corrected': 1088, 'pphm': 1089, 'gapped': 1090, 'positive': 1091, 'ill': 1092, 'possible': 1093, 'jpmogan': 1094, 'fme': 1095, 'showed': 1096, 'orange': 1097, 'traget': 1098, 'morn': 1099, 'sxc': 1100, 'downward': 1101, 'ikely': 1102, 'young': 1103, 'sept': 1104, 'filing': 1105, 'end': 1106, 'spreads': 1107, 'march': 1108, 'expiry': 1109, 'bad': 1110, 'selling': 1111, 'hedge': 1112, 'skx': 1113, 'vsq': 1114, 'snsspdating': 1115, 'avrg': 1116, 'vacation': 1117, 'hot': 1118, 'sccpdating': 1119, 'podd': 1120, 'decent': 1121, 'horsemen': 1122, 'beta': 1123, 'chase': 1124, 'gmc': 1125, 'slammed': 1126, 'tell': 1127, 'party': 1128, 'mrkt': 1129, 'pna': 1130, 'names': 1131, 'pullbacks': 1132, 'flush': 1133, 'amazon': 1134, 'adjusting': 1135, 'splits': 1136, 'via': 1137, 'driving': 1138, 'mkt': 1139, 'weakish': 1140, 'except': 1141, 'broadcast': 1142, 'pcn': 1143, 'covered': 1144, 'discount': 1145, 'buyin': 1146, 'boys': 1147, 'grabbing': 1148, 'come': 1149, 'seen': 1150, 'september': 1151, 'gold': 1152, 'contest': 1153, 'silver': 1154, 'tkc': 1155, 'ddaif': 1156, 'considerable': 1157, 'eceryone': 1158, 'piece': 1159, 'gorwth': 1160, 'magicstakes': 1161, 'highinnovation': 1162, 'marketing': 1163, 'stakes': 1164, 'scheplick': 1165, 'mini': 1166, 'tax': 1167, 'prep': 1168, 'borders': 1169, 'ackspace': 1170, 'fly': 1171, 'quickly': 1172, 'kos': 1173, 'axp': 1174, 'trying': 1175, 'confirmation': 1176, 'avg': 1177, 'wetf': 1178, 'financial': 1179, 'buyout': 1180, 'night': 1181, 'etc': 1182, 'dominate': 1183, 'webtv': 1184, 'nflx': 1185, 'sessions': 1186, 'flows': 1187, 'isnt': 1188, 'telling': 1189, 'saying': 1190, 'anticipated': 1191, 'rax': 1192, 'ampesell': 1193, 'fwspdating': 1194, 'zagg': 1195, 'pabpdating': 1196, 'outlook': 1197, 'scenarios': 1198, 'barclays': 1199, 'case': 1200, 'csod': 1201, 'based': 1202, 'revenues': 1203, 'estimates': 1204, 'quite': 1205, 'achievable': 1206, 'ctxs': 1207, 'conservative': 1208, 'bouncing': 1209, 'nicely': 1210, 'wvolume': 1211, 'mcp': 1212, 'aggressive': 1213, 'however': 1214, 'probability': 1215, 'bird': 1216, 'south': 1217, 'vvs': 1218, 'technicals': 1219, 'continued': 1220, 'akx': 1221, 'spot': 1222, 'declining': 1223, 'ripe': 1224, 'hao': 1225, 'hway': 1226, 'multiday': 1227, 'downswing': 1228, 'favored': 1229, 'demand': 1230, 'zone': 1231, 'game': 1232, 'fin': 1233, 'declines': 1234, 'ayi': 1235, 'turns': 1236, 'quarter': 1237, 'novemebr': 1238, 'expecting': 1239, 'billion': 1240, 'nothing': 1241, 'air': 1242, 'motion': 1243, 'shorted': 1244, 'ctic': 1245, 'inks': 1246, 'totally': 1247, 'hook': 1248, 'reads': 1249, 'ihs': 1250, 'declined': 1251, 'unit': 1252, 'cost': 1253, 'whips': 1254, 'pops': 1255, 'drops': 1256, 'purchase': 1257, 'limit': 1258, 'exposure': 1259, 'portfolio': 1260, 'exiting': 1261, 'imo': 1262, 'sitting': 1263, 'youd': 1264, 'gag': 1265, 'socialism': 1266, 'enjoy': 1267, 'courtesy': 1268, 'jnp': 1269, 'florida': 1270, 'hope': 1271, 'youve': 1272, 'save': 1273, 'asking': 1274, 'ampert': 1275, 'shts': 1276, 'running': 1277, 'retail': 1278, 'sears': 1279, 'property': 1280, 'deck': 1281, 'wfm': 1282, 'hods': 1283, 'afternoon': 1284, 'tradeoftheweek': 1285, 'plenty': 1286, 'eddie': 1287, 'trick': 1288, 'pony': 1289, 'angry': 1290, 'anecdotal': 1291, 'comments': 1292, 'blackberry': 1293, 'doomed': 1294, 'imm': 1295, 'nok': 1296, 'putting': 1297, 'bottomof': 1298, 'course': 1299, 'www': 1300, 'desk': 1301, 'delisted': 1302, 'typicall': 1303, 'pump': 1304, 'dump': 1305, 'careful': 1306, 'stuck': 1307, 'tso': 1308, 'ssy': 1309, 'honored': 1310, 'cybx': 1311, 'keeps': 1312, 'sentiment': 1313, 'change': 1314, 'blink': 1315, 'faint': 1316, 'heart': 1317, 'esistance': 1318, 'nder': 1319, 'levelshort': 1320, 'chance': 1321, 'wins': 1322, 'announces': 1323, 'dividend': 1324, 'reinstatement': 1325, 'tivo': 1326, 'seems': 1327, 'mistake': 1328, 'sticking': 1329, 'gut': 1330, 'soas': 1331, 'stp': 1332, 'ana': 1333, 'kog': 1334, 'instincts': 1335, 'stick': 1336, 'guess': 1337, 'hearing': 1338, 'pjco': 1339, 'cautious': 1340, 'following': 1341, 'comscore': 1342, 'weak': 1343, 'december': 1344, 'overall': 1345, 'initiate': 1346, 'tight': 1347, 'nsm': 1348, 'piper': 1349, 'jaffray': 1350, 'cst': 1351, 'edbox': 1352, 'netflix': 1353, 'appears': 1354, 'csn': 1355, 'indicating': 1356, 'entering': 1357, 'bef': 1358, 'kids': 1359, 'college': 1360, 'fund': 1361, 'takes': 1362, 'rolling': 1363, 'acadnet': 1364, 'regarding': 1365, 'apo': 1366, 'strategy': 1367, 'wfc': 1368, 'spin': 1369, 'amsnet': 1370, 'amwd': 1371, 'coiling': 1372, 'jemberlin': 1373, 'personally': 1374, 'hate': 1375, 'amd': 1376, 'hedges': 1377, 'model': 1378, 'swhc': 1379, 'ban': 1380, 'large': 1381, 'capacity': 1382, 'magazines': 1383, 'hurdles': 1384, 'table': 1385, 'politicians': 1386, 'evening': 1387, 'decine': 1388, 'says': 1389, 'note': 1390, 'barely': 1391, 'way': 1392, 'pwe': 1393, 'loooks': 1394, 'accompained': 1395, 'suggesting': 1396, 'within': 1397, 'intact': 1398, 'vivus': 1399, 'ceo': 1400, 'eportedly': 1401, 'acquisition': 1402, 'inevitable': 1403, 'talking': 1404, 'eporter': 1405, 'morgan': 1406, 'runner': 1407, 'longest': 1408, 'growth': 1409, 'holdings': 1410, 'counting': 1411, 'interest': 1412, 'till': 1413, 'tol': 1414, 'doji': 1415, 'mean': 1416, 'wait': 1417, 'construction': 1418, 'product': 1419, 'along': 1420, 'apog': 1421, 'tab': 1422, 'real': 1423, 'reason': 1424, 'contracts': 1425, 'slack': 1426, 'cell': 1427, 'anf': 1428, 'radar': 1429, 'dgi': 1430, 'ftd': 1431, 'pivot': 1432, 'range': 1433, 'hpq': 1434, 'aug': 1435, 'perfect': 1436, 'dailies': 1437, 'voc': 1438, 'actually': 1439, 'triggerd': 1440, 'itstrying': 1441, 'app': 1442, 'lay': 1443, 'cmg': 1444, 'ots': 1445, 'understand': 1446, 'caught': 1447, 'stdy': 1448, 'ssys': 1449, 'outstanding': 1450, 'bil': 1451, 'cap': 1452, 'covering': 1453, 'wac': 1454, 'vtx': 1455, 'strikes': 1456, 'ichard': 1457, 'gnc': 1458, 'inverse': 1459, 'shoulders': 1460, 'boxbreakout': 1461, 'screw': 1462, 'breakeven': 1463, 'cticnet': 1464, 'gly': 1465, 'waiting': 1466, 'clearwire': 1467, 'corp': 1468, 'arge': 1469, 'despite': 1470, 'dish': 1471, 'slipped': 1472, 'always': 1473, 'increased': 1474, 'yest': 1475, 'presenting': 1476, 'conf': 1477, 'est': 1478, 'esc': 1479, 'swks': 1480, 'decision': 1481, 'soonexpecting': 1482, 'breakuplooking': 1483, 'tix': 1484, 'dose': 1485, 'reality': 1486, 'six': 1487, 'introduced': 1488, 'iphone': 1489, 'world': 1490, 'remember': 1491, 'sixyearsold': 1492, 'wbreakout': 1493, 'basing': 1494, 'yhoo': 1495, 'thanks': 1496, 'upgraded': 1497, 'bbt': 1498, 'initiated': 1499, 'wonder': 1500, 'eached': 1501, 'crash': 1502, 'ssq': 1503, 'pulling': 1504, 'suspected': 1505, 'uckily': 1506, 'res': 1507, 'bck': 1508, 'ipo': 1509, 'tripled': 1510, 'priced': 1511, 'touched': 1512, 'best': 1513, 'hesitate': 1514, 'lots': 1515, 'downside': 1516, 'eaders': 1517, 'ead': 1518, 'medium': 1519, 'bright': 1520, 'deposcaling': 1521, 'intel': 1522, 'tobacco': 1523, 'read': 1524, 'analogyup': 1525, 'tasty': 1526, 'fnfgscaling': 1527, 'inside': 1528, 'rsi': 1529, 'countertrend': 1530, 'reversed': 1531, 'mere': 1532, 'outperforming': 1533, 'ipx': 1534, 'xxia': 1535, 'wedge': 1536, 'happy': 1537, 'reevaluate': 1538, 'slashed': 1539, 'squeezed': 1540, 'lands': 1541, 'crack': 1542, 'pain': 1543, 'gain': 1544, 'mostly': 1545, 'geoy': 1546, 'share': 1547, 'worth': 1548, 'china': 1549, 'fix': 1550, 'ing': 1551, 'info': 1552, 'rips': 1553, 'name': 1554, 'skypeople': 1555, 'fruit': 1556, 'juice': 1557, 'immediately': 1558, 'beav': 1559, 'mgm': 1560, 'ange': 1561, 'peter': 1562, 'ynchd': 1563, 'fsc': 1564, 'exdividend': 1565, 'paying': 1566, 'per': 1567, 'yield': 1568, 'dtradingtrader': 1569, 'mio': 1570, 'expend': 1571, 'race': 1572, 'depo': 1573, 'voxx': 1574, 'kudos': 1575, 'friend': 1576, 'performing': 1577, 'expected': 1578, 'raised': 1579, 'wsj': 1580, 'cerberus': 1581, 'supervalu': 1582, 'strike': 1583, 'sources': 1584, 'ceco': 1585, 'aci': 1586, 'dmnd': 1587, 'gcy': 1588, 'eoc': 1589, 'xco': 1590, 'vccf': 1591, 'axas': 1592, 'pst': 1593, 'nav': 1594, 'pac': 1595, 'vomit': 1596, 'knife': 1597, 'survive': 1598, 'define': 1599, 'january': 1600, 'eap': 1601, 'forget': 1602, 'moved': 1603, 'row': 1604, 'times': 1605, 'miss': 1606, 'upwardstime': 1607, 'fce': 1608, 'tues': 1609, 'wed': 1610, 'goodbye': 1611, 'anyway': 1612, 'likin': 1613, 'dvrgncehammer': 1614, 'goin': 1615, 'quadruple': 1616, 'retest': 1617, 'abruptly': 1618, 'without': 1619, 'permanent': 1620, 'replacement': 1621, 'attention': 1622, 'gonna': 1623, 'super': 1624, 'wschools': 1625, 'jmba': 1626, 'airport': 1627, 'locations': 1628, 'generally': 1629, 'packed': 1630, 'expire': 1631, 'greedy': 1632, 'expiring': 1633, 'trimmed': 1634, 'intradaywhere': 1635, 'cult': 1636, 'dying': 1637, 'zionlooks': 1638, 'breakoutcould': 1639, 'touch': 1640, 'ocket': 1641, 'noon': 1642, 'ook': 1643, 'rip': 1644, 'rhythm': 1645, 'dry': 1646, 'powder': 1647, 'sweet': 1648, 'scaling': 1649, 'lololol': 1650, 'lost': 1651, 'opened': 1652, 'recouped': 1653, 'board': 1654, 'utility': 1655, 'sector': 1656, 'face': 1657, 'hban': 1658, 'hbansell': 1659, 'yea': 1660, 'whole': 1661, 'scale': 1662, 'strength': 1663, 'jump': 1664, 'futures': 1665, 'leak': 1666, 'heknet': 1667, 'listen': 1668, 'sirens': 1669, 'overnight': 1670, 'gapp': 1671, 'promise': 1672, 'isk': 1673, 'equity': 1674, 'front': 1675, 'skis': 1676, 'underperform': 1677, 'positions': 1678, 'kept': 1679, 'heksell': 1680, 'solar': 1681, 'ise': 1682, 'percent': 1683, 'deutsche': 1684, 'bank': 1685, 'predicts': 1686, 'multiple': 1687, 'chances': 1688, 'bish': 1689, 'announce': 1690, 'holiday': 1691, 'structure': 1692, 'dailyweekly': 1693, 'ocz': 1694, 'vegas': 1695, 'nevada': 1696, 'progress': 1697, 'readyscoregoals': 1698, 'gets': 1699, 'canadiangrown': 1700, 'thats': 1701, 'diverse': 1702, 'jnj': 1703, 'mmm': 1704, 'wag': 1705, 'alarm': 1706, 'bells': 1707, 'ring': 1708, 'investors': 1709, 'highlighted': 1710, 'detailed': 1711, 'researched': 1712, 'article': 1713, 'chief': 1714, 'phil': 1715, 'schiller': 1716, 'resort': 1717, 'cheaper': 1718, 'expand': 1719, 'etes': 1720, 'grind': 1721, 'continuing': 1722, 'deliver': 1723, 'goods': 1724, 'hsa': 1725, 'comes': 1726, 'cramer': 1727, 'kiss': 1728, 'death': 1729, 'bro': 1730, 'nudge': 1731, 'kifmonster': 1732, 'continuation': 1733, 'star': 1734, 'signify': 1735, 'retracement': 1736, 'fib': 1737, 'accumulate': 1738, 'mar': 1739, 'isis': 1740, 'fooled': 1741, 'esp': 1742, 'drop': 1743, 'let': 1744, 'wkly': 1745, 'cas': 1746, 'attached': 1747, 'stopping': 1748, 'upward': 1749, 'cgi': 1750, 'trucking': 1751, 'samsung': 1752, 'snapdragon': 1753, 'anti': 1754, 'blue': 1755, 'sky': 1756, 'student': 1757, 'debt': 1758, 'trillion': 1759, 'dollar': 1760, 'bubble': 1761, 'nni': 1762, 'cof': 1763, 'accelerate': 1764, 'thursdays': 1765, 'suggests': 1766, 'upmove': 1767, 'ytd': 1768, 'wells': 1769, 'fargo': 1770, 'moon': 1771, 'expectations': 1772, 'send': 1773, 'cable': 1774, 'content': 1775, 'exclusive': 1776, 'cant': 1777, 'cnet': 1778, 'award': 1779, 'cubex': 1780, 'printer': 1781, 'characteristics': 1782, 'successful': 1783, 'sina': 1784, 'stanley': 1785, 'hits': 1786, 'called': 1787, 'cashflow': 1788, 'distress': 1789, 'sound': 1790, 'aeg': 1791, 'averages': 1792, 'help': 1793, 'mutual': 1794, 'darvas': 1795, 'effect': 1796, 'shod': 1797, 'halfhour': 1798, 'moderately': 1799, 'especially': 1800, 'medical': 1801, 'industry': 1802, 'asgn': 1803, 'grow': 1804, 'drogen': 1805, 'ish': 1806, 'backward': 1807, 'forming': 1808, 'imminent': 1809, 'reducing': 1810, 'healthy': 1811, 'desirable': 1812, 'eventually': 1813, 'handleshakeout': 1814, 'present': 1815, 'mhnet': 1816, 'warming': 1817, 'lamp': 1818, 'heat': 1819, 'languishing': 1820, 'mhsell': 1821, 'osing': 1822, 'topping': 1823, 'shorting': 1824, 'cat': 1825, 'ike': 1826, 'mdso': 1827, 'priuced': 1828, 'flying': 1829, 'whoopie': 1830, 'nickname': 1831, 'developing': 1832, 'hge': 1833, 'cuphandle': 1834, 'dnb': 1835, 'spike': 1836, 'ahead': 1837, 'noticed': 1838, 'pushes': 1839, 'craters': 1840, 'management': 1841, 'tells': 1842, 'biz': 1843, 'sucks': 1844, 'sorts': 1845, 'delusionnal': 1846, 'youondrugs': 1847, 'tear': 1848, 'lien': 1849, 'sustained': 1850, 'fridays': 1851, 'scrap': 1852, 'eports': 1853, 'resilient': 1854, 'beautifully': 1855, 'beaks': 1856, 'finding': 1857, 'possibility': 1858, 'power': 1859, 'hood': 1860, 'evel': 1861, 'easing': 1862, 'allowing': 1863, 'awk': 1864, 'part': 1865, 'club': 1866, 'gtat': 1867, 'volumepositive': 1868, 'divergence': 1869, 'alexcampbello': 1870, 'street': 1871, 'sees': 1872, 'hence': 1873, 'keeping': 1874, 'pricing': 1875, 'wanted': 1876, 'catapult': 1877, 'towards': 1878, 'dnpdating': 1879, 'breast': 1880, 'implants': 1881, 'agn': 1882, 'wallstrip': 1883, 'offhand': 1884, 'includes': 1885, 'itb': 1886, 'htz': 1887, 'dom': 1888, 'emn': 1889, 'sca': 1890, 'fet': 1891, 'fxi': 1892, 'hdb': 1893, 'eve': 1894, 'perf': 1895, 'dnkn': 1896, 'invn': 1897, 'mov': 1898, 'ntsp': 1899, 'scco': 1900, 'stormed': 1901, 'dog': 1902, 'cstr': 1903, 'found': 1904, 'pnra': 1905, 'lead': 1906, 'although': 1907, 'sounds': 1908, 'random': 1909, 'fires': 1910, 'reject': 1911, 'frames': 1912, 'weakening': 1913, 'xmas': 1914, 'smart': 1915, 'timed': 1916, 'shadowtrade': 1917, 'fair': 1918, 'analogy': 1919, 'vhs': 1920, 'beat': 1921, 'expensive': 1922, 'pennant': 1923, 'bucks': 1924, 'used': 1925, 'showroomingi': 1926, 'works': 1927, 'tgtthe': 1928, 'nature': 1929, 'changing': 1930, 'emains': 1931, 'jmixer': 1932, 'broker': 1933, 'borrow': 1934, 'recharge': 1935, 'weapon': 1936, 'stpennant': 1937, 'iwd': 1938, 'korea': 1939, 'stocksg': 1940, 'display': 1941, 'falls': 1942, 'talks': 1943, 'order': 1944, 'sigh': 1945, 'rebound': 1946, 'reduces': 1947, 'component': 1948, 'orders': 1949, 'song': 1950, 'bulls': 1951, 'rest': 1952, 'divorce': 1953, 'blows': 1954, 'route': 1955, 'nyseaca': 1956, 'offerd': 1957, 'done': 1958, 'fridaygutsy': 1959, 'ignore': 1960, 'noise': 1961, 'thank': 1962, 'fire': 1963, 'nov': 1964, 'ets': 1965, 'phone': 1966, 'wireless': 1967, 'service': 1968, 'customers': 1969, 'downleg': 1970, 'chtpnet': 1971, 'involved': 1972, 'confirm': 1973, 'sending': 1974, 'reminder': 1975, 'riskreward': 1976, 'core': 1977, 'funds': 1978, 'oading': 1979, 'protecting': 1980, 'remain': 1981, 'convinced': 1982, 'youre': 1983, 'middle': 1984, 'ground': 1985, 'eaiest': 1986, 'hike': 1987, 'right': 1988, 'csco': 1989, 'cmon': 1990, 'symmetrical': 1991, 'topside': 1992, 'sep': 1993, 'concerns': 1994, 'bump': 1995, 'android': 1996, 'mathfail': 1997, 'oversell': 1998, 'earlier': 1999, 'tweet': 2000, 'dragging': 2001, 'stockaction': 2002, 'snta': 2003, 'fom': 2004, 'likely': 2005, 'fixing': 2006, 'miraculously': 2007, 'report': 2008, 'shale': 2009, 'plays': 2010, 'hes': 2011, 'dsb': 2012, 'rare': 2013, 'earth': 2014, 'business': 2015, 'terrible': 2016, 'issues': 2017, 'compelling': 2018, 'xraystocktrader': 2019, 'eager': 2020, 'acquisitions': 2021, 'cvx': 2022, 'krisanti': 2023, 'mentioned': 2024, 'sent': 2025, 'drugs': 2026, 'backlance': 2027, 'argecap': 2028, 'marc': 2029, 'benioff': 2030, 'swagger': 2031, 'income': 2032, 'statement': 2033, 'shopdating': 2034, 'triggering': 2035, 'build': 2036, 'intraday': 2037, 'hbi': 2038, 'briefly': 2039, 'puled': 2040, 'helpful': 2041, 'period': 2042, 'pink': 2043, 'using': 2044, 'rule': 2045, 'fills': 2046, 'gaps': 2047, 'eternity': 2048, 'clearly': 2049, 'pumps': 2050, 'nobiano': 2051, 'roi': 2052, 'sir': 2053, 'double': 2054, 'gsvc': 2055, 'twitter': 2056, 'pulls': 2057, 'triple': 2058, 'bottoms': 2059, 'third': 2060, 'fanboys': 2061, 'oad': 2062, 'freaking': 2063, 'boat': 2064, 'links': 2065, 'swapping': 2066, 'risks': 2067, 'blogosphere': 2068, 'private': 2069, 'msh': 2070, 'etail': 2071, 'drilldown': 2072, 'raises': 2073, 'questions': 2074, 'vfc': 2075, 'alcanza': 2076, 'los': 2077, 'reconfirmacin': 2078, 'tendencia': 2079, 'que': 2080, 'lleva': 2081, 'sesin': 2082, 'provechando': 2083, 'alcista': 2084, 'final': 2085, 'lose': 2086, 'butt': 2087, 'dips': 2088, 'plan': 2089, 'equals': 2090, 'mess': 2091, 'jeff': 2092, 'bezoshaving': 2093, 'wonderful': 2094, 'dayas': 2095, 'usualand': 2096, 'thin': 2097, 'bastard': 2098, 'lets': 2099, 'helped': 2100, 'revenuesi': 2101, 'yoga': 2102, 'bores': 2103, 'western': 2104, 'bore': 2105, 'doritos': 2106, 'index': 2107, 'slacker': 2108, 'soncsell': 2109, 'luck': 2110, 'website': 2111, 'investor': 2112, 'relation': 2113, 'page': 2114, 'uses': 2115, 'morningstar': 2116, 'stats': 2117, 'quote': 2118, 'statistics': 2119, 'drying': 2120, 'technical': 2121, 'abc': 2122, 'clearing': 2123, 'pjp': 2124, 'error': 2125, 'dataits': 2126, 'updated': 2127, 'stumbled': 2128, 'upon': 2129, 'discrepency': 2130, 'snts': 2131, 'eally': 2132, 'pleased': 2133, 'hours': 2134, 'allows': 2135, 'entries': 2136, 'typical': 2137, 'inap': 2138, 'riding': 2139, 'deviation': 2140, 'couple': 2141, 'wks': 2142, 'margin': 2143, 'leverage': 2144, 'highest': 2145, 'blew': 2146, 'perking': 2147, 'general': 2148, 'specialty': 2149, 'chemicals': 2150, 'outside': 2151, 'bbands': 2152, 'hourly': 2153, 'remaining': 2154, 'csnsell': 2155, 'blog': 2156, 'missing': 2157, 'mojo': 2158, 'crashes': 2159, 'ceiling': 2160, 'guggenheim': 2161, 'hiring': 2162, 'interim': 2163, 'apkt': 2164, 'charm': 2165, 'erased': 2166, 'opening': 2167, 'drive': 2168, 'roomlet': 2169, 'consolidate': 2170, 'cratering': 2171, 'psychological': 2172, 'tape': 2173, 'dontbeshort': 2174, 'important': 2175, 'yesterdays': 2176, 'heo': 2177, 'study': 2178, 'easons': 2179, 'growing': 2180, 'cow': 2181, 'eoy': 2182, 'stx': 2183, 'drug': 2184, 'approval': 2185, 'value': 2186, 'shorters': 2187, 'manipulation': 2188, 'thc': 2189, 'cents': 2190, 'odp': 2191, 'daytrade': 2192, 'sidefirst': 2193, 'try': 2194, 'cute': 2195, 'rev': 2196, 'seeing': 2197, 'pushing': 2198, 'mikel': 2199, 'williams': 2200, 'viasystems': 2201, 'dennis': 2202, 'strigl': 2203, 'coo': 2204, 'verizon': 2205, 'com': 2206, 'wirless': 2207, 'flipping': 2208, 'meaty': 2209, 'obviusly': 2210, 'chipping': 2211, 'expect': 2212, 'components': 2213, 'handsets': 2214, 'seasonally': 2215, 'soft': 2216, 'obamabiden': 2217, 'speak': 2218, 'gun': 2219, 'legislation': 2220, 'cover': 2221, 'complete': 2222, 'ampe': 2223, 'exciting': 2224, 'lately': 2225, 'tact': 2226, 'consistently': 2227, 'eading': 2228, 'esiient': 2229, 'indication': 2230, 'ally': 2231, 'sti': 2232, 'accumulated': 2233, 'critical': 2234, 'toast': 2235, 'problem': 2236, 'knows': 2237, 'squeezie': 2238, 'crossup': 2239, 'keltbbands': 2240, 'lunch': 2241, 'dumping': 2242, 'sub': 2243, 'town': 2244, 'commenting': 2245, 'cytxnet': 2246, 'cytxsell': 2247, 'wmb': 2248, 'lives': 2249, 'probabilities': 2250, 'reversion': 2251, 'pts': 2252, 'respect': 2253, 'exit': 2254, 'dcth': 2255, 'volatility': 2256, 'ones': 2257, 'depend': 2258, 'itv': 2259, 'wkh': 2260, 'pointfigure': 2261, 'cie': 2262, 'cox': 2263, 'smacked': 2264, 'postpone': 2265, 'release': 2266, 'approx': 2267, 'performers': 2268, 'peak': 2269, 'dogs': 2270, 'please': 2271, 'containment': 2272, 'propel': 2273, 'reverses': 2274, 'problems': 2275, 'oabc': 2276, 'twc': 2277, 'tgt': 2278, 'wht': 2279, 'reaching': 2280, 'maximum': 2281, 'loss': 2282, 'reaches': 2283, 'oss': 2284, 'ann': 2285, 'hammering': 2286, 'alive': 2287, 'nvt': 2288, 'difference': 2289, 'roll': 2290, 'opinion': 2291, 'gpnpdating': 2292, 'cndo': 2293, 'socialvolume': 2294, 'ioscale': 2295, 'announced': 2296, 'compute': 2297, 'summit': 2298, 'hyperscale': 2299, 'spinning': 2300, 'disk': 2301, 'changer': 2302, 'followers': 2303, 'proving': 2304, 'charge': 2305, 'ising': 2306, 'normally': 2307, 'confirms': 2308, 'weird': 2309, 'nyny': 2310, 'stephanie': 2311, 'said': 2312, 'hoy': 2313, 'gacamoe': 2314, 'seconds': 2315, 'tradesmart': 2316, 'csnong': 2317, 'wcg': 2318, 'onged': 2319, 'reliable': 2320, 'patterns': 2321, 'across': 2322, 'surprising': 2323, 'give': 2324, 'enough': 2325, 'hey': 2326, 'nail': 2327, 'mofo': 2328, 'spotlight': 2329, 'tonight': 2330, 'eal': 2331, 'gapper': 2332, 'mid': 2333, 'atio': 2334, 'taken': 2335, 'learn': 2336, 'figuring': 2337, 'guns': 2338, 'pass': 2339, 'shootings': 2340, 'load': 2341, 'aftermrkt': 2342, 'chaos': 2343, 'event': 2344, 'white': 2345, 'cytxpdating': 2346, 'autonomy': 2347, 'looked': 2348, 'ptrend': 2349, 'apples': 2350, 'falling': 2351, 'upgrades': 2352, 'something': 2353, 'net': 2354, 'remains': 2355, 'dva': 2356, 'exuberance': 2357, 'generating': 2358, 'brokers': 2359, 'changes': 2360, 'wmt': 2361, 'math': 2362, 'baby': 2363, 'screamed': 2364, 'fashion': 2365, 'makeover': 2366, 'whale': 2367, 'followed': 2368, 'leg': 2369, 'disneys': 2370, 'infinity': 2371, 'dis': 2372, 'atvi': 2373, 'haunt': 2374, 'sow': 2375, 'pgx': 2376, 'hype': 2377, 'resist': 2378, 'sliding': 2379, 'hint': 2380, 'confirmed': 2381, 'theory': 2382, 'bag': 2383, 'suckers': 2384, 'america': 2385, 'stronger': 2386, 'taking': 2387, 'somebody': 2388, 'seem': 2389, 'impact': 2390, 'cards': 2391, 'longterm': 2392, 'akam': 2393, 'sanm': 2394, 'expectation': 2395, 'garden': 2396, 'wall': 2397, 'browser': 2398, 'apparel': 2399, 'presents': 2400, 'thermodox': 2401, 'nanosoccer': 2402, 'ball': 2403, 'antivascular': 2404, 'antineoplastic': 2405, 'thx': 2406, 'saw': 2407, 'raising': 2408, 'todays': 2409, 'demark': 2410, 'prop': 2411, 'classic': 2412, 'find': 2413, 'stewie': 2414, 'pullbk': 2415, 'bookmark': 2416, 'moonshots': 2417, 'exist': 2418, 'drinking': 2419, 'safeway': 2420, 'brand': 2421, 'columbian': 2422, 'bean': 2423, 'coffee': 2424, 'reaction': 2425, 'makings': 2426, 'type': 2427, 'wishing': 2428, 'cousin': 2429, 'smb': 2430, 'adar': 2431, 'adtn': 2432, 'cam': 2433, 'adds': 2434, 'coil': 2435, 'fngn': 2436, 'pim': 2437, 'struggling': 2438, 'handles': 2439, 'fil': 2440, 'toward': 2441, 'scaled': 2442, 'offered': 2443, 'everybody': 2444, 'buybasement': 2445, 'wfundamentals': 2446, 'pipelines': 2447, 'isissell': 2448, 'exploded': 2449, 'eod': 2450, 'eversal': 2451, 'andor': 2452, 'christmas': 2453, 'cracks': 2454, 'supports': 2455, 'smas': 2456, 'bot': 2457, 'gevo': 2458, 'voyant': 2459, 'advisors': 2460, 'dougherty': 2461, 'decembers': 2462, 'emotions': 2463, 'anonymous': 2464, 'zion': 2465, 'accompanied': 2466, 'hawken': 2467, 'estimating': 2468, 'earn': 2469, 'marketshare': 2470, 'marginthe': 2471, 'dilemma': 2472, 'tex': 2473, 'caution': 2474, 'cen': 2475, 'similar': 2476, 'relief': 2477, 'fell': 2478, 'hammer': 2479, 'backtest': 2480, 'thoughts': 2481, 'algo': 2482, 'affect': 2483, 'body': 2484, 'parts': 2485, 'ihi': 2486, 'mdt': 2487, 'zmh': 2488, 'bsx': 2489, 'cheapest': 2490, 'transparent': 2491, 'avoid': 2492, 'soes': 2493, 'decisions': 2494, 'guanxi': 2495, 'interests': 2496, 'tran': 2497, 'shifting': 2498, 'capex': 2499, 'mobile': 2500, 'kbh': 2501, 'gpx': 2502, 'itg': 2503, 'nxt': 2504, 'osers': 2505, 'fns': 2506, 'tsx': 2507, 'geo': 2508, 'entered': 2509, 'weaken': 2510, 'shw': 2511, 'engaged': 2512, 'secondary': 2513, 'earning': 2514, 'rocket': 2515, 'fail': 2516, 'filled': 2517, 'pin': 2518, 'confident': 2519, 'stt': 2520, 'sharing': 2521, 'percolating': 2522, 'corn': 2523, 'cob': 2524, 'hated': 2525, 'disaster': 2526, 'viewed': 2527, 'mainevent': 2528, 'insightful': 2529, 'analysis': 2530, 'fusionio': 2531, 'avoiding': 2532, 'commoditization': 2533, 'sorry': 2534, 'nissan': 2535, 'siemens': 2536, 'mining': 2537, 'whatever': 2538, 'unload': 2539, 'schw': 2540, 'train': 2541, 'rounded': 2542, 'spikes': 2543, 'comatose': 2544, 'leading': 2545, 'sbgi': 2546, 'amat': 2547, 'reached': 2548, 'conditions': 2549, 'bmo': 2550, 'stk': 2551, 'stalking': 2552, 'anemic': 2553, 'significant': 2554, 'slush': 2555, 'fall': 2556, 'boy': 2557, 'constructive': 2558, 'exists': 2559, 'egarding': 2560, 'kss': 2561, 'tjx': 2562, 'copycat': 2563, 'clothing': 2564, 'items': 2565, 'reminds': 2566, 'talk': 2567, 'steady': 2568, 'essxpdating': 2569, 'applesoft': 2570, 'hbanpdating': 2571, 'ltra': 2572, 'tek': 2573, 'ltratech': 2574, 'stepper': 2575, 'ias': 2576, 'plague': 2577, 'loves': 2578, 'knew': 2579, 'others': 2580, 'laggard': 2581, 'achc': 2582, 'howeverprice': 2583, 'matters': 2584, 'cyh': 2585, 'band': 2586, 'appeared': 2587, 'bont': 2588, 'cuz': 2589, 'fie': 2590, 'decending': 2591, 'toppy': 2592, 'appearance': 2593, 'spd': 2594, 'sii': 2595, 'foe': 2596, 'pab': 2597, 'xray': 2598, 'cnk': 2599, 'boj': 2600, 'bitlyxstzag': 2601, 'nat': 2602, 'gas': 2603, 'producers': 2604, 'scss': 2605, 'likes': 2606, 'tmi': 2607, 'mdz': 2608, 'feic': 2609, 'otex': 2610, 'aeo': 2611, 'technica': 2612, 'tades': 2613, 'cgx': 2614, 'cvt': 2615, 'gdi': 2616, 'surprise': 2617, 'feels': 2618, 'dow': 2619, 'sucker': 2620, 'ways': 2621, 'becomes': 2622, 'teenager': 2623, 'iberty': 2624, 'media': 2625, 'stake': 2626, 'slightest': 2627, 'disappoint': 2628, 'november': 2629, 'spec': 2630, 'eminds': 2631, 'ibm': 2632, 'glasses': 2633, 'definitely': 2634, 'guys': 2635, 'pause': 2636, 'button': 2637, 'sneaking': 2638, 'form': 2639, 'stream': 2640, 'vvtv': 2641, 'insidertrading': 2642, 'pointed': 2643, 'wknd': 2644, 'engulf': 2645, 'jans': 2646, 'blu': 2647, 'portion': 2648, 'bte': 2649, 'shrtputs': 2650, 'proof': 2651, 'tank': 2652, 'purpose': 2653, 'gift': 2654, 'card': 2655, 'giveaway': 2656, 'sugar': 2657, 'local': 2658, 'consumers': 2659, 'usercola': 2660, 'shift': 2661, 'nationwide': 2662, 'sbf': 2663, 'guidance': 2664, 'pays': 2665, 'longer': 2666, 'winner': 2667, 'sit': 2668, 'armour': 2669, 'betting': 2670, 'walk': 2671, 'homes': 2672, 'sanw': 2673, 'offering': 2674, 'pricewise': 2675, 'hight': 2676, 'yutz': 2677, 'firm': 2678, 'deep': 2679, 'bowels': 2680, 'beats': 2681, 'misses': 2682, 'gainsselling': 2683, 'tim': 2684, 'cook': 2685, 'wedemember': 2686, 'weekend': 2687, 'yrs': 2688, 'agoday': 2689, 'steve': 2690, 'leave': 2691, 'climactic': 2692, 'mtz': 2693, 'trap': 2694, 'isispdating': 2695, 'bzh': 2696, 'beazer': 2697, 'ampepdating': 2698, 'serious': 2699, 'snfca': 2700, 'tighter': 2701, 'dismal': 2702, 'everyones': 2703, 'relocating': 2704, 'ftpdatingnear': 2705, 'kex': 2706, 'apparently': 2707, 'adjusted': 2708, 'intermediate': 2709, 'txn': 2710, 'depopdating': 2711, 'chrome': 2712, 'ios': 2713, 'safari': 2714, 'innovation': 2715, 'wdc': 2716, 'lovely': 2717, 'procedure': 2718, 'sake': 2719, 'resulting': 2720, 'pve': 2721, 'havent': 2722, 'suggestions': 2723, 'limited': 2724, 'testing': 2725, 'country': 2726, 'aside': 2727, 'simply': 2728, 'levering': 2729, 'common': 2730, 'writing': 2731, 'strategies': 2732, 'reward': 2733, 'sgmo': 2734, 'magnitude': 2735, 'maps': 2736, 'wedded': 2737, 'gigaflops': 2738, 'gigabytes': 2739, 'inux': 2740, 'october': 2741, 'ffiv': 2742, 'css': 2743, 'google': 2744, 'eview': 2745, 'hopeful': 2746, 'multiscreen': 2747, 'suspect': 2748, 'ballmer': 2749, 'pushed': 2750, 'finally': 2751, 'sync': 2752, 'ymf': 2753, 'dia': 2754, 'bloomberg': 2755, 'stanleys': 2756, 'companies': 2757, 'odds': 2758, 'takeover': 2759, 'takeove': 2760, 'fao': 2761, 'waitforit': 2762, 'positioned': 2763, 'rely': 2764, 'hardware': 2765, 'competition': 2766, 'search': 2767, 'monopoly': 2768, 'vision': 2769, 'cnbc': 2770, 'mcd': 2771, 'whats': 2772, 'premkt': 2773, 'eaction': 2774, 'warts': 2775, 'quarters': 2776, 'zero': 2777, 'tvix': 2778, 'three': 2779, 'evaporate': 2780, 'defended': 2781, 'paid': 2782, 'stong': 2783, 'working': 2784, 'xec': 2785, 'half': 2786, 'midd': 2787, 'actionable': 2788, 'ramp': 2789, 'wacked': 2790, 'winning': 2791, 'fdx': 2792, 'indtitutional': 2793, 'concerned': 2794, 'shtick': 2795, 'helps': 2796, 'mediumterm': 2797, 'comment': 2798, 'guy': 2799, 'tad': 2800, 'qsii': 2801, 'oeilly': 2802, 'automotive': 2803, 'magenta': 2804, 'contract': 2805, 'rolls': 2806, 'yes': 2807, 'fine': 2808, 'fcfs': 2809, 'topbottom': 2810, 'guides': 2811, 'evs': 2812, 'majority': 2813, 'mexico': 2814, 'isle': 2815, 'sellers': 2816, 'bleeding': 2817, 'nobullshytrader': 2818, 'snss': 2819, 'congrats': 2820, 'pressing': 2821, 'prooof': 2822, 'expanding': 2823, 'pie': 2824, 'boght': 2825, 'preearnings': 2826, 'rules': 2827, 'feeling': 2828, 'momos': 2829, 'bullishness': 2830, 'aks': 2831, 'afsi': 2832, 'bat': 2833, 'tighten': 2834, 'mea': 2835, 'kdj': 2836, 'monitoring': 2837, 'stricly': 2838, 'blowout': 2839, 'assets': 2840, 'marketable': 2841, 'securities': 2842, 'treasury': 2843, 'bills': 2844, 'offbalancesheet': 2845, 'liabilities': 2846, 'contractual': 2847, 'commitments': 2848, 'suppliers': 2849, 'true': 2850, 'understanding': 2851, 'companys': 2852, 'valuation': 2853, 'exhibiting': 2854, 'climax': 2855, 'ate': 2856, 'stage': 2857, 'violating': 2858, 'prexmas': 2859, 'bcm': 2860, 'smartphone': 2861, 'space': 2862, 'underpriced': 2863, 'suppose': 2864, 'tweak': 2865, 'cbpdating': 2866, 'msi': 2867, 'glad': 2868, 'waited': 2869, 'placing': 2870, 'breath': 2871, 'easier': 2872, 'complaints': 2873, 'budged': 2874, 'raving': 2875, 'murdering': 2876, 'factor': 2877, 'destroyed': 2878, 'orgasm': 2879, 'das': 2880, 'gefllt': 2881, 'mir': 2882, 'nicht': 2883, 'god': 2884, 'wooooow': 2885, 'applestock': 2886, 'wild': 2887, 'ride': 2888, 'believers': 2889, 'guest': 2890, 'lacking': 2891, 'anybody': 2892, 'boost': 2893, 'stopped': 2894, 'happen': 2895, 'fnfgpdating': 2896, 'feel': 2897, 'gore': 2898, 'cashsecurities': 2899, 'divs': 2900, 'buybacks': 2901, 'offshore': 2902, 'highly': 2903, 'unlikely': 2904, 'afterhours': 2905, 'oveeacting': 2906, 'charles': 2907, 'sizemore': 2908, 'straight': 2909, 'insights': 2910, 'shyamalan': 2911, 'twist': 2912, 'disappointment': 2913, 'hotel': 2914, 'switchboard': 2915, 'blowup': 2916, 'theyve': 2917, 'saturation': 2918, 'wheres': 2919, 'laughed': 2920, 'quarterly': 2921, 'histograms': 2922, 'donestill': 2923, 'shared': 2924, 'broadening': 2925, 'easiest': 2926, 'sequence': 2927, 'ggc': 2928, 'textbook': 2929, 'ndx': 2930, 'actg': 2931, 'breakdown': 2932, 'hfc': 2933, 'performance': 2934, 'lock': 2935, 'buyable': 2936, 'vhc': 2937, 'heop': 2938, 'formed': 2939, 'bcn': 2940, 'often': 2941, 'indicates': 2942, 'formation': 2943, 'quasi': 2944, 'hasnt': 2945, 'excellent': 2946, 'proptrader': 2947, 'inflows': 2948, 'sinks': 2949, 'nasdaq': 2950, 'disappointing': 2951, 'quarterits': 2952, 'phase': 2953, 'esumes': 2954, 'warning': 2955, 'ppl': 2956, 'phones': 2957, 'competitive': 2958, 'choices': 2959, 'heck': 2960, 'flip': 2961, 'fugly': 2962, 'goal': 2963, 'pot': 2964, 'brutal': 2965, 'picture': 2966, 'frightening': 2967, 'permabears': 2968, 'hand': 2969, 'fist': 2970, 'inflated': 2971, 'future': 2972, 'learning': 2973, 'experience': 2974, 'wnc': 2975, 'beauty': 2976, 'worst': 2977, 'textbooks': 2978, 'interested': 2979, 'pressure': 2980, 'link': 2981, 'account': 2982, 'revs': 2983, 'guided': 2984, 'knees': 2985, 'toes': 2986, 'ostk': 2987, 'lapdesk': 2988, 'windows': 2989, 'ggs': 2990, 'wife': 2991, 'life': 2992, 'catfish': 2993, 'extreme': 2994, 'fractal': 2995, 'pwmo': 2996, 'pbypdatingmore': 2997, 'inform': 2998, 'cae': 2999, 'bajo': 3000, 'entrar': 3001, 'cortos': 3002, 'beating': 3003, 'ongterm': 3004, 'underestimate': 3005, 'tsas': 3006, 'ability': 3007, 'print': 3008, 'oves': 3009, 'thinking': 3010, 'resistace': 3011, 'abt': 3012, 'demarks': 3013, 'botched': 3014, 'parade': 3015, 'masses': 3016, 'illusion': 3017, 'experts': 3018, 'racket': 3019, 'else': 3020, 'expert': 3021, 'pumping': 3022, 'task': 3023, 'atw': 3024, 'starts': 3025, 'overweight': 3026, 'yahoofinance': 3027, 'adio': 3028, 'iwm': 3029, 'leadership': 3030, 'fbhs': 3031, 'weekstight': 3032, 'tons': 3033, 'weve': 3034, 'tmb': 3035, 'screen': 3036, 'tranche': 3037, 'acx': 3038, 'iii': 3039, 'statistically': 3040, 'morphine': 3041, 'bbh': 3042, 'subscibers': 3043, 'omg': 3044, 'dakt': 3045, 'indicate': 3046, 'explosion': 3047, 'jul': 3048, 'outlined': 3049, 'areas': 3050, 'microsoft': 3051, 'nearing': 3052, 'warns': 3053, 'downgraded': 3054, 'jefferies': 3055, 'oppenheimer': 3056, 'reduced': 3057, 'capital': 3058, 'lowered': 3059, 'hilliard': 3060, 'yons': 3061, 'rating': 3062, 'issued': 3063, 'thursday': 3064, 'gid': 3065, 'overpriced': 3066, 'sale': 3067, 'watchist': 3068, 'csc': 3069, 'wonders': 3070, 'cease': 3071, 'included': 3072, 'nti': 3073, 'xay': 3074, 'hta': 3075, 'joker': 3076, 'gaming': 3077, 'amongst': 3078, 'speculators': 3079, 'analysts': 3080, 'ultimately': 3081, 'vxap': 3082, 'tradable': 3083, 'hedged': 3084, 'ibt': 3085, 'tpx': 3086, 'surge': 3087, 'increasing': 3088, 'wealth': 3089, 'column': 3090, 'finviz': 3091, 'sleeping': 3092, 'catalyst': 3093, 'bailed': 3094, 'dropped': 3095, 'rebuy': 3096, 'met': 3097, 'apa': 3098, 'anad': 3099, 'ups': 3100, 'comprehend': 3101, 'asset': 3102, 'died': 3103, 'normal': 3104, 'brain': 3105, 'fart': 3106, 'meant': 3107, 'distrib': 3108, 'designs': 3109, 'itunes': 3110, 'adsk': 3111, 'painting': 3112, 'hundred': 3113, 'ast': 3114, 'penny': 3115, 'transactions': 3116, 'sand': 3117, 'ovi': 3118, 'fbn': 3119, 'changed': 3120, 'actavis': 3121, 'act': 3122, 'bowel': 3123, 'yogurt': 3124, 'ows': 3125, 'protester': 3126, 'reasonable': 3127, 'tibx': 3128, 'todaygap': 3129, 'listenin': 3130, 'station': 3131, 'onto': 3132, 'deals': 3133, 'chy': 3134, 'trainwreck': 3135, 'reloading': 3136, 'temp': 3137, 'trip': 3138, 'candles': 3139, 'miner': 3140, 'drill': 3141, 'hoard': 3142, 'evil': 3143, 'campaignmix': 3144, 'magnet': 3145, 'filling': 3146, 'rollling': 3147, 'folks': 3148, 'vxx': 3149, 'owns': 3150, 'believes': 3151, 'ipads': 3152, 'iphones': 3153, 'benefits': 3154, 'agreed': 3155, 'credit': 3156, 'processing': 3157, 'firms': 3158, 'unable': 3159, 'process': 3160, 'payments': 3161, 'autumn': 3162, 'pal': 3163, 'jazzed': 3164, 'nailed': 3165, 'axe': 3166, 'faved': 3167, 'enfuegomaybe': 3168, 'swi': 3169, 'beaut': 3170, 'herculean': 3171, 'doomsday': 3172, 'hmmm': 3173, 'ouffffff': 3174, 'ratio': 3175, 'zeno': 3176, 'irrelevant': 3177, 'revrs': 3178, 'listened': 3179, 'shocked': 3180, 'prime': 3181, 'accumulating': 3182, 'cancer': 3183, 'patients': 3184, 'aet': 3185, 'job': 3186, 'shaking': 3187, 'retrace': 3188, 'abcd': 3189, 'synonym': 3190, 'agco': 3191, 'kac': 3192, 'mcs': 3193, 'osk': 3194, 'tmo': 3195, 'shoot': 3196, 'mailman': 3197, 'appe': 3198, 'irrational': 3199, 'absurd': 3200, 'valuations': 3201, 'adnc': 3202, 'zmz': 3203, 'research': 3204, 'intetest': 3205, 'sem': 3206, 'follows': 3207, 'tee': 3208, 'moe': 3209, 'hee': 3210, 'coupled': 3211, 'qgc': 3212, 'pure': 3213, 'flash': 3214, 'losing': 3215, 'youth': 3216, 'kiddies': 3217, 'instagram': 3218, 'bar': 3219, 'switch': 3220, 'tracks': 3221, 'cboe': 3222, 'decreasing': 3223, 'decrease': 3224, 'ruin': 3225, 'timing': 3226, 'bagholders': 3227, 'finish': 3228, 'score': 3229, 'esting': 3230, 'favour': 3231, 'gis': 3232, 'dsco': 3233, 'bios': 3234, 'history': 3235, 'cycc': 3236, 'weakest': 3237, 'floor': 3238, 'wouldnt': 3239, 'surprised': 3240, 'spill': 3241, 'tone': 3242, 'zqk': 3243, 'viral': 3244, 'putt': 3245, 'mountain': 3246, 'eft': 3247, 'smallone': 3248, 'beast': 3249, 'mode': 3250, 'insider': 3251, 'partaking': 3252, 'happened': 3253, 'slide': 3254, 'historic': 3255, 'rise': 3256, 'vmi': 3257, 'abv': 3258, 'infn': 3259, 'modicum': 3260, 'corner': 3261, 'gmail': 3262, 'extraordinary': 3263, 'consistent': 3264, 'offs': 3265, 'selloff': 3266, 'aia': 3267, 'patient': 3268, 'myx': 3269, 'surges': 3270, 'yields': 3271, 'cent': 3272, 'magic': 3273, 'stabilization': 3274, 'tested': 3275, 'attempt': 3276, 'ife': 3277, 'disease': 3278, 'cure': 3279, 'believer': 3280, 'stz': 3281, 'drifted': 3282, 'onp': 3283, 'ecent': 3284, 'bases': 3285, 'jva': 3286, 'methods': 3287, 'eyeing': 3288, 'josb': 3289, 'profile': 3290, 'quant': 3291, 'macro': 3292, 'marks': 3293, 'oscillation': 3294, 'outlier': 3295, 'closer': 3296, 'written': 3297, 'ind': 3298, 'unchanged': 3299, 'results': 3300, 'caterpillar': 3301, 'threat': 3302, 'fitch': 3303, 'dropping': 3304, 'clues': 3305, 'wide': 3306, 'kitty': 3307, 'opp': 3308, 'reentry': 3309, 'looms': 3310, 'worse': 3311, 'usual': 3312, 'babylargest': 3313, 'dousing': 3314, 'oil': 3315, 'celebrate': 3316, 'booking': 3317, 'reenter': 3318, 'utilization': 3319, 'lag': 3320, 'div': 3321, 'mps': 3322, 'worked': 3323, 'therebroke': 3324, 'yhod': 3325, 'fact': 3326, 'xrx': 3327, 'golden': 3328, 'fhtm': 3329, 'ripples': 3330, 'throughout': 3331, 'dumb': 3332, 'sna': 3333, 'itll': 3334, 'bullflag': 3335, 'tweezer': 3336, 'popski': 3337, 'aezs': 3338, 'fortune': 3339, 'supplements': 3340, 'press': 3341, 'shouldnt': 3342, 'shock': 3343, 'nobody': 3344, 'attempts': 3345, 'tophigh': 3346, 'grouphave': 3347, 'rallies': 3348, 'methinks': 3349, 'african': 3350, 'technically': 3351, 'petm': 3352, 'water': 3353, 'hose': 3354, 'artificially': 3355, 'proven': 3356, 'stepped': 3357, 'imn': 3358, 'abuse': 3359, 'earththankyou': 3360, 'tct': 3361, 'members': 3362, 'slowing': 3363, 'identical': 3364, 'cliff': 3365, 'dive': 3366, 'plumment': 3367, 'leader': 3368, 'pack': 3369, 'joke': 3370, 'certain': 3371, 'igv': 3372, 'fdn': 3373, 'skyy': 3374, 'mtk': 3375, 'salesforcecom': 3376, 'blackberryz': 3377, 'hotter': 3378, 'wongand': 3379, 'pig': 3380, 'djia': 3381, 'fatty': 3382, 'gamingask': 3383, 'founder': 3384, 'advisor': 3385, 'opportunity': 3386, 'ntap': 3387, 'cloudisdead': 3388, 'ngt': 3389, 'hsbc': 3390, 'comex': 3391, 'bashing': 3392, 'purchased': 3393, 'temporarily': 3394, 'innovative': 3395, 'shape': 3396, 'memory': 3397, 'crappy': 3398, 'map': 3399, 'snippy': 3400, 'siri': 3401, 'bto': 3402, 'olling': 3403, 'dice': 3404, 'consol': 3405, 'mrge': 3406, 'dvn': 3407, 'saucer': 3408, 'yahoo': 3409, 'iberal': 3410, 'hangout': 3411, 'government': 3412, 'speculating': 3413, 'fleeing': 3414, 'ental': 3415, 'shud': 3416, 'skewed': 3417, 'buyback': 3418, 'adjpy': 3419, 'enoc': 3420, 'trim': 3421, 'pbynet': 3422, 'brokerages': 3423, 'pgrade': 3424, 'diff': 3425, 'pbyopen': 3426, 'ktosnet': 3427, 'procter': 3428, 'positons': 3429, 'ampenet': 3430, 'celsion': 3431, 'roller': 3432, 'coaster': 3433, 'sick': 3434, 'generators': 3435, 'ippin': 3436, 'brainer': 3437, 'goldman': 3438, 'ebv': 3439, 'tes': 3440, 'wcx': 3441, 'chomping': 3442, 'revisit': 3443, 'flagging': 3444, 'gpo': 3445, 'funny': 3446, 'fight': 3447, 'saiddont': 3448, 'jungle': 3449, 'apr': 3450, 'planned': 3451, 'fools': 3452, 'errand': 3453, 'tops': 3454, 'bezos': 3455, 'wizardits': 3456, 'gross': 3457, 'margins': 3458, 'grossamazon': 3459, 'streets': 3460, 'minds': 3461, 'hell': 3462, 'ahhhh': 3463, 'bottoming': 3464, 'tan': 3465, 'snssnet': 3466, 'spent': 3467, 'caring': 3468, 'qtr': 3469, 'turned': 3470, 'dime': 3471, 'revealing': 3472, 'younger': 3473, 'xom': 3474, 'playing': 3475, 'poker': 3476, 'patsy': 3477, 'buffett': 3478, 'shorties': 3479, 'navb': 3480, 'vmc': 3481, 'hunting': 3482, 'elephantsa': 3483, 'execution': 3484, 'speaking': 3485, 'vehicles': 3486, 'bucket': 3487, 'harley': 3488, 'deere': 3489, 'venture': 3490, 'lighter': 3491, 'hosted': 3492, 'instance': 3493, 'site': 3494, 'nvidia': 3495, 'competitors': 3496, 'hess': 3497, 'proposed': 3498, 'plans': 3499, 'unlocking': 3500, 'promising': 3501, 'intervention': 3502, 'gdx': 3503, 'gox': 3504, 'gdxj': 3505, 'jones': 3506, 'alcoa': 3507, 'boeing': 3508, 'aaptlye': 3509, 'presentation': 3510, 'creative': 3511, 'mot': 3512, 'cbi': 3513, 'delay': 3514, 'gtenet': 3515, 'deltas': 3516, 'leaning': 3517, 'bpax': 3518, 'buystop': 3519, 'iding': 3520, 'canary': 3521, 'reversing': 3522, 'fas': 3523, 'fedshort': 3524, 'acct': 3525, 'vacuum': 3526, 'cleaner': 3527, 'sandy': 3528, 'shut': 3529, 'ramifications': 3530, 'nervous': 3531, 'peabody': 3532, 'energy': 3533, 'bellow': 3534, 'mgam': 3535, 'miners': 3536, 'fomc': 3537, 'dayeaders': 3538, 'aggards': 3539, 'fighting': 3540, 'fibo': 3541, 'heb': 3542, 'downtend': 3543, 'fidelity': 3544, 'contrafund': 3545, 'untill': 3546, 'reshort': 3547, 'eying': 3548, 'mission': 3549, 'highswithor': 3550, 'juuuuust': 3551, 'dies': 3552, 'reinvent': 3553, 'bgcp': 3554, 'dae': 3555, 'ony': 3556, 'biionyr': 3557, 'insanity': 3558, 'institution': 3559, 'books': 3560, 'tommorow': 3561, 'overdone': 3562, 'crushed': 3563, 'byd': 3564, 'hopefully': 3565, 'poss': 3566, 'sinking': 3567, 'eady': 3568, 'blackrock': 3569, 'filed': 3570, 'pbypdating': 3571, 'overseas': 3572, 'avnw': 3573, 'diego': 3574, 'rocking': 3575, 'todayqcom': 3576, 'bofi': 3577, 'banking': 3578, 'chips': 3579, 'safe': 3580, 'facing': 3581, 'consensus': 3582, 'turner': 3583, 'investments': 3584, 'calamos': 3585, 'purchases': 3586, 'doubled': 3587, 'ops': 3588, 'epsin': 3589, 'accounts': 3590, 'payable': 3591, 'azard': 3592, 'neutral': 3593, 'dark': 3594, 'saft': 3595, 'fxs': 3596, 'asteroids': 3597, 'aex': 3598, 'afg': 3599, 'asfi': 3600, 'athn': 3601, 'becn': 3602, 'tmh': 3603, 'mhk': 3604, 'ibn': 3605, 'aos': 3606, 'aixg': 3607, 'jbht': 3608, 'nhi': 3609, 'kiwis': 3610, 'hello': 3611, 'untouchable': 3612, 'situation': 3613, 'patternibt': 3614, 'hcg': 3615, 'bms': 3616, 'wie': 3617, 'ine': 3618, 'nve': 3619, 'hft': 3620, 'ppt': 3621, 'window': 3622, 'dressing': 3623, 'programs': 3624, 'online': 3625, 'published': 3626, 'estimate': 3627, 'estimize': 3628, 'compared': 3629, 'crossover': 3630, 'monthy': 3631, 'tzoo': 3632, 'fairly': 3633, 'thereafter': 3634, 'causes': 3635, 'concern': 3636, 'epot': 3637, 'vix': 3638, 'laggards': 3639, 'speculative': 3640, 'climaxing': 3641, 'warnings': 3642, 'cbmx': 3643, 'econsider': 3644, 'split': 3645, 'solve': 3646, 'foeve': 3647, 'four': 3648, 'canaries': 3649, 'mine': 3650, 'mac': 3651, 'anounce': 3652, 'itimemachine': 3653, 'boom': 3654, 'rich': 3655, 'fnsr': 3656, 'potentially': 3657, 'capture': 3658, 'primary': 3659, 'wednesday': 3660, 'autonation': 3661, 'stoploss': 3662, 'initially': 3663, 'roth': 3664, 'topped': 3665, 'distribution': 3666, 'stevesteve': 3667, 'bell': 3668, 'netsuite': 3669, 'enterprise': 3670, 'backfill': 3671, 'dwn': 3672, 'pleasantly': 3673, 'shook': 3674, 'jury': 3675, 'plain': 3676, 'fraud': 3677, 'chickens': 3678, 'roost': 3679, 'marissa': 3680, 'fav': 3681, 'frustrated': 3682, 'aises': 3683, 'fronts': 3684, 'enthused': 3685, 'edge': 3686, 'ewy': 3687, 'models': 3688, 'replaced': 3689, 'california': 3690, 'class': 3691, 'mohan': 3692, 'dell': 3693, 'details': 3694, 'iaci': 3695, 'tgh': 3696, 'zzzactly': 3697, 'grown': 3698, 'become': 3699, 'secondbiggest': 3700, 'espn': 3701, 'magical': 3702, 'family': 3703, 'entertainment': 3704, 'web': 3705, 'mixed': 3706, 'underrated': 3707, 'fearing': 3708, 'droptake': 3709, 'producing': 3710, 'pocket': 3711, 'mth': 3712, 'ngvc': 3713, 'wec': 3714, 'pfmt': 3715, 'tts': 3716, 'ahhh': 3717, 'stupid': 3718, 'prelim': 3719, 'esspy': 3720, 'cnbcreal': 3721, 'assessment': 3722, 'reactions': 3723, 'esi': 3724, 'lines': 3725, 'pmi': 3726, 'manufacturing': 3727, 'eslts': 3728, 'eastman': 3729, 'jcc': 3730, 'wheel': 3731, 'house': 3732, 'surprisingly': 3733, 'premiums': 3734, 'nothings': 3735, 'main': 3736, 'bec': 3737, 'tras': 3738, 'batir': 3739, 'rookies': 3740, 'mest': 3741, 'loose': 3742, 'otof': 3743, 'stubborn': 3744, 'ther': 3745, 'othes': 3746, 'nless': 3747, 'aeady': 3748, 'cracked': 3749, 'iht': 3750, 'annd': 3751, 'astm': 3752, 'bankrupcty': 3753, 'obvious': 3754, 'upgrade': 3755, 'sight': 3756, 'cbnet': 3757, 'cbopen': 3758, 'delivering': 3759, 'awesomeness': 3760, 'single': 3761, 'ocks': 3762, 'biased': 3763, 'withing': 3764, 'drummond': 3765, 'attraction': 3766, 'newton': 3767, 'eality': 3768, 'eiterated': 3769, 'discounted': 3770, 'lookin': 3771, 'waking': 3772, 'beforeit': 3773, 'synm': 3774, 'mnx': 3775, 'peaks': 3776, 'investment': 3777, 'goo': 3778, 'wnat': 3779, 'vsn': 3780, 'emember': 3781, 'collapsing': 3782, 'ment': 3783, 'arent': 3784, 'sod': 3785, 'ight': 3786, 'smith': 3787, 'wesson': 3788, 'ater': 3789, 'scm': 3790, 'fruition': 3791, 'nbs': 3792, 'progenitor': 3793, 'sacred': 3794, 'improving': 3795, 'shortly': 3796, 'peix': 3797, 'uponce': 3798, 'tqnt': 3799, 'eckitt': 3800, 'benckiser': 3801, 'ticker': 3802, 'equal': 3803, 'disttgt': 3804, 'moment': 3805, 'dsma': 3806, 'shed': 3807, 'cwt': 3808, 'annual': 3809, 'consecutive': 3810, 'mat': 3811, 'bikram': 3812, 'hear': 3813, 'frond': 3814, 'ladies': 3815, 'snapping': 3816, 'provided': 3817, 'fits': 3818, 'eiffel': 3819, 'tower': 3820, 'fibextension': 3821, 'ter': 3822, 'commented': 3823, 'zynga': 3824, 'ealmoney': 3825, 'games': 3826, 'tendevesa': 3827, 'bdn': 3828, 'gfi': 3829, 'ipg': 3830, 'jci': 3831, 'lining': 3832, 'gtxi': 3833, 'detect': 3834, 'oii': 3835, 'nearterm': 3836, 'region': 3837, 'ati': 3838, 'conside': 3839, 'picte': 3840, 'esymtfspyscecjy': 3841, 'amc': 3842, 'gae': 3843, 'sev': 3844, 'gamestops': 3845, 'tony': 3846, 'bartel': 3847, 'audio': 3848, 'pset': 3849, 'asym': 3850, 'tri': 3851, 'resolution': 3852, 'hoding': 3853, 'nvax': 3854, 'bounced': 3855, 'stoplosses': 3856, 'terranova': 3857, 'marijuana': 3858, 'smoking': 3859, 'mjns': 3860, 'cbis': 3861, 'hemp': 3862, 'biofuels': 3863, 'focus': 3864, 'national': 3865, 'scalps': 3866, 'goweeee': 3867, 'spook': 3868, 'anth': 3869, 'qualcomm': 3870, 'boot': 3871, 'nibbled': 3872, 'edmc': 3873, 'hayn': 3874, 'ezpw': 3875, 'dgit': 3876, 'jny': 3877, 'gff': 3878, 'caci': 3879, 'code': 3880, 'rock': 3881, 'sort': 3882, 'someting': 3883, 'cah': 3884, 'cmi': 3885, 'postearnings': 3886, 'continuous': 3887, 'aware': 3888, 'beaish': 3889, 'fige': 3890, 'tiange': 3891, 'inplay': 3892, 'seeturn': 3893, 'nonsensetrust': 3894, 'edon': 3895, 'runs': 3896, 'silent': 3897, 'horrible': 3898, 'employees': 3899, 'collection': 3900, 'dexo': 3901, 'arnd': 3902, 'loading': 3903, 'otm': 3904, 'tandem': 3905, 'bounces': 3906, 'mhp': 3907, 'effort': 3908, 'csnpdating': 3909, 'chatter': 3910, 'laugh': 3911, 'incredible': 3912, 'sides': 3913, 'hesitation': 3914, 'cbk': 3915, 'hrly': 3916, 'considering': 3917, 'commitment': 3918, 'mrk': 3919, 'ollover': 3920, 'flat': 3921, 'seemed': 3922, 'valero': 3923, 'certainly': 3924, 'compare': 3925, 'revenue': 3926, 'minor': 3927, 'beginning': 3928, 'crossed': 3929, 'bough': 3930, 'updown': 3931, 'zgnx': 3932, 'mco': 3933, 'moodys': 3934, 'threaten': 3935, 'sovereign': 3936, 'response': 3937, 'mortgage': 3938, 'suggested': 3939, 'follower': 3940, 'justice': 3941, 'ratings': 3942, 'civil': 3943, 'caseno': 3944, 'criminal': 3945, 'charges': 3946, 'date': 3947, 'denied': 3948, 'qik': 3949, 'functionality': 3950, 'loses': 3951, 'costservice': 3952, 'deferred': 3953, 'backend': 3954, 'loaded': 3955, 'tough': 3956, 'esx': 3957, 'kwkscaling': 3958, 'rattlesnake': 3959, 'exas': 3960, 'seriously': 3961, 'doubt': 3962, 'accounting': 3963, 'tricks': 3964, 'porn': 3965, 'pokeher': 3966, 'steroids': 3967, 'equator': 3968, 'tied': 3969, 'heavily': 3970, 'absent': 3971, 'persists': 3972, 'dilute': 3973, 'amazed': 3974, 'recognition': 3975, 'undertheradar': 3976, 'subtle': 3977, 'occurred': 3978, 'radartoday': 3979, 'citigroup': 3980, 'initiatedat': 3981, 'boken': 3982, 'dov': 3983, 'tading': 3984, 'eanings': 3985, 'btwn': 3986, 'incredibly': 3987, 'hugest': 3988, 'insiders': 3989, 'iger': 3990, 'dps': 3991, 'pan': 3992, 'addon': 3993, 'ock': 3994, 'faster': 3995, 'squeezing': 3996, 'preferably': 3997, 'tired': 3998, 'jon': 3999, 'stewart': 4000, 'everything': 4001, 'dangerous': 4002, 'hysterical': 4003, 'office': 4004, 'circa': 4005, 'yay': 4006, 'sudden': 4007, 'lifting': 4008, 'attack': 4009, 'tesla': 4010, 'tsla': 4011, 'freefalling': 4012, 'reloaded': 4013, 'attract': 4014, 'twx': 4015, 'nicel': 4016, 'thinks': 4017, 'insight': 4018, 'alka': 4019, 'seltzer': 4020, 'sponsor': 4021, 'gives': 4022, 'affy': 4023, 'ecb': 4024, 'boe': 4025, 'shortfest': 4026, 'gcf': 4027, 'sps': 4028, 'disc': 4029, 'profitable': 4030, 'useful': 4031, 'postal': 4032, 'negatives': 4033, 'joy': 4034, 'anticipate': 4035, 'najarian': 4036, 'pps': 4037, 'pcp': 4038, 'steps': 4039, 'focusing': 4040, 'distributing': 4041, 'digital': 4042, 'physical': 4043, 'owners': 4044, 'bombs': 4045, 'bail': 4046, 'masse': 4047, 'fee': 4048, 'motime': 4049, 'sotp': 4050, 'tbi': 4051, 'staffing': 4052, 'amsc': 4053, 'ttmi': 4054, 'prudential': 4055, 'liquidates': 4056, 'ship': 4057, 'lifeboats': 4058, 'bas': 4059, 'secular': 4060, 'cooper': 4061, 'exhausted': 4062, 'esecjnkdax': 4063, 'diverging': 4064, 'mkts': 4065, 'pulled': 4066, 'outperf': 4067, 'mktperform': 4068, 'royalties': 4069, 'surging': 4070, 'japan': 4071, 'sheet': 4072, 'alibaba': 4073, 'efi': 4074, 'globally': 4075, 'sss': 4076, 'plant': 4077, 'sour': 4078, 'einhorn': 4079, 'poxy': 4080, 'bailing': 4081, 'bleeds': 4082, 'comparison': 4083, 'benchmark': 4084, 'exc': 4085, 'undervalued': 4086, 'stochastic': 4087, 'googlong': 4088, 'yhoolong': 4089, 'iafter': 4090, 'fit': 4091, 'advertidsing': 4092, 'scratching': 4093, 'refiner': 4094, 'screwed': 4095, 'trapped': 4096, 'preferred': 4097, 'words': 4098, 'orillard': 4099, 'omen': 4100, 'bankruptcy': 4101, 'abating': 4102, 'woods': 4103, 'bringing': 4104, 'heres': 4105, 'saturated': 4106, 'fresh': 4107, 'coinstar': 4108, 'elliottwave': 4109, 'med': 4110, 'setps': 4111, 'variety': 4112, 'tzym': 4113, 'jag': 4114, 'idix': 4115, 'omx': 4116, 'bricks': 4117, 'mortar': 4118, 'dinosaur': 4119, 'retailing': 4120, 'cdx': 4121, 'diving': 4122, 'schwab': 4123, 'spinoff': 4124, 'successes': 4125, 'loving': 4126, 'stocktiger': 4127, 'jet': 4128, 'eport': 4129, 'strides': 4130, 'cab': 4131, 'choppy': 4132, 'grandma': 4133, 'mtx': 4134, 'attacking': 4135, 'multi': 4136, 'gntx': 4137, 'gentex': 4138, 'hardest': 4139, 'climbing': 4140, 'stairs': 4141, 'sustain': 4142, 'essxupdating': 4143, 'evenues': 4144, 'scuff': 4145, 'innovate': 4146, 'schwing': 4147, 'bingo': 4148, 'gamblingaddict': 4149, 'spend': 4150, 'aka': 4151, 'steal': 4152, 'buythedips': 4153, 'linear': 4154, 'extrapolation': 4155, 'accelerating': 4156, 'streaming': 4157, 'movies': 4158, 'clarity': 4159, 'awful': 4160, 'skip': 4161, 'connections': 4162, 'fashioned': 4163, 'dvds': 4164, 'ntil': 4165, 'improve': 4166, 'skipping': 4167, 'stickin': 4168, 'msg': 4169, 'profitsboy': 4170, 'costs': 4171, 'goofy': 4172, 'acquistion': 4173, 'citing': 4174, 'dispensers': 4175, 'absolutely': 4176, 'delicious': 4177, 'cpb': 4178, 'campbells': 4179, 'soup': 4180, 'squared': 4181, 'fascinating': 4182, 'email': 4183, 'chain': 4184, 'debating': 4185, 'merits': 4186, 'preferreds': 4187, 'sat': 4188, 'mail': 4189, 'record': 4190, 'james': 4191, 'jamba': 4192, 'turnaround': 4193, 'vimeo': 4194, 'conviction': 4195, 'lnkd': 4196, 'mention': 4197, 'mellisa': 4198, 'osg': 4199, 'bio': 4200, 'mts': 4201, 'dynt': 4202, 'wyy': 4203, 'track': 4204, 'perky': 4205, 'gess': 4206, 'cose': 4207, 'timestamp': 4208, 'limb': 4209, 'repeats': 4210, 'adde': 4211, 'cmgo': 4212, 'related': 4213, 'versus': 4214, 'nem': 4215, 'dayothers': 4216, 'europe': 4217, 'bast': 4218, 'separation': 4219, 'pile': 4220, 'thailandeven': 4221, 'taxi': 4222, 'drivers': 4223, 'rotation': 4224, 'grasso': 4225, 'argument': 4226, 'opk': 4227, 'wick': 4228, 'planking': 4229, 'stand': 4230, 'eeves': 4231, 'discuss': 4232, 'inkedin': 4233, 'slant': 4234, 'mww': 4235, 'actv': 4236, 'mcgrawhill': 4237, 'agency': 4238, 'place': 4239, 'brandon': 4240, 'sidelines': 4241, 'swear': 4242, 'cuban': 4243, 'aapimhowill': 4244, 'newssorry': 4245, 'offend': 4246, 'anyoneg': 4247, 'warriors': 4248, 'firing': 4249, 'cylinders': 4250, 'sto': 4251, 'premium': 4252, 'polyone': 4253, 'managers': 4254, 'risking': 4255, 'escspe': 4256, 'damodaran': 4257, 'eric': 4258, 'schmidt': 4259, 'roughly': 4260, 'hekscaling': 4261, 'isisscaling': 4262, 'epssales': 4263, 'legged': 4264, 'sergey': 4265, 'sharesand': 4266, 'erics': 4267, 'twits': 4268, 'buyer': 4269, 'fxe': 4270, 'buffets': 4271, 'mtb': 4272, 'mcbc': 4273, 'pxc': 4274, 'liking': 4275, 'write': 4276, 'available': 4277, 'drives': 4278, 'rumor': 4279, 'highvolume': 4280, 'digits': 4281, 'agnc': 4282, 'mbs': 4283, 'awaited': 4284, 'movements': 4285, 'wil': 4286, 'bollinger': 4287, 'flaghorizontal': 4288, 'commentary': 4289, 'initiates': 4290, 'coverage': 4291, 'hca': 4292, 'ptbreakout': 4293, 'hek': 4294, 'septvery': 4295, 'iwatch': 4296, 'becefull': 4297, 'barrons': 4298, 'adm': 4299, 'various': 4300, 'jazz': 4301, 'pcyc': 4302, 'suddenly': 4303, 'jumped': 4304, 'forgot': 4305, 'annoyed': 4306, 'steadily': 4307, 'grab': 4308, 'gmx': 4309, 'wound': 4310, 'hum': 4311, 'ida': 4312, 'postive': 4313, 'nyc': 4314, 'bagger': 4315, 'pizza': 4316, 'carbs': 4317, 'dominos': 4318, 'lies': 4319, 'essxnet': 4320, 'dvax': 4321, 'endp': 4322, 'jef': 4323, 'reco': 4324, 'kosuhoh': 4325, 'mnkopen': 4326, 'gambling': 4327, 'bill': 4328, 'eminent': 4329, 'pcs': 4330, 'shhhhh': 4331, 'abouve': 4332, 'nyt': 4333, 'writer': 4334, 'elon': 4335, 'log': 4336, 'detour': 4337, 'settling': 4338, 'pbyscaling': 4339, 'damage': 4340, 'longerterm': 4341, 'spoke': 4342, 'hummmm': 4343, 'speech': 4344, 'disappointed': 4345, 'gimme': 4346, 'tmrw': 4347, 'nasty': 4348, 'sideline': 4349, 'shareholder': 4350, 'anticipation': 4351, 'shareholders': 4352, 'tweets': 4353, 'invensense': 4354, 'esrx': 4355, 'omex': 4356, 'odysseys': 4357, 'ecord': 4358, 'ecovery': 4359, 'featured': 4360, 'discovery': 4361, 'sive': 4362, 'premieres': 4363, 'february': 4364, 'pmet': 4365, 'evc': 4366, 'amznheaded': 4367, 'thick': 4368, 'fos': 4369, 'founders': 4370, 'basically': 4371, 'szym': 4372, 'legs': 4373, 'champ': 4374, 'discussions': 4375, 'appreciate': 4376, 'onewatch': 4377, 'breakoutgood': 4378, 'mitk': 4379, 'tension': 4380, 'creeps': 4381, 'obama': 4382, 'comeback': 4383, 'joe': 4384, 'yge': 4385, 'feet': 4386, 'jaso': 4387, 'yday': 4388, 'inquire': 4389, 'indictments': 4390, 'faced': 4391, 'numberswalk': 4392, 'opxa': 4393, 'heoopen': 4394, 'heosecond': 4395, 'heothird': 4396, 'multiyr': 4397, 'shark': 4398, 'heonet': 4399, 'nihd': 4400, 'mails': 4401, 'realized': 4402, 'enjoying': 4403, 'historical': 4404, 'grasp': 4405, 'corrective': 4406, 'forces': 4407, 'holla': 4408, 'match': 4409, 'reputation': 4410, 'destroyer': 4411, 'anytime': 4412, 'friction': 4413, 'csnscaling': 4414, 'becoming': 4415, 'sloping': 4416, 'lowermacd': 4417, 'downnegative': 4418, 'followthrough': 4419, 'spw': 4420, 'straddle': 4421, 'sunpower': 4422, 'corporation': 4423, 'loser': 4424, 'maintaining': 4425, 'dhi': 4426, 'breather': 4427, 'efficient': 4428, 'merrill': 4429, 'pms': 4430, 'betray': 4431, 'heplisav': 4432, 'fda': 4433, 'trials': 4434, 'govx': 4435, 'vts': 4436, 'mins': 4437, 'booked': 4438, 'returns': 4439, 'frame': 4440, 'crapple': 4441, 'failing': 4442, 'fiscal': 4443, 'president': 4444, 'vmware': 4445, 'wishes': 4446, 'dealing': 4447, 'complex': 4448, 'manufactured': 4449, 'smaller': 4450, 'wages': 4451, 'unions': 4452, 'xhb': 4453, 'computers': 4454, 'tablets': 4455, 'pinto': 4456, 'swiped': 4457, 'behind': 4458, 'cmcsa': 4459, 'ebix': 4460, 'positiverising': 4461, 'cmf': 4462, 'obimed': 4463, 'advisos': 4464, 'pots': 4465, 'remarks': 4466, 'fied': 4467, 'qick': 4468, 'nickes': 4469, 'rises': 4470, 'pending': 4471, 'refreshes': 4472, 'gartley': 4473, 'acw': 4474, 'achn': 4475, 'ibcp': 4476, 'stpzgnx': 4477, 'rough': 4478, 'delivered': 4479, 'exceeded': 4480, 'etfs': 4481, 'safer': 4482, 'individual': 4483, 'fdo': 4484, 'annie': 4485, 'regularly': 4486, 'hopes': 4487, 'hain': 4488, 'diversified': 4489, 'sooner': 4490, 'unp': 4491, 'letting': 4492, 'ezch': 4493, 'supplier': 4494, 'commswitch': 4495, 'cos': 4496, 'performs': 4497, 'touching': 4498, 'bband': 4499, 'previously': 4500, 'cimt': 4501, 'player': 4502, 'imaging': 4503, 'cad': 4504, 'explosive': 4505, 'sdiv': 4506, 'onvo': 4507, 'dasty': 4508, 'andthe': 4509, 'grammys': 4510, 'hashtags': 4511, 'sting': 4512, 'excited': 4513, 'retained': 4514, 'fcf': 4515, 'growin': 4516, 'lifestyle': 4517, 'slowdown': 4518, 'farming': 4519, 'abroad': 4520, 'axs': 4521, 'services': 4522, 'highquality': 4523, 'alternatives': 4524, 'essentially': 4525, 'cools': 4526, 'jose': 4527, 'pep': 4528, 'heard': 4529, 'oups': 4530, 'sellof': 4531, 'vivid': 4532, 'healty': 4533, 'occur': 4534, 'carrying': 4535, 'remainder': 4536, 'smucker': 4537, 'sjm': 4538, 'schulze': 4539, 'considers': 4540, 'disclosure': 4541, 'cashing': 4542, 'underwriting': 4543, 'crisco': 4544, 'calmustang': 4545, 'omega': 4546, 'entire': 4547, 'happening': 4548, 'valued': 4549, 'valentine': 4550, 'opex': 4551, 'awc': 4552, 'jcom': 4553, 'bco': 4554, 'vck': 4555, 'sgen': 4556, 'mbfi': 4557, 'hnz': 4558, 'hsy': 4559, 'warren': 4560, 'chocolate': 4561, 'coke': 4562, 'reclaim': 4563, 'nelson': 4564, 'peltz': 4565, 'trian': 4566, 'designed': 4567, 'ketchup': 4568, 'packets': 4569, 'wendys': 4570, 'peltzs': 4571, 'eurozone': 4572, 'plunge': 4573, 'stokes': 4574, 'ratecut': 4575, 'troubling': 4576, 'ahhhhh': 4577, 'estate': 4578, 'wit': 4579, 'newmomostocks': 4580, 'etter': 4581, 'precaution': 4582, 'sentence': 4583, 'synt': 4584, 'blocks': 4585, 'unbelievable': 4586, 'round': 4587, 'sluggishly': 4588, 'invalidating': 4589, 'checkout': 4590, 'men': 4591, 'valentines': 4592, 'flowers': 4593, 'candy': 4594, 'beneath': 4595, 'recently': 4596, 'harbor': 4597, 'valueplays': 4598, 'hhc': 4599, 'dds': 4600, 'ggp': 4601, 'kicking': 4602, 'stroke': 4603, 'brush': 4604, 'partial': 4605, 'aising': 4606, 'altho': 4607, 'nonetheless': 4608, 'cnh': 4609, 'ivan': 4610, 'gapfill': 4611, 'eclipsed': 4612, 'initial': 4613, 'rotating': 4614, 'junk': 4615, 'solars': 4616, 'inflation': 4617, 'halliburton': 4618, 'monster': 4619, 'empire': 4620, 'tempted': 4621, 'onnn': 4622, 'tiger': 4623, 'aised': 4624, 'groupon': 4625, 'indeed': 4626, 'hurdled': 4627, 'ibby': 4628, 'hmc': 4629, 'trusting': 4630, 'dumped': 4631, 'latter': 4632, 'disinfo': 4633, 'agents': 4634, 'appearing': 4635, 'goreally': 4636, 'electic': 4637, 'cars': 4638, 'mainstream': 4639, 'rebounded': 4640, 'strongly': 4641, 'cnn': 4642, 'reporters': 4643, 'finishing': 4644, 'boston': 4645, 'prob': 4646, 'cameras': 4647, 'car': 4648, 'estfymspyiwmdia': 4649, 'fags': 4650, 'lite': 4651, 'foreign': 4652, 'gutted': 4653, 'abx': 4654, 'plunges': 4655, 'sixmonth': 4656, 'kft': 4657, 'aep': 4658, 'patiently': 4659, 'daa': 4660, 'zot': 4661, 'dzz': 4662, 'iep': 4663, 'meko': 4664, 'wtsa': 4665, 'qgen': 4666, 'atm': 4667, 'bying': 4668, 'equities': 4669, 'esearch': 4670, 'snake': 4671, 'earlybut': 4672, 'meyou': 4673, 'zgnxcmon': 4674, 'pint': 4675, 'montlu': 4676, 'iphi': 4677, 'cay': 4678, 'qco': 4679, 'scalping': 4680, 'accidentally': 4681, 'explaination': 4682, 'lame': 4683, 'horse': 4684, 'meat': 4685, 'questcor': 4686, 'ises': 4687, 'nusually': 4688, 'closethat': 4689, 'walmart': 4690, 'internal': 4691, 'communications': 4692, 'entirely': 4693, 'accurate': 4694, 'payroll': 4695, 'taxes': 4696, 'eating': 4697, 'schmuck': 4698, 'insurance': 4699, 'waged': 4700, 'war': 4701, 'ackman': 4702, 'canadian': 4703, 'mtyca': 4704, 'choice': 4705, 'valueinvesting': 4706, 'scared': 4707, 'soncopen': 4708, 'nusual': 4709, 'sgy': 4710, 'shedding': 4711, 'example': 4712, 'several': 4713, 'zoom': 4714, 'bcd': 4715, 'buzz': 4716, 'series': 4717, 'pip': 4718, 'fancy': 4719, 'required': 4720, 'team': 4721, 'operation': 4722, 'grewal': 4723, 'manner': 4724, 'btw': 4725, 'rockets': 4726, 'mtg': 4727, 'tue': 4728, 'stalk': 4729, 'kicker': 4730, 'acco': 4731, 'dmd': 4732, 'npsp': 4733, 'oeh': 4734, 'ozm': 4735, 'teo': 4736, 'umored': 4737, 'tablet': 4738, 'tegra': 4739, 'chip': 4740, 'fridayacts': 4741, 'dreky': 4742, 'chunks': 4743, 'cjes': 4744, 'pward': 4745, 'shortmedium': 4746, 'rival': 4747, 'maniacsco': 4748, 'bound': 4749, 'diversify': 4750, 'jmho': 4751, 'chinas': 4752, 'joint': 4753, 'trumps': 4754, 'aluminum': 4755, 'wyn': 4756, 'century': 4757, 'distrusts': 4758, 'soros': 4759, 'abbott': 4760, 'tea': 4761, 'crumpets': 4762, 'horz': 4763, 'infi': 4764, 'shanghai': 4765, 'composite': 4766, 'supprt': 4767, 'ntes': 4768, 'soh': 4769, 'yok': 4770, 'yzc': 4771, 'xme': 4772, 'pharmaceuticals': 4773, 'xii': 4774, 'pcoming': 4775, 'presentations': 4776, 'wanna': 4777, 'damn': 4778, 'foot': 4779, 'bode': 4780, 'mge': 4781, 'chooo': 4782, 'choo': 4783, 'breached': 4784, 'greedythoughts': 4785, 'whoopsie': 4786, 'costco': 4787, 'sed': 4788, 'tiffany': 4789, 'describe': 4790, 'ings': 4791, 'excsive': 4792, 'tif': 4793, 'lod': 4794, 'bollingerband': 4795, 'adx': 4796, 'tryin': 4797, 'reflect': 4798, 'severly': 4799, 'overinflated': 4800, 'rated': 4801, 'egional': 4802, 'npbc': 4803, 'bankrupt': 4804, 'csiq': 4805, 'positivewould': 4806, 'monthend': 4807, 'che': 4808, 'healthcare': 4809, 'svs': 4810, 'heave': 4811, 'soncscaling': 4812, 'dvaxopen': 4813, 'dojis': 4814, 'tsco': 4815, 'sideways': 4816, 'seal': 4817, 'osv': 4818, 'fundamentally': 4819, 'aapproducts': 4820, 'archer': 4821, 'daniels': 4822, 'midland': 4823, 'obin': 4824, 'boing': 4825, 'fmx': 4826, 'eww': 4827, 'uptrending': 4828, 'asc': 4829, 'nts': 4830, 'sgi': 4831, 'oilwell': 4832, 'varco': 4833, 'ndervalued': 4834, 'mdx': 4835, 'ope': 4836, 'sta': 4837, 'ctt': 4838, 'awi': 4839, 'underlying': 4840, 'posting': 4841, 'emashortterm': 4842, 'joining': 4843, 'screener': 4844, 'volover': 4845, 'divypeg': 4846, 'inst': 4847, 'trans': 4848, 'qqshort': 4849, 'gmn': 4850, 'bhp': 4851, 'neog': 4852, 'fundamental': 4853, 'pside': 4854, 'pauses': 4855, 'isg': 4856, 'infancythe': 4857, 'zbf': 4858, 'trxfr': 4859, 'nsph': 4860, 'swingtrade': 4861, 'mhopen': 4862, 'reported': 4863, 'uptick': 4864, 'minded': 4865, 'eaches': 4866, 'context': 4867, 'digested': 4868, 'ctgx': 4869, 'recovery': 4870, 'reasonably': 4871, 'advance': 4872, 'aee': 4873, 'boring': 4874, 'reach': 4875, 'minus': 4876, 'upbut': 4877, 'whos': 4878, 'amount': 4879, 'wen': 4880, 'fnfgnet': 4881, 'pomos': 4882, 'flowing': 4883, 'derivatives': 4884, 'winthorpe': 4885, 'fnfgopen': 4886, 'dunkin': 4887, 'donuts': 4888, 'glass': 4889, 'coool': 4890, 'glade': 4891, 'overlaid': 4892, 'integrated': 4893, 'modem': 4894, 'launch': 4895, 'thatd': 4896, 'proposition': 4897, 'source': 4898, 'bias': 4899, 'returning': 4900, 'otus': 4901, 'emulate': 4902, 'invite': 4903, 'phi': 4904, 'auto': 4905, 'cutting': 4906, 'losses': 4907, 'indexes': 4908, 'fallingknife': 4909, 'pdating': 4910, 'homebuilders': 4911, 'metric': 4912, 'musk': 4913, 'matures': 4914, 'grows': 4915, 'notacarcompany': 4916, 'headnshldrs': 4917, 'longside': 4918, 'materialize': 4919, 'meanwhile': 4920, 'decaying': 4921, 'verifone': 4922, 'fyq': 4923, 'mile': 4924, 'counter': 4925, 'whoa': 4926, 'catalysts': 4927, 'resis': 4928, 'rose': 4929, 'dusts': 4930, 'settleits': 4931, 'normans': 4932, 'land': 4933, 'mims': 4934, 'cliffs': 4935, 'natural': 4936, 'beep': 4937, 'sizes': 4938, 'proportionate': 4939, 'afford': 4940, 'jack': 4941, 'burger': 4942, 'updeclining': 4943, 'employment': 4944, 'zte': 4945, 'sec': 4946, 'investigation': 4947, 'citron': 4948, 'eleased': 4949, 'inaccurate': 4950, 'information': 4951, 'downgrades': 4952, 'hsni': 4953, 'diluted': 4954, 'whisper': 4955, 'broader': 4956, 'movement': 4957, 'psti': 4958, 'bands': 4959, 'safm': 4960, 'boomfeb': 4961, 'slower': 4962, 'planneddue': 4963, 'refunds': 4964, 'simonceo': 4965, 'wmts': 4966, 'murder': 4967, 'heocover': 4968, 'positionnet': 4969, 'vod': 4970, 'catching': 4971, 'knives': 4972, 'onger': 4973, 'flier': 4974, 'buyem': 4975, 'ocker': 4976, 'doubted': 4977, 'official': 4978, 'breaktrigger': 4979, 'sdpdating': 4980, 'koolaide': 4981, 'mediawhore': 4982, 'tests': 4983, 'peg': 4984, 'soaring': 4985, 'picturebullish': 4986, 'volumebuying': 4987, 'theyre': 4988, 'faz': 4989, 'dvaxscaling': 4990, 'visa': 4991, 'nderway': 4992, 'dear': 4993, 'igreed': 4994, 'conferences': 4995, 'nsdq': 4996, 'tips': 4997, 'guests': 4998, 'lotto': 4999, 'misstype': 5000, 'ties': 5001, 'fashology': 5002, 'theme': 5003, 'warby': 5004, 'parker': 5005, 'stresstest': 5006, 'itoilet': 5007, 'correlated': 5008, 'xone': 5009, 'toe': 5010, 'everyway': 5011, 'diamond': 5012, 'pricesimo': 5013, 'feds': 5014, 'bullard': 5015, 'policy': 5016, 'react': 5017, 'forward': 5018, 'cog': 5019, 'edc': 5020, 'tna': 5021, 'jwn': 5022, 'ndc': 5023, 'approved': 5024, 'license': 5025, 'prediction': 5026, 'ystdys': 5027, 'isisnet': 5028, 'edges': 5029, 'budget': 5030, 'carriers': 5031, 'yaay': 5032, 'depoopen': 5033, 'enterim': 5034, 'milion': 5035, 'products': 5036, 'horizon': 5037, 'attempting': 5038, 'cytxopen': 5039, 'alternative': 5040, 'bakken': 5041, 'dakota': 5042, 'iet': 5043, 'struggle': 5044, 'fading': 5045, 'wbmd': 5046, 'eon': 5047, 'failure': 5048, 'mnknet': 5049, 'runup': 5050, 'ankle': 5051, 'session': 5052, 'fyi': 5053, 'tagged': 5054, 'trendlines': 5055, 'obligatory': 5056, 'dough': 5057, 'syx': 5058, 'legalize': 5059, 'nev': 5060, 'uprotation': 5061, 'bothered': 5062, 'tractionno': 5063, 'userglass': 5064, 'creep': 5065, 'appeals': 5066, 'hipsters': 5067, 'pervs': 5068, 'voice': 5069, 'cmd': 5070, 'ohno': 5071, 'delightfully': 5072, 'amusing': 5073, 'titled': 5074, 'worlds': 5075, 'valuable': 5076, 'govt': 5077, 'conspired': 5078, 'carry': 5079, 'sneaky': 5080, 'arching': 5081, 'weeeeee': 5082, 'repeated': 5083, 'bgmd': 5084, 'mill': 5085, 'witnessed': 5086, 'busy': 5087, 'retreat': 5088, 'digesting': 5089, 'som': 5090, 'eprofit': 5091, 'heating': 5092, 'azk': 5093, 'cenx': 5094, 'emk': 5095, 'mvg': 5096, 'qty': 5097, 'tas': 5098, 'vocs': 5099, 'hoping': 5100, 'upstrong': 5101, 'penant': 5102, 'gaz': 5103, 'aaaand': 5104, 'oscas': 5105, 'ush': 5106, 'nkt': 5107, 'iking': 5108, 'aim': 5109, 'tot': 5110, 'asm': 5111, 'deo': 5112, 'dst': 5113, 'pso': 5114, 'fxy': 5115, 'gsk': 5116, 'ngg': 5117, 'dipping': 5118, 'adn': 5119, 'confusion': 5120, 'ebounds': 5121, 'euro': 5122, 'peoples': 5123, 'tradenext': 5124, 'noticing': 5125, 'candlessupport': 5126, 'italian': 5127, 'ridiculous': 5128, 'obviously': 5129, 'itm': 5130, 'dvaxnet': 5131, 'ftnt': 5132, 'hacker': 5133, 'attacks': 5134, 'cyber': 5135, 'security': 5136, 'hig': 5137, 'crew': 5138, 'cause': 5139, 'genius': 5140, 'pdate': 5141, 'chop': 5142, 'shortages': 5143, 'swc': 5144, 'cveto': 5145, 'bernanke': 5146, 'sonfidence': 5147, 'pare': 5148, 'stance': 5149, 'collapses': 5150, 'motley': 5151, 'fool': 5152, 'apologizes': 5153, 'lobbyist': 5154, 'harm': 5155, 'trail': 5156, 'cvm': 5157, 'taiwanese': 5158, 'partner': 5159, 'additional': 5160, 'clinical': 5161, 'centers': 5162, 'trial': 5163, 'multikin': 5164, 'axn': 5165, 'cpx': 5166, 'wise': 5167, 'bug': 5168, 'patch': 5169, 'nuthin': 5170, 'self': 5171, 'exbuy': 5172, 'receiving': 5173, 'kyearly': 5174, 'bax': 5175, 'avp': 5176, 'tat': 5177, 'everyday': 5178, 'hangouts': 5179, 'pat': 5180, 'updatehedge': 5181, 'phoenix': 5182, 'reference': 5183, 'mwc': 5184, 'sachs': 5185, 'cuts': 5186, 'forecast': 5187, 'emerge': 5188, 'beder': 5189, 'brean': 5190, 'launches': 5191, 'nsinkable': 5192, 'initiating': 5193, 'ating': 5194, 'refuge': 5195, 'storm': 5196, 'doe': 5197, 'meeting': 5198, 'hedgies': 5199, 'iag': 5200, 'depocover': 5201, 'imagined': 5202, 'dumps': 5203, 'wet': 5204, 'pharms': 5205, 'jail': 5206, 'sabotage': 5207, 'saboteurs': 5208, 'fbi': 5209, 'beaten': 5210, 'pounding': 5211, 'tail': 5212, 'wagged': 5213, 'taste': 5214, 'bewae': 5215, 'plaything': 5216, 'ultra': 5217, 'pool': 5218, 'wilbur': 5219, 'rumours': 5220, 'idontthinkso': 5221, 'todaywanted': 5222, 'lighten': 5223, 'uncertainty': 5224, 'gggg': 5225, 'signed': 5226, 'svm': 5227, 'svc': 5228, 'dsv': 5229, 'hdge': 5230, 'timonium': 5231, 'studio': 5232, 'pzza': 5233, 'closethen': 5234, 'riggednahhh': 5235, 'curling': 5236, 'avy': 5237, 'exh': 5238, 'breaked': 5239, 'psn': 5240, 'fshort': 5241, 'perfected': 5242, 'sequential': 5243, 'todaystarted': 5244, 'huntington': 5245, 'aunches': 5246, 'spartans': 5247, 'debit': 5248, 'michigan': 5249, 'niversity': 5250, 'fans': 5251, 'transports': 5252, 'agt': 5253, 'southern': 5254, 'comfort': 5255, 'oops': 5256, 'jjc': 5257, 'iswing': 5258, 'sectors': 5259, 'knockout': 5260, 'punch': 5261, 'former': 5262, 'computer': 5263, 'released': 5264, 'historically': 5265, 'ipod': 5266, 'thorn': 5267, 'nited': 5268, 'states': 5269, 'timmy': 5270, 'cooks': 5271, 'bookings': 5272, 'acceleration': 5273, 'alpha': 5274, 'appealing': 5275, 'cme': 5276, 'fatigue': 5277, 'matrix': 5278, 'jersey': 5279, 'egalize': 5280, 'explain': 5281, 'salesman': 5282, 'capes': 5283, 'holder': 5284, 'yryr': 5285, 'bifurcated': 5286, 'aways': 5287, 'ignored': 5288, 'complained': 5289, 'mpc': 5290, 'marathon': 5291, 'petroleum': 5292, 'payday': 5293, 'pressured': 5294, 'tensions': 5295, 'strutting': 5296, 'cruising': 5297, 'chatting': 5298, 'jinxing': 5299, 'flinching': 5300, 'remake': 5301, 'television': 5302, 'predicted': 5303, 'male': 5304, 'peacocks': 5305, 'actual': 5306, 'downdraft': 5307, 'takers': 5308, 'vapourware': 5309, 'peeps': 5310, 'gonzo': 5311, 'hates': 5312, 'bka': 5313, 'nomorevolume': 5314, 'chear': 5315, 'holics': 5316, 'allot': 5317, 'butchered': 5318, 'groupons': 5319, 'flushed': 5320, 'tinkering': 5321, 'customer': 5322, 'wiped': 5323, 'operate': 5324, 'blame': 5325, 'heggies': 5326, 'darkpools': 5327, 'pitching': 5328, 'owered': 5329, 'korean': 5330, 'kansas': 5331, 'city': 5332, 'ailroad': 5333, 'goodstill': 5334, 'nyse': 5335, 'nya': 5336, 'quietly': 5337, 'grinding': 5338, 'jah': 5339, 'jaden': 5340, 'czo': 5341, 'sqqq': 5342, 'tqqq': 5343, 'spxs': 5344, 'sdow': 5345, 'penney': 5346, 'jpmorgan': 5347, 'consider': 5348, 'sprint': 5349, 'significantly': 5350, 'summer': 5351, 'bearsshorts': 5352, 'sun': 5353, 'ami': 5354, 'batch': 5355, 'hatch': 5356, 'ffch': 5357, 'pound': 5358, 'issue': 5359, 'anik': 5360, 'typed': 5361, 'ngf': 5362, 'supplies': 5363, 'eca': 5364, 'leaving': 5365, 'oomph': 5366, 'creeping': 5367, 'peeling': 5368, 'design': 5369, 'click': 5370, 'layered': 5371, 'object': 5372, 'graphic': 5373, 'creates': 5374, 'busted': 5375, 'anticipating': 5376, 'gnw': 5377, 'invested': 5378, 'elephants': 5379, 'battle': 5380, 'youll': 5381, 'collateral': 5382, 'legalization': 5383, 'affx': 5384, 'yup': 5385, 'easoning': 5386, 'innuendos': 5387, 'crap': 5388, 'mayo': 5389, 'ashamed': 5390, 'hugging': 5391, 'backing': 5392, 'truck': 5393, 'balances': 5394, 'avail': 5395, 'somehow': 5396, 'redemptions': 5397, 'jcpenney': 5398, 'movecraziness': 5399, 'mons': 5400, 'broad': 5401, 'isrg': 5402, 'probed': 5403, 'literally': 5404, 'regulators': 5405, 'text': 5406, 'efkofsky': 5407, 'count': 5408, 'dude': 5409, 'situations': 5410, 'rehash': 5411, 'mason': 5412, 'elephant': 5413, 'review': 5414, 'tenth': 5415, 'euters': 5416, 'kwk': 5417, 'reviewif': 5418, 'aiz': 5419, 'ndaq': 5420, 'tos': 5421, 'benchmarked': 5422, 'crushes': 5423, 'andrew': 5424, 'giant': 5425, 'booom': 5426, 'rights': 5427, 'hunger': 5428, 'ammo': 5429, 'ward': 5430, 'unfortunately': 5431, 'expense': 5432, 'amtd': 5433, 'kicked': 5434, 'notable': 5435, 'gunsim': 5436, 'shooting': 5437, 'yetbut': 5438, 'marketmaket': 5439, 'peeled': 5440, 'selfserving': 5441, 'wtc': 5442, 'spending': 5443, 'hyperdrive': 5444, 'talented': 5445, 'wjony': 5446, 'ives': 5447, 'residential': 5448, 'summerlin': 5449, 'janfeb': 5450, 'condo': 5451, 'units': 5452, 'hawaii': 5453, 'sqft': 5454, 'sqftcondo': 5455, 'project': 5456, 'bws': 5457, 'approach': 5458, 'aph': 5459, 'kisses': 5460, 'oversoldemc': 5461, 'nicemay': 5462, 'noone': 5463, 'sands': 5464, 'elative': 5465, 'nva': 5466, 'thd': 5467, 'mack': 5468, 'production': 5469, 'wld': 5470, 'greatly': 5471, 'nwinding': 5472, 'widely': 5473, 'identify': 5474, 'burning': 5475, 'mmq': 5476, 'bpop': 5477, 'snort': 5478, 'indices': 5479, 'smile': 5480, 'lawsuit': 5481, 'rains': 5482, 'pours': 5483, 'dividends': 5484, 'damnit': 5485, 'poop': 5486, 'toaster': 5487, 'favor': 5488, 'yourwelcome': 5489, 'pointing': 5490, 'unjustly': 5491, 'punished': 5492, 'happily': 5493, 'ecosys': 5494, 'capitalizing': 5495, 'ppg': 5496, 'volumea': 5497, 'mygn': 5498, 'spyiyt': 5499, 'examination': 5500, 'lossbut': 5501, 'knicks': 5502, 'harmonics': 5503, 'harmonic': 5504, 'wfibs': 5505, 'nike': 5506, 'esources': 5507, 'led': 5508, 'paas': 5509, 'chromebooksthe': 5510, 'kmart': 5511, 'automatic': 5512, 'european': 5513, 'crisis': 5514, 'austerity': 5515, 'borgata': 5516, 'ebitda': 5517, 'zeo': 5518, 'chtp': 5519, 'ziop': 5520, 'acad': 5521, 'spt': 5522, 'hmm': 5523, 'word': 5524, 'boysgirls': 5525, 'divi': 5526, 'ppo': 5527, 'volt': 5528, 'headline': 5529, 'built': 5530, 'leaf': 5531, 'mgmts': 5532, 'penis': 5533, 'measurement': 5534, 'itmn': 5535, 'anac': 5536, 'oww': 5537, 'stem': 5538, 'recover': 5539, 'forecasting': 5540, 'bubblebursting': 5541, 'gourmet': 5542, 'burgers': 5543, 'beastmode': 5544, 'gearing': 5545, 'terry': 5546, 'martha': 5547, 'mso': 5548, 'zillow': 5549, 'mgrs': 5550, 'worm': 5551, 'behaved': 5552, 'asleep': 5553, 'skeptical': 5554, 'chambers': 5555, 'prescient': 5556, 'tour': 5557, 'lowest': 5558, 'announcements': 5559, 'pretending': 5560, 'adults': 5561, 'mhscaling': 5562, 'hgf': 5563, 'breakdowns': 5564, 'softe': 5565, 'mbi': 5566, 'wbac': 5567, 'equivalent': 5568, 'mercedes': 5569, 'somewhere': 5570, 'career': 5571, 'secret': 5572, 'swft': 5573, 'mchp': 5574, 'behave': 5575, 'comparable': 5576, 'jbscaling': 5577, 'horses': 5578, 'attracted': 5579, 'simplest': 5580, 'occam': 5581, 'razor': 5582, 'geat': 5583, 'rallied': 5584, 'facts': 5585, 'fris': 5586, 'leveraged': 5587, 'finance': 5588, 'dept': 5589, 'monitors': 5590, 'focused': 5591, 'bacon': 5592, 'kindle': 5593, 'evernote': 5594, 'hootsuite': 5595, 'whatsapp': 5596, 'idgto': 5597, 'kobo': 5598, 'parallel': 5599, 'bubbleand': 5600, 'peaked': 5601, 'phonefed': 5602, 'disney': 5603, 'knocking': 5604, 'institutional': 5605, 'recapitalized': 5606, 'dividendpaying': 5607, 'guru': 5608, 'egulators': 5609, 'browsers': 5610, 'comply': 5611, 'tpm': 5612, 'pigs': 5613, 'slags': 5614, 'listening': 5615, 'twitteror': 5616, 'bper': 5617, 'biggersmaller': 5618, 'dick': 5619, 'tracy': 5620, 'micro': 5621, 'sized': 5622, 'followup': 5623, 'movers': 5624, 'dxj': 5625, 'oih': 5626, 'sometimes': 5627, 'anywhere': 5628, 'ather': 5629, 'poof': 5630, 'ewbc': 5631, 'ngs': 5632, 'pkg': 5633, 'leads': 5634, 'dji': 5635, 'john': 5636, 'aims': 5637, 'refi': 5638, 'oxgn': 5639, 'majort': 5640, 'nas': 5641, 'duh': 5642, 'aaplno': 5643, 'changebe': 5644, 'jive': 5645, 'cyn': 5646, 'cloudy': 5647, 'contralert': 5648, 'oans': 5649, 'shelves': 5650, 'saving': 5651, 'byr': 5652, 'payout': 5653, 'strongest': 5654, 'averaging': 5655, 'cool': 5656, 'doctor': 5657, 'soars': 5658, 'flirting': 5659, 'ttnp': 5660, 'prem': 5661, 'previuos': 5662, 'resistanec': 5663, 'asna': 5664, 'overextended': 5665, 'cation': 5666, 'pennies': 5667, 'putscalls': 5668, 'anger': 5669, 'boil': 5670, 'champs': 5671, 'latest': 5672, 'energyfocused': 5673, 'activist': 5674, 'oxy': 5675, 'possiby': 5676, 'blown': 5677, 'mild': 5678, 'arguably': 5679, 'ease': 5680, 'endangered': 5681, 'nan': 5682, 'biion': 5683, 'boomshakalaka': 5684, 'smartly': 5685, 'fnp': 5686, 'giddy': 5687, 'tightening': 5688, 'hats': 5689, 'blood': 5690, 'liste': 5691, 'devil': 5692, 'lord': 5693, 'nanophonewatch': 5694, 'rolex': 5695, 'bullshit': 5696, 'traveling': 5697, 'kalamazoo': 5698, 'empty': 5699, 'eshorted': 5700, 'hardly': 5701, 'necessarily': 5702, 'towns': 5703, 'burrito': 5704, 'wear': 5705, 'brother': 5706, 'bgs': 5707, 'dinner': 5708, 'earl': 5709, 'invent': 5710, 'perv': 5711, 'device': 5712, 'doug': 5713, 'kass': 5714, 'umour': 5715, 'rumour': 5716, 'transformative': 5717, 'culprit': 5718, 'bowe': 5719, 'mouth': 5720, 'journaland': 5721, 'pivotal': 5722, 'moments': 5723, 'traps': 5724, 'snap': 5725, 'imagine': 5726, 'jumping': 5727, 'mother': 5728, 'faacker': 5729, 'bottomed': 5730, 'szaman': 5731, 'infa': 5732, 'bagholder': 5733, 'usertools': 5734, 'macbooksphones': 5735, 'toys': 5736, 'toy': 5737, 'itouchwphone': 5738, 'ipadbig': 5739, 'itouch': 5740, 'smartphonemini': 5741, 'apps': 5742, 'stuffed': 5743, 'vcomand': 5744, 'rumorgglass': 5745, 'sphoneglasses': 5746, 'women': 5747, 'curse': 5748, 'currentlyaap': 5749, 'lack': 5750, 'skynet': 5751, 'lockstep': 5752, 'yummy': 5753, 'streak': 5754, 'fadethen': 5755, 'valid': 5756, 'treadmill': 5757, 'dare': 5758, 'cpss': 5759, 'stocastic': 5760, 'cycle': 5761, 'regards': 5762, 'praying': 5763, 'harlem': 5764, 'geady': 5765, 'specifically': 5766, 'blow': 5767, 'wished': 5768, 'yeehaw': 5769, 'humans': 5770, 'hci': 5771, 'epz': 5772, 'poe': 5773, 'edg': 5774, 'gti': 5775, 'egy': 5776, 'sunshine': 5777, 'bullets': 5778, 'mgic': 5779, 'commences': 5780, 'dilutive': 5781, 'downgade': 5782, 'lemme': 5783, 'pgade': 5784, 'brokeinvestor': 5785, 'imc': 5786, 'iqnt': 5787, 'sox': 5788, 'internettrained': 5789, 'tens': 5790, 'millions': 5791, 'freakin': 5792, 'outperform': 5793, 'peers': 5794, 'mwiv': 5795, 'bullishbreakout': 5796, 'factory': 5797, 'bofa': 5798, 'hunches': 5799, 'introduce': 5800, 'ameritrade': 5801, 'cnq': 5802, 'vsat': 5803, 'stressesult': 5804, 'osi': 5805, 'staring': 5806, 'imopatience': 5807, 'airline': 5808, 'nioce': 5809, 'destination': 5810, 'gata': 5811, 'managed': 5812, 'mng': 5813, 'danger': 5814, 'stalling': 5815, 'ddays': 5816, 'behavior': 5817, 'bebe': 5818, 'pad': 5819, 'solarwinds': 5820, 'houston': 5821, 'proceed': 5822, 'decay': 5823, 'matches': 5824, 'gangnam': 5825, 'style': 5826, 'tec': 5827, 'bmy': 5828, 'brekaout': 5829, 'twtc': 5830, 'fundies': 5831, 'overvalued': 5832, 'dailygot': 5833, 'yellow': 5834, 'kwkpdating': 5835, 'flux': 5836, 'fedea': 5837, 'eseve': 5838, 'beige': 5839, 'mhpdating': 5840, 'nhd': 5841, 'escue': 5842, 'education': 5843, 'oke': 5844, 'suspicious': 5845, 'watchout': 5846, 'mgmt': 5847, 'timeframes': 5848, 'interactive': 5849, 'intelligence': 5850, 'inin': 5851, 'nano': 5852, 'hahhaaha': 5853, 'intermolecular': 5854, 'imi': 5855, 'mickey': 5856, 'mouse': 5857, 'weight': 5858, 'cushion': 5859, 'egal': 5860, 'eserves': 5861, 'faces': 5862, 'fina': 5863, 'exchanges': 5864, 'audit': 5865, 'bidding': 5866, 'skynets': 5867, 'warner': 5868, 'killed': 5869, 'graph': 5870, 'despair': 5871, 'ignorance': 5872, 'penneys': 5873, 'macys': 5874, 'printed': 5875, 'babys': 5876, 'bliss': 5877, 'estimated': 5878, 'shorty': 5879, 'pants': 5880, 'trains': 5881, 'spaceon': 5882, 'reinvesting': 5883, 'bsft': 5884, 'ttwo': 5885, 'wgo': 5886, 'ptm': 5887, 'aem': 5888, 'ichan': 5889, 'ent': 5890, 'ssn': 5891, 'wti': 5892, 'cream': 5893, 'sandwich': 5894, 'jelly': 5895, 'popular': 5896, 'gingerbread': 5897, 'joined': 5898, 'ran': 5899, 'vgz': 5900, 'todayshould': 5901, 'stockpe': 5902, 'xno': 5903, 'uncapping': 5904, 'umors': 5905, 'esurface': 5906, 'forms': 5907, 'blast': 5908, 'pet': 5909, 'humanization': 5910, 'pets': 5911, 'woof': 5912, 'shr': 5913, 'announcement': 5914, 'revesal': 5915, 'tcopen': 5916, 'gteopen': 5917, 'putcall': 5918, 'starter': 5919, 'breadth': 5920, 'gowth': 5921, 'indications': 5922, 'fonr': 5923, 'comfortable': 5924, 'paul': 5925, 'tudor': 5926, 'pki': 5927, 'mgn': 5928, 'portfolios': 5929, 'wind': 5930, 'arrows': 5931, 'concept': 5932, 'gmed': 5933, 'acts': 5934, 'hurt': 5935, 'maintain': 5936, 'rear': 5937, 'mirror': 5938, 'movin': 5939, 'scream': 5940, 'victory': 5941, 'sopatience': 5942, 'trippy': 5943, 'boss': 5944, 'isten': 5945, 'payx': 5946, 'bang': 5947, 'buck': 5948, 'admittedly': 5949, 'burn': 5950, 'oupss': 5951, 'xiv': 5952, 'pathetic': 5953, 'toppoing': 5954, 'gatey': 5955, 'patterntime': 5956, 'doulble': 5957, 'weeklytime': 5958, 'rodeo': 5959, 'clown': 5960, 'screaming': 5961, 'zonetime': 5962, 'peel': 5963, 'players': 5964, 'rallying': 5965, 'massively': 5966, 'alerted': 5967, 'subscribers': 5968, 'maket': 5969, 'opeatos': 5970, 'theoists': 5971, 'outgonna': 5972, 'helluva': 5973, 'fak': 5974, 'buyshigh': 5975, 'laying': 5976, 'confidence': 5977, 'mooooonnnn': 5978, 'squat': 5979, 'flack': 5980, 'unsolicited': 5981, 'plug': 5982, 'graf': 5983, 'touts': 5984, 'zich': 5985, 'advice': 5986, 'patternstock': 5987, 'presignals': 5988, 'sfd': 5989, 'rid': 5990, 'corrupt': 5991, 'astx': 5992, 'headscnbc': 5993, 'max': 5994, 'teetertotter': 5995, 'jvaopen': 5996, 'shoing': 5997, 'tommorrow': 5998, 'skheads': 5999, 'congrat': 6000, 'estaurant': 6001, 'music': 6002, 'delayed': 6003, 'waste': 6004, 'proprietary': 6005, 'jvapdating': 6006, 'breeze': 6007, 'levered': 6008, 'cld': 6009, 'usercash': 6010, 'tries': 6011, 'obamas': 6012, 'pipedreams': 6013, 'sad': 6014, 'tcamitrader': 6015, 'cpe': 6016, 'venezuela': 6017, 'chavezs': 6018, 'nonstop': 6019, 'non': 6020, 'paper': 6021, 'loyalty': 6022, 'andt': 6023, 'gen': 6024, 'cspi': 6025, 'folio': 6026, 'cwbc': 6027, 'clients': 6028, 'creating': 6029, 'evi': 6030, 'surged': 6031, 'considerably': 6032, 'amidst': 6033, 'schmucks': 6034, 'mst': 6035, 'vice': 6036, 'versa': 6037, 'pros': 6038, 'avenue': 6039, 'weighting': 6040, 'biotechs': 6041, 'ambsob': 6042, 'contrarian': 6043, 'influence': 6044, 'watchvolume': 6045, 'ollsoyce': 6046, 'geneva': 6047, 'feature': 6048, 'bvsn': 6049, 'mdp': 6050, 'avav': 6051, 'pins': 6052, 'revisits': 6053, 'webinar': 6054, 'mnkd': 6055, 'squeezy': 6056, 'yearso': 6057, 'charity': 6058, 'cien': 6059, 'stays': 6060, 'csnstarting': 6061, 'tailed': 6062, 'frustrating': 6063, 'extraordinarily': 6064, 'shown': 6065, 'brakes': 6066, 'outset': 6067, 'invalidation': 6068, 'black': 6069, 'drip': 6070, 'ticks': 6071, 'csnnet': 6072, 'fence': 6073, 'herewas': 6074, 'qep': 6075, 'volitality': 6076, 'eds': 6077, 'alexion': 6078, 'cracking': 6079, 'partials': 6080, 'gotten': 6081, 'fabulous': 6082, 'performer': 6083, 'sunday': 6084, 'timestamped': 6085, 'leadr': 6086, 'tking': 6087, 'hero': 6088, 'fades': 6089, 'special': 6090, 'divvy': 6091, 'reclaims': 6092, 'aughing': 6093, 'chrt': 6094, 'tradeble': 6095, 'bluestar': 6096, 'airlines': 6097, 'endorsing': 6098, 'gotta': 6099, 'corruption': 6100, 'skull': 6101, 'copx': 6102, 'byproducts': 6103, 'nini': 6104, 'jjn': 6105, 'jjp': 6106, 'jjm': 6107, 'hmary': 6108, 'hedging': 6109, 'respectively': 6110, 'join': 6111, 'calc': 6112, 'incl': 6113, 'einhorns': 6114, 'pumpdump': 6115, 'frothy': 6116, 'selective': 6117, 'perspective': 6118, 'sued': 6119, 'bunch': 6120, 'critics': 6121, 'defamation': 6122, 'responses': 6123, 'jokeshort': 6124, 'labels': 6125, 'songs': 6126, 'spotify': 6127, 'nypost': 6128, 'paint': 6129, 'comback': 6130, 'allowance': 6131, 'mtw': 6132, 'backs': 6133, 'machinery': 6134, 'serves': 6135, 'hobby': 6136, 'farms': 6137, 'fcast': 6138, 'fri': 6139, 'flagginga': 6140, 'clearance': 6141, 'nibble': 6142, 'beware': 6143, 'featuring': 6144, 'caf': 6145, 'acm': 6146, 'playa': 6147, 'ohead': 6148, 'reasons': 6149, 'rounding': 6150, 'sct': 6151, 'hotelier': 6152, 'blowoff': 6153, 'trendine': 6154, 'gpw': 6155, 'ssw': 6156, 'kmp': 6157, 'nsc': 6158, 'ecap': 6159, 'include': 6160, 'abmd': 6161, 'amcx': 6162, 'dtv': 6163, 'emc': 6164, 'gdd': 6165, 'tox': 6166, 'beverage': 6167, 'powerball': 6168, 'appl': 6169, 'larger': 6170, 'wavewith': 6171, 'pvfc': 6172, 'narrowing': 6173, 'wifi': 6174, 'crocs': 6175, 'considered': 6176, 'enzn': 6177, 'deserved': 6178, 'tits': 6179, 'mnk': 6180, 'vet': 6181, 'qdt': 6182, 'dcix': 6183, 'acheived': 6184, 'headfake': 6185, 'pow': 6186, 'recovering': 6187, 'cne': 6188, 'mti': 6189, 'popping': 6190, 'overdue': 6191, 'busta': 6192, 'perfectly': 6193, 'mei': 6194, 'pacb': 6195, 'dks': 6196, 'daylight': 6197, 'savings': 6198, 'opportunities': 6199, 'bozos': 6200, 'races': 6201, 'exx': 6202, 'tempting': 6203, 'caps': 6204, 'itt': 6205, 'unique': 6206, 'cai': 6207, 'aise': 6208, 'shareplanner': 6209, 'tpmscaling': 6210, 'nfg': 6211, 'giddyup': 6212, 'hibb': 6213, 'roars': 6214, 'wehaaaaaaaaaaa': 6215, 'liquidate': 6216, 'heaviest': 6217, 'fraction': 6218, 'navmost': 6219, 'ime': 6220, 'vote': 6221, 'changeyour': 6222, 'counts': 6223, 'proxyfight': 6224, 'otation': 6225, 'bitch': 6226, 'slapand': 6227, 'began': 6228, 'kumo': 6229, 'ote': 6230, 'chikou': 6231, 'circles': 6232, 'kijun': 6233, 'ncertainty': 6234, 'pkt': 6235, 'chilling': 6236, 'shots': 6237, 'redweakness': 6238, 'ango': 6239, 'bdbd': 6240, 'cbey': 6241, 'fdm': 6242, 'marriott': 6243, 'partnership': 6244, 'ikea': 6245, 'minimum': 6246, 'stericycle': 6247, 'pxp': 6248, 'august': 6249, 'vostopby': 6250, 'created': 6251, 'def': 6252, 'kio': 6253, 'retreats': 6254, 'unwinding': 6255, 'upped': 6256, 'appliances': 6257, 'direct': 6258, 'gaffed': 6259, 'operatorsfish': 6260, 'hooksaapl': 6261, 'aunch': 6262, 'mmmmm': 6263, 'yan': 6264, 'evident': 6265, 'trimming': 6266, 'herein': 6267, 'basement': 6268, 'gabbys': 6269, 'husband': 6270, 'testifying': 6271, 'assault': 6272, 'weapons': 6273, 'dumbest': 6274, 'evering': 6275, 'dgd': 6276, 'ssi': 6277, 'reasoning': 6278, 'george': 6279, 'castanza': 6280, 'europeans': 6281, 'stayed': 6282, 'aboutto': 6283, 'buddy': 6284, 'cashen': 6285, 'oasis': 6286, 'fillup': 6287, 'canteens': 6288, 'titn': 6289, 'theyll': 6290, 'titanic': 6291, 'kate': 6292, 'mitchell': 6293, 'advantage': 6294, 'weiner': 6295, 'downnnn': 6296, 'cancels': 6297, 'clone': 6298, 'wars': 6299, 'exploring': 6300, 'characters': 6301, 'storylines': 6302, 'scooping': 6303, 'attacked': 6304, 'ebaynow': 6305, 'arrival': 6306, 'soar': 6307, 'doable': 6308, 'woow': 6309, 'paypal': 6310, 'providing': 6311, 'provider': 6312, 'processor': 6313, 'coiled': 6314, 'difficulties': 6315, 'hovered': 6316, 'insane': 6317, 'bch': 6318, 'casino': 6319, 'corporate': 6320, 'jets': 6321, 'landed': 6322, 'sfo': 6323, 'mccarren': 6324, 'dulles': 6325, 'etn': 6326, 'cci': 6327, 'fish': 6328, 'beach': 6329, 'doublefydie': 6330, 'nfxs': 6331, 'bigtime': 6332, 'defined': 6333, 'jbopen': 6334, 'pope': 6335, 'morons': 6336, 'sks': 6337, 'samesung': 6338, 'ecosystem': 6339, 'canibalization': 6340, 'outshines': 6341, 'samsungs': 6342, 'combo': 6343, 'machine': 6344, 'ges': 6345, 'dxpe': 6346, 'tsn': 6347, 'psx': 6348, 'switchpayday': 6349, 'discipline': 6350, 'vss': 6351, 'bingocant': 6352, 'vsb': 6353, 'lifetime': 6354, 'eader': 6355, 'sunset': 6356, 'galaxy': 6357, 'promises': 6358, 'begun': 6359, 'projected': 6360, 'reviews': 6361, 'echelons': 6362, 'pivate': 6363, 'nets': 6364, 'sppi': 6365, 'rejecting': 6366, 'wth': 6367, 'flew': 6368, 'clicks': 6369, 'ibig': 6370, 'weaker': 6371, 'claim': 6372, 'hidden': 6373, 'vornado': 6374, 'vno': 6375, 'allgarbage': 6376, 'haha': 6377, 'martket': 6378, 'fablets': 6379, 'wouldve': 6380, 'clutter': 6381, 'pension': 6382, 'improvements': 6383, 'hustle': 6384, 'patterncompared': 6385, 'lowers': 6386, 'unveiling': 6387, 'yawn': 6388, 'plastic': 6389, 'lightsabre': 6390, 'beermoney': 6391, 'runmonkeyrun': 6392, 'slag': 6393, 'cannibalization': 6394, 'gwe': 6395, 'ctx': 6396, 'innovating': 6397, 'canibalizing': 6398, 'knot': 6399, 'hang': 6400, 'afce': 6401, 'aco': 6402, 'amsf': 6403, 'enb': 6404, 'fgi': 6405, 'homb': 6406, 'omab': 6407, 'saia': 6408, 'according': 6409, 'comparisson': 6410, 'nytimes': 6411, 'endgadget': 6412, 'gizmodo': 6413, 'thumbs': 6414, 'thunk': 6415, 'manage': 6416, 'machines': 6417, 'ilightsabre': 6418, 'firmly': 6419, 'fretting': 6420, 'remind': 6421, 'gaxy': 6422, 'smat': 6423, 'sco': 6424, 'users': 6425, 'creeper': 6426, 'watchingyou': 6427, 'silly': 6428, 'tagging': 6429, 'mileage': 6430, 'probable': 6431, 'pinching': 6432, 'flattening': 6433, 'ribbon': 6434, 'tube': 6435, 'batman': 6436, 'bruce': 6437, 'wayne': 6438, 'father': 6439, 'freak': 6440, 'wooow': 6441, 'aqua': 6442, 'legit': 6443, 'lowrisk': 6444, 'funded': 6445, 'hitler': 6446, 'prepping': 6447, 'derivative': 6448, 'wat': 6449, 'beasota': 6450, 'poo': 6451, 'pages': 6452, 'illness': 6453, 'isit': 6454, 'monotone': 6455, 'laryngitis': 6456, 'drew': 6457, 'volumeits': 6458, 'ruhh': 6459, 'roooow': 6460, 'aint': 6461, 'pfft': 6462, 'bypass': 6463, 'miller': 6464, 'plugged': 6465, 'divy': 6466, 'midweek': 6467, 'honest': 6468, 'suprised': 6469, 'alot': 6470, 'typically': 6471, 'sxsw': 6472, 'stkscor': 6473, 'precedes': 6474, 'dtk': 6475, 'bib': 6476, 'oncy': 6477, 'xoma': 6478, 'underside': 6479, 'tugowar': 6480, 'heels': 6481, 'dug': 6482, 'invalidated': 6483, 'rationale': 6484, 'remained': 6485, 'brewing': 6486, 'apex': 6487, 'grabbed': 6488, 'otto': 6489, 'accelerates': 6490, 'asia': 6491, 'tractors': 6492, 'dumbasses': 6493, 'freefall': 6494, 'king': 6495, 'bkw': 6496, 'spring': 6497, 'slump': 6498, 'italyare': 6499, 'hooking': 6500, 'plows': 6501, 'vespa': 6502, 'scootersinstead': 6503, 'german': 6504, 'ookout': 6505, 'stupidity': 6506, 'germany': 6507, 'operates': 6508, 'countries': 6509, 'mapattern': 6510, 'dgaz': 6511, 'consists': 6512, 'fte': 6513, 'ycs': 6514, 'coach': 6515, 'superior': 6516, 'elatively': 6517, 'smooth': 6518, 'chairman': 6519, 'angebound': 6520, 'epair': 6521, 'breakthroughs': 6522, 'eplace': 6523, 'surgeons': 6524, 'golf': 6525, 'yesterdaygolf': 6526, 'colorful': 6527, 'cerner': 6528, 'packaging': 6529, 'dox': 6530, 'invisibleshied': 6531, 'zaggtodhxjyy': 6532, 'finished': 6533, 'foucs': 6534, 'bracketed': 6535, 'ten': 6536, 'pgti': 6537, 'ats': 6538, 'zaza': 6539, 'apart': 6540, 'ect': 6541, 'adi': 6542, 'owe': 6543, 'guaranteed': 6544, 'atb': 6545, 'outright': 6546, 'wishful': 6547, 'tekelec': 6548, 'hole': 6549, 'citi': 6550, 'reiterates': 6551, 'shockingly': 6552, 'fewer': 6553, 'trained': 6554, 'echo': 6555, 'ogistics': 6556, 'transforming': 6557, 'road': 6558, 'fti': 6559, 'equipment': 6560, 'tti': 6561, 'bbva': 6562, 'deeper': 6563, 'wrecker': 6564, 'entrance': 6565, 'brennanbasnicki': 6566, 'passed': 6567, 'stxs': 6568, 'coveed': 6569, 'bcc': 6570, 'wsm': 6571, 'abbv': 6572, 'among': 6573, 'cautiously': 6574, 'arena': 6575, 'highers': 6576, 'itgotta': 6577, 'admit': 6578, 'rarely': 6579, 'alright': 6580, 'charmcmon': 6581, 'guysp': 6582, 'transaction': 6583, 'convictionbuy': 6584, 'tcpdating': 6585, 'sellwillit': 6586, 'nearby': 6587, 'hznp': 6588, 'thankful': 6589, 'itd': 6590, 'amp': 6591, 'etf': 6592, 'inches': 6593, 'dig': 6594, 'homework': 6595, 'pun': 6596, 'intended': 6597, 'corning': 6598, 'shelter': 6599, 'idti': 6600, 'followthru': 6601, 'earjet': 6602, 'altitudes': 6603, 'digest': 6604, 'downtrendmini': 6605, 'missyaubaby': 6606, 'honestly': 6607, 'pgh': 6608, 'retirement': 6609, 'refresh': 6610, 'movingaverage': 6611, 'domestic': 6612, 'drones': 6613, 'msex': 6614, 'yow': 6615, 'sjw': 6616, 'divis': 6617, 'stj': 6618, 'wings': 6619, 'ugliest': 6620, 'fmd': 6621, 'puppy': 6622, 'multiples': 6623, 'blockbuster': 6624, 'films': 6625, 'shortened': 6626, 'thanksgiving': 6627, 'exception': 6628, 'agin': 6629, 'jumpy': 6630, 'epic': 6631, 'collapse': 6632, 'appreciated': 6633, 'stepping': 6634, 'necessary': 6635, 'dailyi': 6636, 'chopping': 6637, 'uggh': 6638, 'lasted': 6639, 'spanish': 6640, 'sues': 6641, 'nion': 6642, 'majo': 6643, 'divegencenow': 6644, 'confimed': 6645, 'macdas': 6646, 'deceasing': 6647, 'desc': 6648, 'amk': 6649, 'animal': 6650, 'deleverage': 6651, 'deleveraging': 6652, 'himx': 6653, 'developed': 6654, 'active': 6655, 'geronimo': 6656, 'sink': 6657, 'orbit': 6658, 'disapointment': 6659, 'famous': 6660, 'difficult': 6661, 'everse': 6662, 'fakeout': 6663, 'chunk': 6664, 'scary': 6665, 'fear': 6666, 'ule': 6667, 'thumb': 6668, 'popped': 6669, 'hgsi': 6670, 'threw': 6671, 'towel': 6672, 'received': 6673, 'nowhere': 6674, 'wizard': 6675, 'woz': 6676, 'tags': 6677, 'cheniere': 6678, 'toll': 6679, 'gate': 6680, 'owers': 6681, 'arbitrage': 6682, 'hovering': 6683, 'darn': 6684, 'whoop': 6685, 'preeps': 6686, 'searching': 6687, 'scratch': 6688, 'itch': 6689, 'hos': 6690, 'untested': 6691, 'adj': 6692, 'pstn': 6693, 'otten': 6694, 'deterrent': 6695, 'caused': 6696, 'retracements': 6697, 'fooling': 6698, 'bearishbuck': 6699, 'lulu': 6700, 'bend': 6701, 'hide': 6702, 'borrowing': 6703, 'deckes': 6704, 'distressed': 6705, 'loud': 6706, 'mva': 6707, 'tails': 6708, 'watched': 6709, 'amgn': 6710, 'speed': 6711, 'txh': 6712, 'false': 6713, 'resistances': 6714, 'benrab': 6715, 'deny': 6716, 'proves': 6717, 'denial': 6718, 'attentionlets': 6719, 'vitc': 6720, 'prints': 6721, 'strats': 6722, 'axdx': 6723, 'cmco': 6724, 'ecyt': 6725, 'epiq': 6726, 'gman': 6727, 'icge': 6728, 'mxw': 6729, 'ome': 6730, 'ecn': 6731, 'scmp': 6732, 'simo': 6733, 'ohi': 6734, 'bee': 6735, 'dang': 6736, 'mto': 6737, 'flashes': 6738, 'trendfollowers': 6739, 'uncomfortable': 6740, 'elease': 6741, 'gians': 6742, 'sgn': 6743, 'selections': 6744, 'yests': 6745, 'infliction': 6746, 'illiquid': 6747, 'orderly': 6748, 'pullbackconsol': 6749, 'riptarget': 6750, 'ideally': 6751, 'scramble': 6752, 'uckly': 6753, 'cyprus': 6754, 'postentry': 6755, 'lookn': 6756, 'expands': 6757, 'presence': 6758, 'oweed': 6759, 'jumps': 6760, 'esperas': 6761, 'para': 6762, 'caer': 6763, 'una': 6764, 'vez': 6765, 'crashing': 6766, 'slipping': 6767, 'weeeee': 6768, 'saas': 6769, 'whim': 6770, 'offt': 6771, 'shortsqueeze': 6772, 'fasten': 6773, 'yor': 6774, 'seatbelts': 6775, 'posttriangle': 6776, 'flight': 6777, 'delight': 6778, 'afterwhile': 6779, 'analyze': 6780, 'fleas': 6781, 'iftoff': 6782, 'alone': 6783, 'knuckleheads': 6784, 'intrinsic': 6785, 'imagingfuture': 6786, 'intensifies': 6787, 'shrs': 6788, 'takg': 6789, 'baseball': 6790, 'moat': 6791, 'crows': 6792, 'teaming': 6793, 'milwaukees': 6794, 'mke': 6795, 'branch': 6796, 'stoch': 6797, 'dunno': 6798, 'cxw': 6799, 'underowned': 6800, 'dobe': 6801, 'consoles': 6802, 'pricethere': 6803, 'ridiculously': 6804, 'doto': 6805, 'bathroom': 6806, 'csndescending': 6807, 'akstergi': 6808, 'delivery': 6809, 'mgk': 6810, 'ewh': 6811, 'marketno': 6812, 'heremove': 6813, 'analyse': 6814, 'decisively': 6815, 'allied': 6816, 'volumeif': 6817, 'positionmargins': 6818, 'launched': 6819, 'fox': 6820, 'quicksilver': 6821, 'ample': 6822, 'liquidity': 6823, 'expanded': 6824, 'identified': 6825, 'cake': 6826, 'judging': 6827, 'snuck': 6828, 'suspense': 6829, 'killing': 6830, 'matt': 6831, 'barkley': 6832, 'goodreads': 6833, 'clubs': 6834, 'boomers': 6835, 'mjn': 6836, 'kmb': 6837, 'evisited': 6838, 'eporting': 6839, 'grumpy': 6840, 'accountants': 6841, 'weeklybarely': 6842, 'areapossible': 6843, 'madness': 6844, 'skies': 6845, 'cited': 6846, 'promotions': 6847, 'lined': 6848, 'easter': 6849, 'moh': 6850, 'darling': 6851, 'agian': 6852, 'oscillators': 6853, 'contracted': 6854, 'crude': 6855, 'bruâ': 6856, 'httpstcosydekyg': 6857, 'megabanks': 6858, 'advantages': 6859, 'doesnâ': 6860, 'httpstcojui': 6861, 'vokr': 6862, 'postcoronavirus': 6863, 'httpstcoct': 6864, 'zpe': 6865, 'zgg': 6866, 'chinaâ': 6867, 'burgeoning': 6868, 'backed': 6869, 'mortgages': 6870, 'loans': 6871, 'supposed': 6872, 'coronavirus': 6873, 'pandemic': 6874, 'httpstco': 6875, 'wjsvfs': 6876, 'saudi': 6877, 'worsen': 6878, 'supply': 6879, 'glut': 6880, 'drillers': 6881, 'refiners': 6882, 'output': 6883, 'storage': 6884, 'spaâ': 6885, 'ndex': 6886, 'qpz': 6887, 'jchengwsj': 6888, 'uschina': 6889, 'decoupling': 6890, 'disrupting': 6891, 'chains': 6892, 'strainingâ': 6893, 'kosakunarioka': 6894, 'indiaâ': 6895, 'rbi': 6896, 'httpstcoxknj': 6897, 'joannechiuhk': 6898, 'htâ': 6899, 'qiliyan': 6900, 'tbygracezhu': 6901, 'firstquarter': 6902, 'records': 6903, 'restrictions': 6904, 'strand': 6905, 'masks': 6906, 'kits': 6907, 'stateâ': 6908, 'jadokqbjj': 6909, 'shoemakers': 6910, 'churning': 6911, 'giants': 6912, 'ventilators': 6913, 'battleâ': 6914, 'obg': 6915, 'americans': 6916, 'unemployment': 6917, 'aid': 6918, 'monthâ': 6919, 'httpstcoaw': 6920, 'vhuwfuk': 6921, 'œrecalibratingâ': 6922, 'pace': 6923, 'machinesâ': 6924, 'componâ': 6925, 'httpstcorl': 6926, 'uuqfohg': 6927, 'aprilâ': 6928, 'inâ': 6929, 'httpstcovgckc': 6930, 'laboratories': 6931, 'threeâ': 6932, 'httpstcobur': 6933, 'yptrsu': 6934, 'organization': 6935, 'restricting': 6936, 'alcohol': 6937, 'france': 6938, 'belgium': 6939, 'greece': 6940, 'austria': 6941, 'spain': 6942, 'whose': 6943, 'barred': 6944, 'slidingâ': 6945, 'debate': 6946, 'reopen': 6947, 'impression': 6948, 'economists': 6949, 'httpstcoa': 6950, 'nevebvqw': 6951, 'brianmcgill': 6952, 'businesses': 6953, 'httpstcofk': 6954, 'gyodâ': 6955, 'fueling': 6956, 'bust': 6957, 'gfwlr': 6958, 'barrels': 6959, 'sharpest': 6960, 'amiâ': 6961, 'httpstcouqvtcl': 6962, 'bqm': 6963, 'bankers': 6964, 'bond': 6965, 'httpstcoyr': 6966, 'hrnovu': 6967, 'birdyword': 6968, 'election': 6969, 'revive': 6970, 'efforts': 6971, 'wrestle': 6972, 'families': 6973, 'controlâ': 6974, 'bysarahkrouse': 6975, 'verizons': 6976, 'conferencing': 6977, 'platform': 6978, 'bluejeans': 6979, 'httpstcocfzo': 6980, 'zoa': 6981, 'places': 6982, 'pandemicinduced': 6983, 'recession': 6984, 'euâ': 6985, 'httpstcoijgqm': 6986, 'ofzs': 6987, 'officials': 6988, 'applications': 6989, 'processed': 6990, 'newlyeligible': 6991, 'gigeconomy': 6992, 'workers': 6993, 'selfemployed': 6994, 'amrithramkumar': 6995, 'disconnectâ': 6996, 'hoarding': 6997, 'swaths': 6998, 'frozenâ': 6999, 'iacâ': 7000, 'remodel': 7001, 'fixed': 7002, 'httpstcocojsgvy': 7003, 'lizrhoffman': 7004, 'meet': 7005, 'itsâ': 7006, 'stanleyâ': 7007, 'shy': 7008, 'revised': 7009, 'theâ': 7010, 'httpstcovgv': 7011, 'fsk': 7012, 'swift': 7013, 'havens': 7014, 'worrâ': 7015, 'httpstcoyn': 7016, 'domq': 7017, 'experienced': 7018, 'delays': 7019, 'federal': 7020, 'depositing': 7021, 'stimulus': 7022, 'httpstcollzl': 7023, 'nyfdl': 7024, 'era': 7025, 'offers': 7026, 'avenues': 7027, 'reform': 7028, 'httpstcookgnuj': 7029, 'newhome': 7030, 'survey': 7031, 'blackrockâ': 7032, 'httpstcoyldaus': 7033, 'rbx': 7034, 'koreas': 7035, 'jaein': 7036, 'japans': 7037, 'shinzo': 7038, 'abe': 7039, 'mates': 7040, 'parliamentary': 7041, 'hasâ': 7042, 'newley': 7043, 'indian': 7044, 'startup': 7045, 'oyo': 7046, 'hotels': 7047, 'planning': 7048, 'investorâ': 7049, 'philippines': 7050, 'central': 7051, 'covid': 7052, 'disrupts': 7053, 'httpstcoloqglu': 7054, 'hzc': 7055, 'exvsxmsdw': 7056, 'gregip': 7057, 'epidemiologists': 7058, 'measures': 7059, 'benefit': 7060, 'distancing': 7061, 'davecbenoit': 7062, 'wondering': 7063, 'dayâ': 7064, 'wonâ': 7065, 'httpstcogqklcyg': 7066, 'biggâ': 7067, 'httpstcovscd': 7068, 'rhe': 7069, 'executives': 7070, 'safâ': 7071, 'httpstcowsu': 7072, 'btpw': 7073, 'charts': 7074, 'dispersion': 7075, 'forecasts': 7076, 'amid': 7077, 'httpstcorogj': 7078, 'appleâ': 7079, 'tpy': 7080, 'restaurant': 7081, 'shutdowns': 7082, 'enteâ': 7083, 'capitalmarkets': 7084, 'helping': 7085, 'cushiâ': 7086, 'httpstcow': 7087, 'lqo': 7088, 'epr': 7089, 'monthovermonth': 7090, 'httpstcoimsh': 7091, 'ksh': 7092, 'industrial': 7093, 'digging': 7094, 'ecâ': 7095, 'ymzmeleyr': 7096, 'djtgallagher': 7097, 'wsjheard': 7098, 'bailout': 7099, 'package': 7100, 'arabia': 7101, 'httpstcoqcidt': 7102, 'occidental': 7103, 'sought': 7104, 'conserve': 7105, 'opts': 7106, 'buffettâ': 7107, 'shaâ': 7108, 'httpstcoplhh': 7109, 'dweor': 7110, 'ychernova': 7111, 'startups': 7112, 'pitchbook': 7113, 'marked': 7114, 'dropofâ': 7115, 'jonsindreu': 7116, 'packageis': 7117, 'beâ': 7118, 'staggering': 7119, 'inventories': 7120, 'sarahtoy': 7121, 'explains': 7122, 'belowâ': 7123, 'sampp': 7124, 'guessing': 7125, 'httpstcowesotl': 7126, 'rwc': 7127, 'paulpage': 7128, 'httpstcoy': 7129, 'acdeqag': 7130, 'loan': 7131, 'provision': 7132, 'httpstcos': 7133, 'ovqhafq': 7134, 'fuâ': 7135, 'œwe': 7136, 'februaryâ': 7137, 'cfo': 7138, 'stephen': 7139, 'scherr': 7140, 'œthen': 7141, 'marchâ': 7142, 'jdlahart': 7143, 'donâ': 7144, 'marketâ': 7145, 'aosipovich': 7146, 'scoop': 7147, 'force': 7148, 'blk': 7149, 'citadel': 7150, 'circuitbreaker': 7151, 'canâ': 7152, 'hands': 7153, 'nintendo': 7154, 'console': 7155, 'horizons': 7156, 'alâ': 7157, 'httpstcol': 7158, 'tlufi': 7159, 'paradoxically': 7160, 'fedâ': 7161, 'success': 7162, 'goldmans': 7163, 'defaults': 7164, 'httpsâ': 7165, 'josephttwallace': 7166, 'glutted': 7167, 'marketsâ': 7168, 'worry': 7169, 'subzero': 7170, 'pfdjldx': 7171, 'stockâ': 7172, 'luxury': 7173, 'liquor': 7174, 'sunglasses': 7175, 'brands': 7176, 'airports': 7177, 'suffer': 7178, 'traveler': 7179, 'httpstcobw': 7180, 'ltjz': 7181, 'tankership': 7182, 'isnâ': 7183, 'readily': 7184, 'extremes': 7185, 'httpstcosechr': 7186, 'pscn': 7187, 'emerging': 7188, 'rushed': 7189, 'flood': 7190, 'bonâ': 7191, 'httpstcox': 7192, 'xbcamkth': 7193, 'yeaâ': 7194, 'httpstcovsgar': 7195, 'locâ': 7196, 'httpstcotc': 7197, 'xzi': 7198, 'fcp': 7199, 'await': 7200, 'httpstcouaw': 7201, 'hdxfki': 7202, 'glencore': 7203, 'teck': 7204, 'quantum': 7205, 'mines': 7206, 'siege': 7207, 'protesters': 7208, 'accusing': 7209, 'bringingâ': 7210, 'httpstcocs': 7211, 'tplpgc': 7212, 'ironically': 7213, 'largely': 7214, 'successfulâ': 7215, 'cgrantwsj': 7216, 'wolk': 7217, 'affecting': 7218, 'severity': 7219, 'unmatched': 7220, 'trefor': 7221, 'renault': 7222, 'shutting': 7223, 'maker': 7224, 'whiteâ': 7225, 'rode': 7226, 'preparing': 7227, 'alongside': 7228, 'thâ': 7229, 'inability': 7230, 'nontraded': 7231, 'reits': 7232, 'couldnâ': 7233, 'httpstcod': 7234, 'jjfo': 7235, 'kkr': 7236, 'crown': 7237, 'prince': 7238, 'mohammed': 7239, 'salmanâ': 7240, 'premier': 7241, 'leaâ': 7242, 'httpstcogal': 7243, 'jay': 7244, 'chinese': 7245, 'depressed': 7246, 'unnhpf': 7247, 'clearlake': 7248, 'flagship': 7249, 'vgkdp': 7250, 'ufp': 7251, 'lockdowns': 7252, 'travel': 7253, 'curbs': 7254, 'delaying': 7255, 'compliance': 7256, 'firsthand': 7257, 'httpstcovyowx': 7258, 'phcr': 7259, 'freight': 7260, 'deepens': 7261, 'httpstcowmirh': 7262, 'rxra': 7263, 'forcing': 7264, 'meetings': 7265, 'virtualâ': 7266, 'exeâ': 7267, 'capitalists': 7268, 'restrictioâ': 7269, 'httpstcodtbyjvl': 7270, 'mall': 7271, 'shoppingcenter': 7272, 'compiling': 7273, 'blacklist': 7274, 'financially': 7275, 'tenants': 7276, 'havenâ': 7277, 'anytâ': 7278, 'hpwxg': 7279, 'distinguishing': 7280, 'labeling': 7281, 'œessentialâ': 7282, 'tricky': 7283, 'nkl': 7284, 'acgsd': 7285, 'listerine': 7286, 'mouthwash': 7287, 'httpstcofu': 7288, 'yaa': 7289, 'community': 7290, 'lenders': 7291, 'sbaâ': 7292, 'paycheck': 7293, 'prâ': 7294, 'httpstcoayl': 7295, 'imt': 7296, 'alongsâ': 7297, 'httpstcosj': 7298, 'ykau': 7299, 'upheaval': 7300, 'increasingly': 7301, 'automaâ': 7302, 'httpstcoeshf': 7303, 'eykwx': 7304, 'johnson': 7305, 'tuesdayâ': 7306, 'bold': 7307, 'enviâ': 7308, 'billions': 7309, 'fallout': 7310, 'qjo': 7311, 'tgth': 7312, 'didnâ': 7313, 'issuance': 7314, 'foâ': 7315, 'httpstcowexnm': 7316, 'bellwether': 7317, 'globalized': 7318, 'protests': 7319, 'worldwideâ': 7320, 'httpstcot': 7321, 'hnmddpba': 7322, 'œsince': 7323, 'thisâ': 7324, 'worldâ': 7325, 'thirst': 7326, 'noâ': 7327, 'httpstcofmsg': 7328, 'xtp': 7329, 'norwegian': 7330, 'succeed': 7331, 'lastditch': 7332, 'wiâ': 7333, 'httpstcoub': 7334, 'provide': 7335, 'financing': 7336, 'novel': 7337, 'httpstcoed': 7338, 'ioccdv': 7339, 'lifted': 7340, 'fargoâ': 7341, 'troubled': 7342, 'duriâ': 7343, 'weccwnq': 7344, 'softbankâ': 7345, 'accountsâ': 7346, 'httpstcoj': 7347, 'egeajzr': 7348, 'deliverers': 7349, 'grubhub': 7350, 'dependent': 7351, 'ailing': 7352, 'restaurants': 7353, 'httpstcobd': 7354, 'lqc': 7355, 'exports': 7356, 'spreading': 7357, 'affâ': 7358, 'miriamgottfried': 7359, 'atlantic': 7360, 'veteran': 7361, 'tripp': 7362, 'finanâ': 7363, 'optimism': 7364, 'softbank': 7365, 'techfocused': 7366, 'udu': 7367, 'ovy': 7368, 'nicktimiraos': 7369, 'governments': 7370, 'economies': 7371, 'recedes': 7372, 'arguments': 7373, 'suspend': 7374, 'payouts': 7375, 'degree': 7376, 'creditâ': 7377, 'vacnv': 7378, 'patfitzgerald': 7379, 'xfl': 7380, 'reboot': 7381, 'canceling': 7382, 'vince': 7383, 'mcâ': 7384, 'improved': 7385, 'moneymarket': 7386, 'operations': 7387, 'shortâ': 7388, 'httpstcogachu': 7389, 'nom': 7390, 'idc': 7391, 'gartner': 7392, 'gnzn': 7393, 'settled': 7394, 'httpstcok': 7395, 'hjoos': 7396, 'wfh': 7397, 'shortlived': 7398, 'wilâ': 7399, 'sports': 7400, 'httpstcomt': 7401, 'clvd': 7402, 'desperate': 7403, 'wherever': 7404, 'totaling': 7405, 'potentiaâ': 7406, 'httpstcorcpvd': 7407, 'wfgv': 7408, 'moochâ': 7409, 'skybridge': 7410, 'struggles': 7411, 'poor': 7412, 'hedgefund': 7413, 'exposed': 7414, 'fitchâ': 7415, 'ovâ': 7416, 'httpstcomjfvx': 7417, 'wjci': 7418, 'thousands': 7419, 'flights': 7420, 'grounded': 7421, 'miles': 7422, 'creditcard': 7423, 'partâ': 7424, 'httpstcoi': 7425, 'ddmyjcdf': 7426, 'skâ': 7427, 'httpstcofw': 7428, 'pwkbb': 7429, 'intimidation': 7430, 'imitation': 7431, 'awir': 7432, 'relatively': 7433, 'suitor': 7434, 'jaded': 7435, 'httpstcowgx': 7436, 'jcl': 7437, 'companyâ': 7438, 'waver': 7439, 'skepticism': 7440, 'offset': 7441, 'fuel': 7442, 'mubz': 7443, 'httpstcohyy': 7444, 'tytagn': 7445, 'cases': 7446, 'weigh': 7447, 'restart': 7448, 'httpstcoswfm': 7449, 'sharp': 7450, 'consumption': 7451, 'exacerbated': 7452, 'feud': 7453, 'eejfldb': 7454, 'prevent': 7455, 'inventoriesâ': 7456, 'heardâ': 7457, 'sluggish': 7458, 'virus': 7459, 'virtual': 7460, 'standstill': 7461, 'investmâ': 7462, 'blackstone': 7463, 'alnylam': 7464, 'bringâ': 7465, 'httpstcogodffsb': 7466, 'volumes': 7467, 'falters': 7468, 'multinational': 7469, 'agreement': 7470, 'crudâ': 7471, 'streetwise': 7472, 'scars': 7473, 'persist': 7474, 'generation': 7475, 'sgkb': 7476, 'extent': 7477, 'profiâ': 7478, 'httpstcojtm': 7479, 'mpi': 7480, 'illustrate': 7481, 'sweeping': 7482, 'httpstcoz': 7483, 'khvlteee': 7484, 'syla': 7485, 'youngest': 7486, 'ceos': 7487, 'texas': 7488, 'mandate': 7489, 'shortage': 7490, 'transport': 7491, 'agriculturalâ': 7492, 'funeral': 7493, 'providers': 7494, 'azoe': 7495, 'mskgu': 7496, 'age': 7497, 'saddled': 7498, 'burden': 7499, 'heavier': 7500, 'coronaâ': 7501, 'httpstcordr': 7502, 'qfermv': 7503, 'dennyâ': 7504, 'franchisee': 7505, 'dawn': 7506, 'lafreeda': 7507, 'furlough': 7508, 'staff': 7509, 'itâ': 7510, 'heartbreakingâ': 7511, 'reserve': 7512, 'gauge': 7513, 'withstand': 7514, 'rpbeid': 7515, 'weekâ': 7516, 'muuunvrzt': 7517, 'program': 7518, 'weakened': 7519, 'applicants': 7520, 'stilâ': 7521, 'outbreak': 7522, 'œpandemic': 7523, 'bondsâ': 7524, 'httpstcobyp': 7525, 'hwjex': 7526, 'cannabis': 7527, 'iip': 7528, 'durinâ': 7529, 'investmentgraâ': 7530, 'httpstcobuu': 7531, 'environmental': 7532, 'lazard': 7533, 'evercore': 7534, 'funding': 7535, 'httpstcov': 7536, 'qprwufgj': 7537, 'bondmarket': 7538, 'role': 7539, 'oilworld': 7540, 'peacemaker': 7541, 'trump': 7542, 'longstanding': 7543, 'critic': 7544, 'cartelbaseâ': 7545, 'ahnpjnef': 7546, 'floatingrate': 7547, 'jasonzweigwsj': 7548, 'httpstcolw': 7549, 'tbklk': 7550, 'mexicoâ': 7551, 'reduce': 7552, 'opec': 7553, 'otheâ': 7554, 'httpstcoii': 7555, 'phgxdg': 7556, 'menâ': 7557, 'threatensâ': 7558, 'httpstcozggvnn': 7559, 'sht': 7560, 'reflects': 7561, 'paralysis': 7562, 'perspecâ': 7563, 'utwzhit': 7564, 'gunjanjs': 7565, 'bridgewaterâ': 7566, 'answers': 7567, 'journal': 7568, 'readers': 7569, 'suspension': 7570, 'distriâ': 7571, 'httpstcobxf': 7572, 'natubb': 7573, 'unlike': 7574, 'insurers': 7575, 'worldwide': 7576, 'httpstcozmenp': 7577, 'ocvy': 7578, 'jerome': 7579, 'powell': 7580, 'carefullyâ': 7581, 'brace': 7582, 'paymenâ': 7583, 'httpstcohuqwns': 7584, 'recordsetting': 7585, 'dire': 7586, 'urgency': 7587, 'rapidly': 7588, 'httpstcojeb': 7589, 'tnptdt': 7590, 'larry': 7591, 'fink': 7592, 'manager': 7593, 'httpstcozuf': 7594, 'eus': 7595, 'httpstcogppxjn': 7596, 'twr': 7597, 'ricochet': 7598, 'conducting': 7599, 'unprecedented': 7600, 'experiment': 7601, 'navigating': 7602, 'economicâ': 7603, 'mhmo': 7604, 'hbg': 7605, 'hobble': 7606, 'œpriority': 7607, 'shouldnâ': 7608, 'fees': 7609, 'arenâ': 7610, 'impacted': 7611, 'corâ': 7612, 'vkeup': 7613, 'longtail': 7614, 'capitalized': 7615, 'prolonged': 7616, 'damaging': 7617, 'evenâ': 7618, 'httpstcovtoxsqo': 7619, 'swap': 7620, 'prevented': 7621, 'pave': 7622, 'wayâ': 7623, 'httpstcoifobcu': 7624, 'jcz': 7625, 'sends': 7626, 'offsetting': 7627, 'shutdown': 7628, 'httpstcomxbkbv': 7629, 'gorman': 7630, 'senior': 7631, 'executive': 7632, 'known': 7633, 'infected': 7634, 'existing': 7635, 'socalledâ': 7636, 'nde': 7637, 'buxe': 7638, 'foreignexchange': 7639, 'bitcoin': 7640, 'cybercriminals': 7641, 'beganâ': 7642, 'httpstcoijjdf': 7643, 'dcjv': 7644, 'russia': 7645, 'saudis': 7646, 'principle': 7647, 'ybhoec': 7648, 'parks': 7649, 'cruises': 7650, 'theaters': 7651, 'luckily': 7652, 'opâ': 7653, 'argue': 7654, 'centralbank': 7655, 'paymentsâ': 7656, 'akaneotani': 7657, 'spell': 7658, 'œhysteresisâ': 7659, 'httpstcoâ': 7660, 'kenbrown': 7661, 'together': 7662, 'airbnbthe': 7663, 'httpâ': 7664, 'slash': 7665, 'httpstcomguyo': 7666, 'ycul': 7667, 'pauljdavies': 7668, 'jawdropping': 7669, 'gtgt': 7670, 'kubotayoko': 7671, 'plowing': 7672, 'inveâ': 7673, 'scandals': 7674, 'tougher': 7675, 'emergency': 7676, 'facilities': 7677, 'reserveâ': 7678, 'footprint': 7679, 'avoidâ': 7680, 'switzerlandâ': 7681, 'ubs': 7682, 'suisse': 7683, 'installments': 7684, 'acrossâ': 7685, 'craving': 7686, 'ysa': 7687, 'tmcq': 7688, 'overheard': 7689, 'disasters': 7690, 'human': 7691, 'glifova': 7692, 'germanyâ': 7693, 'lender': 7694, 'profitability': 7695, 'httpstcourm': 7696, 'lksw': 7697, 'merchants': 7698, 'httpstcokcmn': 7699, 'jbj': 7700, 'ofâ': 7701, 'httpstcoq': 7702, 'bstb': 7703, 'buoyed': 7704, 'agreeâ': 7705, 'timinggtgt': 7706, 'arabiaâ': 7707, 'sovereignwealth': 7708, 'amassed': 7709, 'europeâ': 7710, 'impossibâ': 7711, 'brrqvoraz': 7712, 'outer': 7713, 'httpstcokwx': 7714, 'qafbsa': 7715, 'extend': 7716, 'smallbusiness': 7717, 'rounâ': 7718, 'cmgxbfnl': 7719, 'result': 7720, 'widespread': 7721, 'coâ': 7722, 'httpstcoqbnn': 7723, 'ndl': 7724, 'proâ': 7725, 'httpstcozdiil': 7726, 'survival': 7727, 'gwibmvb': 7728, 'statistical': 7729, 'agencies': 7730, 'measure': 7731, 'andâ': 7732, 'httpstcoigobi': 7733, 'fayh': 7734, 'lselisted': 7735, 'enjoyed': 7736, 'pummeled': 7737, 'coronaviruâ': 7738, 'nursing': 7739, 'mainland': 7740, 'hong': 7741, 'konglisted': 7742, 'hardeâ': 7743, 'httpstcowo': 7744, 'jblqnvh': 7745, 'ministers': 7746, 'collective': 7747, 'httpstcofi': 7748, 'snjh': 7749, 'spitznagelâ': 7750, 'universa': 7751, 'insuranceâ': 7752, 'httpstconri': 7753, 'kcxj': 7754, 'consumerprice': 7755, 'drastic': 7756, 'conâ': 7757, 'rent': 7758, 'coronaviâ': 7759, 'httpstcojnd': 7760, 'fmoz': 7761, 'upstart': 7762, 'pinterest': 7763, 'disposable': 7764, 'feared': 7765, 'httpstcoypeqi': 7766, 'tbol': 7767, 'spencerjakab': 7768, 'hereâ': 7769, 'whatâ': 7770, 'nextâ': 7771, 'wsjheardâ': 7772, 'httâ': 7773, 'municipal': 7774, 'rollercoaster': 7775, 'streetâ': 7776, 'readings': 7777, 'volatile': 7778, 'normaleraâ': 7779, 'medicalproduct': 7780, 'female': 7781, 'directors': 7782, 'recall': 7783, 'witâ': 7784, 'vpxqkdo': 7785, 'depression': 7786, 'foster': 7787, 'structural': 7788, 'outlasts': 7789, 'httpstconky': 7790, 'dksw': 7791, 'vulnerable': 7792, 'york': 7793, 'shoâ': 7794, 'astkwq': 7795, 'kudlow': 7796, 'eight': 7797, 'riskier': 7798, 'atteâ': 7799, 'uivdnwl': 7800, 'leases': 7801, 'buildings': 7802, 'skittish': 7803, 'whenâ': 7804, 'fir': 7805, 'strain': 7806, 'eased': 7807, 'interventiâ': 7808, 'httpstcoayvldkn': 7809, 'staging': 7810, 'remarkable': 7811, 'twoday': 7812, 'httpstcodr': 7813, 'thursdayâ': 7814, 'saudirussian': 7815, 'oilprice': 7816, 'dxum': 7817, 'tlfy': 7818, 'secâ': 7819, 'clayton': 7820, 'disclose': 7821, 'httpstcor': 7822, 'scrwv': 7823, 'qatar': 7824, 'persian': 7825, 'gulf': 7826, 'httpstcouknszl': 7827, 'wzv': 7828, 'indonesia': 7829, 'warmer': 7830, 'weather': 7831, 'kicks': 7832, 'seasonal': 7833, 'criâ': 7834, 'httpstcoej': 7835, 'cleur': 7836, 'beneisen': 7837, 'haves': 7838, 'nots': 7839, 'mortgâ': 7840, 'hospitals': 7841, 'physician': 7842, 'practices': 7843, 'predictable': 7844, 'httpstcopxcux': 7845, 'micron': 7846, 'center': 7847, 'jackycâ': 7848, 'switzerland': 7849, 'longheld': 7850, 'httpstcohscx': 7851, 'hvxy': 7852, 'httpstcoh': 7853, 'icigtutn': 7854, 'prospects': 7855, 'ecoâ': 7856, 'fiat': 7857, 'chryslerpeugeot': 7858, 'mergers': 7859, 'prospect': 7860, 'cpixhduu': 7861, 'jackycwong': 7862, 'brave': 7863, 'editor': 7864, 'stephenwilmotâ': 7865, 'citiâ': 7866, 'east': 7867, 'africa': 7868, 'selfisolating': 7869, 'english': 7870, 'countryâ': 7871, 'cjkze': 7872, 'ztr': 7873, 'httpstcoc': 7874, 'hnlelevn': 7875, 'jamesglynnwsj': 7876, 'glynnâ': 7877, 'rba': 7878, 'sugarcoating': 7879, 'secondquarter': 7880, 'ausbiz': 7881, 'ausecon': 7882, 'httpstcotirw': 7883, 'hof': 7884, 'merger': 7885, 'oneâ': 7886, 'rwall': 7887, 'commercialjet': 7888, 'yearthey': 7889, 'couâ': 7890, 'hindsight': 7891, 'luckin': 7892, 'coffees': 7893, 'unfettered': 7894, 'access': 7895, 'estherfung': 7896, 'landlords': 7897, 'jue': 7898, 'aimed': 7899, 'restâ': 7900, 'httpstcof': 7901, 'dealer': 7902, 'spurring': 7903, 'owvlffchm': 7904, 'egg': 7905, 'supermarkets': 7906, 'farmers': 7907, 'httpstcojvxxygk': 7908, 'srussolillo': 7909, 'tepingchen': 7910, 'rosa': 7911, 'mendoza': 7912, 'waitressing': 7913, 'feeding': 7914, 'needy': 7915, 'development': 7916, 'chainâ': 7917, 'plunged': 7918, 'saleâ': 7919, 'theirâ': 7920, 'httpstcofjeefw': 7921, 'enw': 7922, 'wellwishes': 7923, 'hotzeâ': 7924, 'hotsellers': 7925, 'bbl': 7926, 'againâ': 7927, 'httpstcogyt': 7928, 'stricken': 7929, 'jinzhou': 7930, 'httpstcoxgucp': 7931, 'lblh': 7932, 'dental': 7933, 'steele': 7934, 'unlimited': 7935, 'incâ': 7936, 'httpstcoeb': 7937, 'zflngjl': 7938, 'prompts': 7939, 'liability': 7940, 'terms': 7941, 'reâ': 7942, 'hjadahgm': 7943, 'allstate': 7944, 'dispatch': 7945, 'shelterinplace': 7946, 'payback': 7947, 'checks': 7948, 'httpstcoof': 7949, 'ayfhvki': 7950, 'helpingâ': 7951, 'uuwrepdj': 7952, 'esg': 7953, 'live': 7954, 'billâ': 7955, 'httpstcoky': 7956, 'kem': 7957, 'assumption': 7958, 'overestimating': 7959, 'duration': 7960, 'retrenchment': 7961, 'httpstcoxhet': 7962, 'gdxki': 7963, 'participation': 7964, 'commercial': 7965, 'facility': 7966, 'submitted': 7967, 'neâ': 7968, 'csiptjdj': 7969, 'œyou': 7970, 'samppâ': 7971, 'httpstconujx': 7972, 'fhtcr': 7973, 'convince': 7974, 'theiâ': 7975, 'httpstcobjytfi': 7976, 'ytw': 7977, 'department': 7978, 'httpstcoduuaxs': 7979, 'yzq': 7980, 'berkshire': 7981, 'hathawayâ': 7982, 'petroleumâ': 7983, 'anadarko': 7984, 'companâ': 7985, 'httpstcoldo': 7986, 'dinsmore': 7987, 'attributes': 7988, 'bancroft': 7989, 'fundâ': 7990, 'unusually': 7991, 'judicious': 7992, 'panics': 7993, 'professor': 7994, 'figured': 7995, 'httpstcokkcdft': 7996, 'bko': 7997, 'httpstcouâ': 7998, 'telisdemos': 7999, 'halfbillion': 8000, 'beijing': 8001, 'restrained': 8002, 'monetary': 8003, 'washingtoâ': 8004, 'lehman': 8005, 'declared': 8006, 'markettiming': 8007, 'recommended': 8008, 'extensive': 8009, 'targetdate': 8010, 'rout': 8011, 'congress': 8012, 'implementation': 8013, 'loanaccounting': 8014, 'mkibjz': 8015, 'banksâ': 8016, 'minorityowned': 8017, 'leâ': 8018, 'professional': 8019, 'xinrdyzju': 8020, 'household': 8021, 'ufj': 8022, 'gwkl': 8023, 'insurer': 8024, 'handing': 8025, 'accidentsâ': 8026, 'writes': 8027, 'letter': 8028, 'recessionâ': 8029, 'httpstcoxli': 8030, 'jxzdz': 8031, 'paring': 8032, 'supplyâ': 8033, 'rhm': 8034, 'cwp': 8035, 'httpstcoktk': 8036, 'dimvl': 8037, 'gaining': 8038, 'stockfund': 8039, 'httpstcoavq': 8040, 'siuck': 8041, 'debts': 8042, 'risen': 8043, 'microscope': 8044, 'httpstcosqx': 8045, 'approo': 8046, 'advisers': 8047, 'doinâ': 8048, 'httpstcobepoby': 8049, 'goldsilver': 8050, 'leolls': 8051, 'wellestablished': 8052, 'reflecting': 8053, 'conseâ': 8054, 'httpstcotxm': 8055, 'qagehd': 8056, 'aircraft': 8057, 'values': 8058, 'plummeted': 8059, 'httpstcoczczd': 8060, 'guts': 8061, 'rewarded': 8062, 'httpstcouwdyw': 8063, 'owak': 8064, 'httpstcovosllfe': 8065, 'httpstcoaram': 8066, 'sjzu': 8067, 'œbond': 8068, 'senseâ': 8069, 'coronavirusâ': 8070, 'httpstcojzby': 8071, 'httpstcodcl': 8072, 'hzfb': 8073, 'ceasefire': 8074, 'contributed': 8075, 'httpstcomxr': 8076, 'xmilyk': 8077, 'coordination': 8078, 'enforcement': 8079, 'independently': 8080, 'infectâ': 8081, 'offline': 8082, 'httpstcopf': 8083, 'nqu': 8084, 'suspended': 8085, 'sharerepurchase': 8086, 'removing': 8087, 'crucial': 8088, 'pillar': 8089, 'durâ': 8090, 'httpstcoixi': 8091, 'qcssf': 8092, 'curtailed': 8093, 'pronounced': 8094, 'neawjpny': 8095, 'address': 8096, 'ballooning': 8097, 'dmktykrm': 8098, 'httpstcoqmnpsf': 8099, 'virusrelated': 8100, 'attributable': 8101, 'counties': 8102, 'manhattan': 8103, 'cookâ': 8104, 'felled': 8105, 'longreads': 8106, 'wsjgraphics': 8107, 'supplychain': 8108, 'expose': 8109, 'spotâ': 8110, 'httpstcoqwiba': 8111, 'adherents': 8112, 'independence': 8113, 'retire': 8114, 'doublinâ': 8115, 'httpstcoklzyro': 8116, 'theater': 8117, 'recoverâ': 8118, 'httpstcokzhv': 8119, 'ekotp': 8120, 'jmackin': 8121, 'httpstcob': 8122, 'tqywvhij': 8123, 'swept': 8124, 'jpmorganâ': 8125, 'httpstcogs': 8126, 'igg': 8127, 'httpstcottv': 8128, 'qtv': 8129, 'allowed': 8130, 'threatens': 8131, 'httpstcodumydnh': 8132, 'forced': 8133, 'individuals': 8134, 'explores': 8135, 'howâ': 8136, 'agi': 8137, 'pluy': 8138, 'rocky': 8139, 'xae': 8140, 'anybodyâ': 8141, 'monthwe': 8142, 'goâ': 8143, 'yiheticu': 8144, 'proactive': 8145, 'secure': 8146, 'futâ': 8147, 'httpstcorhrcnz': 8148, 'inh': 8149, 'efc': 8150, 'collegeaid': 8151, 'coa': 8152, 'httpstcoshfwdkx': 8153, 'receding': 8154, 'currencies': 8155, 'httpstcovavmrmy': 8156, 'carloan': 8157, 'generous': 8158, 'httpstcoikxqkz': 8159, 'stunning': 8160, 'masked': 8161, 'depth': 8162, 'pmmd': 8163, 'slcy': 8164, 'hikers': 8165, 'encounter': 8166, 'calm': 8167, 'makâ': 8168, 'students': 8169, 'request': 8170, 'financialaid': 8171, 'rankling': 8172, 'shoppers': 8173, 'ton': 8174, 'httpstcoo': 8175, 'eeza': 8176, 'fvb': 8177, 'surviving': 8178, 'familiar': 8179, 'backwoods': 8180, 'whoâ': 8181, 'grizzly': 8182, 'encounteâ': 8183, 'implosion': 8184, 'starbucks': 8185, 'wannabe': 8186, 'diligence': 8187, 'farawayâ': 8188, 'httpstcolqqoc': 8189, 'vocw': 8190, 'terrifying': 8191, 'oxford': 8192, 'economics': 8193, 'projects': 8194, 'millioâ': 8195, 'bluechipsâ': 8196, 'turbulent': 8197, 'regeneron': 8198, 'gilead': 8199, 'sciâ': 8200, 'httpstcotmlgig': 8201, 'sympathy': 8202, 'pleas': 8203, 'equitybacked': 8204, 'davidamichaels': 8205, 'httpstcojlod': 8206, 'succeeded': 8207, 'flooding': 8208, 'challenge': 8209, 'convincing': 8210, 'useâ': 8211, 'httpstcohe': 8212, 'xmitlgq': 8213, 'federally': 8214, 'allow': 8215, 'forbearance': 8216, 'experiencing': 8217, 'financialâ': 8218, 'eobpmqvo': 8219, 'employers': 8220, 'pasâ': 8221, 'httpstcopcjlsr': 8222, 'ujs': 8223, 'hiding': 8224, 'servicers': 8225, 'jusâ': 8226, 'ixqufxca': 8227, 'curb': 8228, 'appeal': 8229, 'httpstcotm': 8230, 'wzjfbjf': 8231, 'ownership': 8232, 'fundmanagement': 8233, 'scrapped': 8234, 'httpstcotzgywgy': 8235, 'saga': 8236, 'challenger': 8237, 'caffeine': 8238, 'altriaâ': 8239, 'fraught': 8240, 'ecigarette': 8241, 'juul': 8242, 'labs': 8243, 'redeem': 8244, 'challengeâ': 8245, 'httpstcoan': 8246, 'yyoe': 8247, 'httpstcovslulc': 8248, 'lend': 8249, 'beijings': 8250, 'minzengwsj': 8251, 'fridayâ': 8252, 'wouldnâ': 8253, 'employeâ': 8254, 'appealiâ': 8255, 'accomplished': 8256, 'decades': 8257, 'coups': 8258, 'terrorist': 8259, 'opecâ': 8260, 'httpstconysxltp': 8261, 'usâ': 8262, 'stockpile': 8263, 'ventilatorsâ': 8264, 'pales': 8265, 'comparisoâ': 8266, 'investmentsâ': 8267, 'exchangetraded': 8268, 'reviving': 8269, 'investorsâ': 8270, 'stockpicâ': 8271, 'prizes': 8272, 'jackpot': 8273, 'anâ': 8274, 'rusupus': 8275, 'columnist': 8276, 'httpstcogtwco': 8277, 'jlic': 8278, 'japanese': 8279, 'terminates': 8280, 'officespace': 8281, 'wework': 8282, 'deprivinâ': 8283, 'httpstcohazxjv': 8284, 'benchmarkâ': 8285, 'outperformance': 8286, 'underscores': 8287, 'recâ': 8288, 'httpstcoqtsriag': 8289, 'labor': 8290, 'httpstcoidmk': 8291, 'birwa': 8292, 'crudeoil': 8293, 'benchmarks': 8294, 'spiked': 8295, 'oneday': 8296, 'lkmfjjixu': 8297, 'chart': 8298, 'reacted': 8299, 'biggestâ': 8300, 'signaled': 8301, 'oilwar': 8302, 'rebalanceâ': 8303, 'xvpvjaa': 8304, 'drugstore': 8305, 'httpstcolnibof': 8306, 'dimon': 8307, 'returned': 8308, 'undergoing': 8309, 'surâ': 8310, 'httpstcon': 8311, 'lyph': 8312, 'jjkwy': 8313, 'httpstcorahxhfd': 8314, 'httpstcohd': 8315, 'pln': 8316, 'unreal': 8317, 'brent': 8318, 'httpstcosâ': 8319, 'gyrating': 8320, 'wildly': 8321, 'timeâ': 8322, 'httpstcoynmr': 8323, 'aorrt': 8324, 'scottmaustin': 8325, 'shocking': 8326, 'cozdmwcob': 8327, 'wwsy': 8328, 'russiasaudi': 8329, 'dispute': 8330, 'resolved': 8331, 'httpstcoaag': 8332, 'qqau': 8333, 'downshift': 8334, 'httpstcoqcnvoqu': 8335, 'casinosâ': 8336, 'httpstcotya': 8337, 'izif': 8338, 'davidhodari': 8339, 'whitâ': 8340, 'tiptoeing': 8341, 'roaring': 8342, 'speedy': 8343, 'west': 8344, 'epidemic': 8345, 'httpstcoeukx': 8346, 'mmdjr': 8347, 'accurateâ': 8348, 'httpstcouf': 8349, 'ypkp': 8350, 'costing': 8351, 'properties': 8352, 'complâ': 8353, 'ljy': 8354, 'chris': 8355, 'hansen': 8356, 'heâ': 8357, 'httpstcoho': 8358, 'rqm': 8359, 'marketwide': 8360, 'vulnerability': 8361, 'municipalbond': 8362, 'httpstcowy': 8363, 'sjqt': 8364, 'hqew': 8365, 'arabiarussia': 8366, 'httpstconh': 8367, 'bwphtsh': 8368, 'natetaplin': 8369, 'misplacâ': 8370, 'treasurys': 8371, 'bitâ': 8372, 'abandons': 8373, 'tender': 8374, 'hired': 8375, 'coronaaid': 8376, 'muck': 8377, 'theyâ': 8378, 'packages': 8379, 'workforce': 8380, 'plane': 8381, 'toâ': 8382, 'nhendersonwsj': 8383, 'commission': 8384, 'suing': 8385, 'altria': 8386, 'unwind': 8387, 'podcast': 8388, 'httpstcoomwrlic': 8389, 'popularity': 8390, 'harassment': 8391, 'zoombombing': 8392, 'ixdco': 8393, 'kug': 8394, 'obscure': 8395, 'requirement': 8396, 'laâ': 8397, 'httpstcovwbpv': 8398, 'hevd': 8399, 'whiting': 8400, 'dakotaâ': 8401, 'sizable': 8402, 'fracker': 8403, 'succumb': 8404, 'currenâ': 8405, 'industrials': 8406, 'wrapped': 8407, 'sixth': 8408, 'betteâ': 8409, 'sdyhpcjhi': 8410, 'imposes': 8411, 'levy': 8412, 'httpstcoiparar': 8413, 'httpstcoikrtcmd': 8414, 'harder': 8415, 'manufacturers': 8416, 'localities': 8417, 'halt': 8418, 'spreadâ': 8419, 'hmwqfmd': 8420, 'repercussioâ': 8421, 'yfkn': 8422, 'foqg': 8423, 'enduring': 8424, 'reassessment': 8425, 'forâ': 8426, 'httpstcokwl': 8427, 'gcjqds': 8428, 'sen': 8429, 'kelly': 8430, 'loeffler': 8431, 'exchange': 8432, 'jeffrey': 8433, 'sprecher': 8434, 'british': 8435, 'awkward': 8436, 'pharmaceutical': 8437, 'vacâ': 8438, 'paulwsj': 8439, 'gathered': 8440, 'soccer': 8441, 'weeksâ': 8442, 'defacto': 8443, 'xekghnb': 8444, 'drewfitzgerald': 8445, 'atampt': 8446, 'tmobile': 8447, 'ramping': 8448, 'boosting': 8449, 'tankers': 8450, 'httpstcoolzlb': 8451, 'shrink': 8452, 'contributions': 8453, 'employeesâ': 8454, 'conservâ': 8455, 'hmd': 8456, 'dpfvf': 8457, 'andrewscurria': 8458, 'oilandgas': 8459, 'stemming': 8460, 'files': 8461, 'chapter': 8462, 'calmer': 8463, 'stretch': 8464, 'warn': 8465, 'mucâ': 8466, 'margotpatrick': 8467, 'coronabonds': 8468, 'proponents': 8469, 'repeating': 8470, 'eurozoneâ': 8471, 'sin': 8472, 'publichealth': 8473, 'httpstcogu': 8474, 'nyqb': 8475, 'repo': 8476, 'effectively': 8477, 'costfree': 8478, 'booming': 8479, 'ecommerce': 8480, 'partiallyâ': 8481, 'httpstcogzmxz': 8482, 'kkt': 8483, 'abandoning': 8484, 'starving': 8485, 'lendeâ': 8486, 'mzivhss': 8487, 'epidemiologist': 8488, 'assume': 8489, 'raeevzep': 8490, 'enâ': 8491, 'httpstcozhash': 8492, 'elqa': 8493, 'igw': 8494, 'nefq': 8495, 'crisisstruck': 8496, 'flexibility': 8497, 'unchallenged': 8498, 'currency': 8499, 'facto': 8500, 'curâ': 8501, 'scrambles': 8502, 'graduating': 8503, 'occupied': 8504, 'coronavirushit': 8505, 'pbjnrg': 8506, 'viaâ': 8507, 'slowâ': 8508, 'scope': 8509, 'australia': 8510, 'auspol': 8511, 'operator': 8512, 'tickets': 8513, 'httpstcocwrhr': 8514, 'saved': 8515, 'clutches': 8516, 'xerox': 8517, 'giâ': 8518, 'vwy': 8519, 'vwpm': 8520, 'doctors': 8521, 'nurses': 8522, 'vulneâ': 8523, 'httpstcoozt': 8524, 'vpbd': 8525, 'housing': 8526, 'pressures': 8527, 'pandemicâ': 8528, 'httpstcoaurtqcp': 8529, 'standard': 8530, 'chartered': 8531, 'sanctions': 8532, 'imposed': 8533, 'authorities': 8534, 'saâ': 8535, 'riskiest': 8536, 'highyield': 8537, 'httpstcoqedb': 8538, 'keo': 8539, 'marred': 8540, 'putp': 8541, 'tyc': 8542, 'secretary': 8543, 'eugene': 8544, 'scalia': 8545, 'packageâ': 8546, 'lgoxvj': 8547, 'appetite': 8548, 'junkbond': 8549, 'realestate': 8550, 'compelled': 8551, 'findâ': 8552, 'sxyzhiql': 8553, 'grew': 8554, 'twice': 8555, 'infrastructure': 8556, 'fourth': 8557, 'congressional': 8558, 'packâ': 8559, 'httpstcoe': 8560, 'mhctktm': 8561, 'jrwc': 8562, 'danamattioli': 8563, 'sebasaherrera': 8564, 'strainiâ': 8565, 'worker': 8566, 'temperatures': 8567, 'uuurcidgy': 8568, 'iraq': 8569, 'overwhelming': 8570, 'mass': 8571, 'absences': 8572, 'restive': 8573, 'attractive': 8574, 'safety': 8575, 'renewableâ': 8576, 'fqfexxjpj': 8577, 'rajiv': 8578, 'bajaj': 8579, 'httpstcohj': 8580, 'dxsj': 8581, 'sensex': 8582, 'ends': 8583, 'nifty': 8584, 'iads': 8585, 'bxl': 8586, 'rbis': 8587, 'httpstcoujc': 8588, 'biiehi': 8589, 'crore': 8590, 'httpstcohg': 8591, 'fgogbwo': 8592, 'fortunes': 8593, 'orjmi': 8594, 'sensitive': 8595, 'httpstcovkku': 8596, 'zdlwx': 8597, 'npa': 8598, 'norm': 8599, 'applicable': 8600, 'moratorium': 8601, 'granted': 8602, 'governor': 8603, 'adjustment': 8604, 'auction': 8605, 'targeted': 8606, 'conducted': 8607, 'conduct': 8608, 'refinancing': 8609, 'tltro': 8610, 'shaktikanta': 8611, 'india': 8612, 'quoting': 8613, 'imf': 8614, 'projection': 8615, 'injected': 8616, 'tune': 8617, 'handful': 8618, 'register': 8619, 'proactively': 8620, 'briefing': 8621, 'tracking': 8622, 'cues': 8623, 'marketupdates': 8624, 'gapup': 8625, 'decade': 8626, 'lockdown': 8627, 'festivals': 8628, 'weddings': 8629, 'falszwt': 8630, 'httpstcom': 8631, 'eqatruvx': 8632, 'pharma': 8633, 'httpstcooq': 8634, 'zrk': 8635, 'pkb': 8636, 'merchandise': 8637, 'steepest': 8638, 'httpstcour': 8639, 'jgagz': 8640, 'policies': 8641, 'renewal': 8642, 'fears': 8643, 'linger': 8644, 'grim': 8645, 'slip': 8646, 'exrbi': 8647, 'rangarajan': 8648, 'wipro': 8649, 'httpstcoyvohg': 8650, 'januarymarch': 8651, 'rupee': 8652, 'slides': 8653, 'paise': 8654, 'qge': 8655, 'httpstcofvsloy': 8656, 'ewl': 8657, 'slumps': 8658, 'wholesale': 8659, 'eases': 8660, 'httpstcomwg': 8661, 'yiux': 8662, 'iata': 8663, 'httpstcowhp': 8664, 'overcrowding': 8665, 'deydg': 8666, 'stands': 8667, 'seeks': 8668, 'rebuild': 8669, 'httpstcoppsa': 8670, 'agqz': 8671, 'httpstcourepsnt': 8672, 'governmentrun': 8673, 'scheme': 8674, 'fetch': 8675, 'dates': 8676, 'httpstcorsecoxk': 8677, 'hzhx': 8678, 'indias': 8679, 'httpstcoyftp': 8680, 'gwwls': 8681, 'httpstcofctgc': 8682, 'ports': 8683, 'adani': 8684, 'disrupted': 8685, 'httpstcoqtdcn': 8686, 'ptyb': 8687, 'passenger': 8688, 'siam': 8689, 'httpstcoftr': 8690, 'ijovcu': 8691, 'reliance': 8692, 'industries': 8693, 'hdfc': 8694, 'drags': 8695, 'httpstcopj': 8696, 'zrqmfhk': 8697, 'insufficient': 8698, 'httpstcotsm': 8699, 'ucet': 8700, 'hpb': 8701, 'httpstcoylhfkid': 8702, 'httpstcodi': 8703, 'yfiz': 8704, 'approve': 8705, 'nekw': 8706, 'qgfb': 8707, 'acquires': 8708, 'downturn': 8709, 'nwlow': 8710, 'httpstcoood': 8711, 'jxwwe': 8712, 'hospitality': 8713, 'icici': 8714, 'deploy': 8715, 'vans': 8716, 'noida': 8717, 'districts': 8718, 'httpstcoezbj': 8719, 'eet': 8720, 'outline': 8721, 'hhfm': 8722, 'pus': 8723, 'mnepboufg': 8724, 'httpstcongvxn': 8725, 'httpstcorq': 8726, 'ivld': 8727, 'cognizant': 8728, 'withdraws': 8729, 'drastically': 8730, 'altered': 8731, 'cipla': 8732, 'tata': 8733, 'motors': 8734, 'httpstcoirfgp': 8735, 'eklr': 8736, 'directly': 8737, 'nyqtiu': 8738, 'httpstcohfxzug': 8739, 'fourmonth': 8740, 'poll': 8741, 'rdbiggest': 8742, 'httpstcodg': 8743, 'ailf': 8744, 'incentives': 8745, 'asxlk': 8746, 'mdfubm': 8747, 'httpstcoshm': 8748, 'judioc': 8749, 'lakh': 8750, 'httpstcoodzhwrt': 8751, 'oecd': 8752, 'httpstcokmzkv': 8753, 'httpstcomku': 8754, 'tjiimq': 8755, 'settles': 8756, 'sbi': 8757, 'deposits': 8758, 'rshsnxvlm': 8759, 'httpstcohx': 8760, 'fphj': 8761, 'steam': 8762, 'bsdngz': 8763, 'coronavir': 8764, 'httpstcocsmnyu': 8765, 'httpstcody': 8766, 'boxdlzb': 8767, 'slashes': 8768, 'lending': 8769, 'tenors': 8770, 'emis': 8771, 'httpstcoao': 8772, 'fco': 8773, 'hindustan': 8774, 'unilever': 8775, 'coffers': 8776, 'trucks': 8777, 'httpstcogrhnn': 8778, 'httpstcoyks': 8779, 'qyu': 8780, 'thinktank': 8781, 'cmie': 8782, 'marke': 8783, 'encouraged': 8784, 'resurge': 8785, 'httpstcooc': 8786, 'feinog': 8787, 'revise': 8788, 'circuit': 8789, 'breakers': 8790, 'httpstcojqnhn': 8791, 'poa': 8792, 'imports': 8793, 'qisot': 8794, 'mukesh': 8795, 'ambanis': 8796, 'ttjumldfu': 8797, 'httpstcourv': 8798, 'eyv': 8799, 'mahavir': 8800, 'jayanti': 8801, 'httpstconmf': 8802, 'uelc': 8803, 'deccan': 8804, 'ceases': 8805, 'sabbatical': 8806, 'gvdlooj': 8807, 'fpis': 8808, 'mayhem': 8809, 'lrvdu': 8810, 'anxietydriven': 8811, 'united': 8812, 'nations': 8813, 'arm': 8814, 'slowest': 8815, 'reforms': 8816, 'rgckb': 8817, 'httpstcogo': 8818, 'zdiejpi': 8819, 'basic': 8820, 'petrol': 8821, 'diesel': 8822, 'yipskvodo': 8823, 'subdued': 8824, 'zkmhds': 8825, 'fmcg': 8826, 'gftccefw': 8827, 'httpstcofia': 8828, 'qadjbo': 8829, 'slips': 8830, 'scare': 8831, 'httpstconjxt': 8832, 'rffwz': 8833, 'ipibfvh': 8834, 'httpstcozjbf': 8835, 'httpstcop': 8836, 'bvhiso': 8837, 'joblessness': 8838, 'lifts': 8839, 'safehaven': 8840, 'nswhy': 8841, 'airways': 8842, 'union': 8843, 'httpstcodjyn': 8844, 'xamm': 8845, 'suspends': 8846, 'pilots': 8847, 'httpstcorul': 8848, 'qaefb': 8849, 'steep': 8850, 'freezes': 8851, 'hoteliers': 8852, 'stare': 8853, 'httpstcogr': 8854, 'ram': 8855, 'navami': 8856, 'httpstcotif': 8857, 'veke': 8858, 'makers': 8859, 'httpstcoarcyzy': 8860, 'brink': 8861, 'httpstcozjccmfd': 8862, 'gst': 8863, 'httpstcoml': 8864, 'lgjggu': 8865, 'borrowers': 8866, 'oxekt': 8867, 'begins': 8868, 'severe': 8869, 'maruti': 8870, 'suzuki': 8871, 'lzqly': 8872, 'pfzung': 8873, 'oils': 8874, 'unparalleled': 8875, 'gamechanger': 8876, 'httpstcoqa': 8877, 'tghkwbu': 8878, 'aggressively': 8879, 'aprilseptember': 8880, 'httpstcocbv': 8881, 'djb': 8882, 'refunding': 8883, 'unused': 8884, 'aviation': 8885, 'httpstcopzw': 8886, 'iqkkva': 8887, 'spicejet': 8888, 'salary': 8889, 'httpstcobyfy': 8890, 'ipxm': 8891, 'httpstcohki': 8892, 'epg': 8893, 'staterun': 8894, 'oeop': 8895, 'httpstcozt': 8896, 'ullq': 8897, 'suffers': 8898, 'inception': 8899, 'rattle': 8900, 'httpstcoxk': 8901, 'wuu': 8902, 'httpstcoofbllb': 8903, 'thm': 8904, 'metal': 8905, 'rysy': 8906, 'touches': 8907, 'worbc': 8908, 'jqelh': 8909, 'tbkkonte': 8910, 'extends': 8911, 'halol': 8912, 'indianivesh': 8913, 'shuts': 8914, 'httpstcouh': 8915, 'obt': 8916, 'httpstcoddob': 8917, 'wki': 8918, 'gapdown': 8919, 'httpstcoaifwj': 8920, 'fastest': 8921, 'corona': 8922, 'diighe': 8923, 'lpg': 8924, 'httpstcojnkrw': 8925, 'ensure': 8926, 'imfs': 8927, 'kristalina': 8928, 'georgieva': 8929, 'grocery': 8930, 'tycoon': 8931, 'kishore': 8932, 'biyanis': 8933, 'afloat': 8934, 'httpstcovdzbhnh': 8935, 'vistara': 8936, 'mandatory': 8937, 'httpstcoewawzu': 8938, 'gwve': 8939, 'flipkart': 8940, 'rpczv': 8941, 'reo': 8942, 'httpstcovet': 8943, 'pazo': 8944, 'httpstcopca': 8945, 'voljsh': 8946, 'electricity': 8947, 'indusind': 8948, 'httpstcoholgm': 8949, 'infuse': 8950, 'contained': 8951, 'refrains': 8952, 'httpstcopbme': 8953, 'cosfc': 8954, 'surpassed': 8955, 'gfu': 8956, 'trdg': 8957, 'withdrawals': 8958, 'infused': 8959, 'vigilant': 8960, 'mitigate': 8961, 'institutions': 8962, 'threemonth': 8963, 'httpstcofe': 8964, 'sbvm': 8965, 'bps': 8966, 'tide': 8967, 'disruptive': 8968, 'unscheduled': 8969, 'committee': 8970, 'bpb': 8971, 'httpstcogey': 8972, 'uarcko': 8973, 'httpstcobgz': 8974, 'stkkhu': 8975, 'deepen': 8976, 'destroys': 8977, 'puqztl': 8978, 'governmentled': 8979, 'rescue': 8980, 'httpstcobsmrmn': 8981, 'seek': 8982, 'avert': 8983, 'bankruptcies': 8984, 'httpstcowkgau': 8985, 'hnex': 8986, 'downgrading': 8987, 'atms': 8988, 'nirmala': 8989, 'sitharaman': 8990, 'denies': 8991, 'branches': 8992, 'bakrw': 8993, 'commodity': 8994, 'httpstcolfce': 8995, 'tnndz': 8996, 'lakhcrore': 8997, 'migrant': 8998, 'minister': 8999, 'withdraw': 9000, 'employee': 9001, 'provident': 9002, 'whichever': 9003, 'httpstcoaxrxryd': 9004, 'contribution': 9005, 'employer': 9006, 'ujjwala': 9007, 'yojana': 9008, 'cro': 9009, 'httpstcoeuesc': 9010, 'ypgo': 9011, 'mnrega': 9012, 'famil': 9013, 'httpstcoog': 9014, 'csuso': 9015, 'sitharamans': 9016, 'httpstcohmmuh': 9017, 'mlx': 9018, 'heal': 9019, 'uzigvxmrn': 9020, 'vwwxtug': 9021, 'stares': 9022, 'resumes': 9023, 'xxuzgsrj': 9024, 'goair': 9025, 'decides': 9026, 'httpstconf': 9027, 'zmmuhqd': 9028, 'httpstcocy': 9029, 'dxf': 9030, 'crg': 9031, 'unveil': 9032, 'tackle': 9033, 'httpstcomh': 9034, 'fvmjq': 9035, 'broadbased': 9036, 'axis': 9037, 'kotak': 9038, 'mahindra': 9039, 'httpstcoxvytnbo': 9040, 'httpstcozmnh': 9041, 'wpk': 9042, 'coro': 9043, 'httpstcord': 9044, 'psz': 9045, 'assures': 9046, 'httpstconrwkw': 9047, 'qut': 9048, 'httpstcoputyss': 9049, 'insolvency': 9050, 'threshold': 9051, 'httpstcore': 9052, 'stucowt': 9053, 'suspending': 9054, 'section': 9055, 'httpstcodpsj': 9056, 'zhhi': 9057, 'independent': 9058, 'httpstconmsyihn': 9059, 'swings': 9060, 'httpstcoqtv': 9061, 'iuebkt': 9062, 'ramps': 9063, 'httpstcouc': 9064, 'oeel': 9065, 'asian': 9066, 'brrq': 9067, 'excise': 9068, 'litre': 9069, 'httpstcown': 9070, 'oim': 9071, 'nzj': 9072, 'httpstcokayrhz': 9073, 'zln': 9074, 'httpstcoyk': 9075, 'uwlk': 9076, 'coronavi': 9077, 'httpstcodzp': 9078, 'suya': 9079, 'httpstcozom': 9080, 'uhrfzz': 9081, 'threatened': 9082, 'httpstcobm': 9083, 'fbo': 9084, 'plummets': 9085, 'batters': 9086, 'httpstcofgbvnhx': 9087, 'coronaviru': 9088, 'cbbixxfhn': 9089, 'httpstcockanjr': 9090, 'halted': 9091, 'qaog': 9092, 'pfk': 9093, 'jitters': 9094, 'httpstcoujveph': 9095, 'coronavirusled': 9096, 'dqad': 9097, 'tumble': 9098, 'httpstcojz': 9099, 'losqz': 9100, 'sharply': 9101, 'yybu': 9102, 'crumble': 9103, 'src': 9104, 'plants': 9105, 'gkuqwaa': 9106, 'cabinet': 9107, 'approves': 9108, 'schemes': 9109, 'httpstconwf': 9110, 'ydrbvh': 9111, 'regulator': 9112, 'sebi': 9113, 'tightens': 9114, 'norms': 9115, 'httpstcoucx': 9116, 'gayibw': 9117, 'derails': 9118, 'classification': 9119, 'maharashtra': 9120, 'httpstcoeccry': 9121, 'rqmm': 9122, 'fourday': 9123, 'httpstcogw': 9124, 'koq': 9125, 'nbjzo': 9126, 'httpstcocdjcbsp': 9127, 'httpstcoxzqs': 9128, 'syqji': 9129, 'httpstcoevqbt': 9130, 'dcz': 9131, 'httpstcoqphiic': 9132, 'httpstcogybgz': 9133, 'httpstcokostqd': 9134, 'ycatidnyq': 9135, 'httpstcojlk': 9136, 'pls': 9137, 'hover': 9138, 'foreigners': 9139, 'sheds': 9140, 'httpstcotqu': 9141, 'batter': 9142, 'httpstcoyq': 9143, 'xcnl': 9144, 'httpstcorrh': 9145, 'gms': 9146, 'shelve': 9147, 'fundraising': 9148, 'httpstcoxzdfkil': 9149, 'httpstcofp': 9150, 'ytuvqf': 9151, 'grams': 9152, 'smklg': 9153, 'httpstcog': 9154, 'pdws': 9155, 'httpstcolixwsv': 9156, 'httpstcodakaxwn': 9157, 'boosts': 9158, 'zrtxeupw': 9159, 'shaky': 9160, 'jrhxwcrv': 9161, 'onethird': 9162, 'withdrew': 9163, 'httpstcosiayn': 9164, 'tze': 9165, 'normalcy': 9166, 'restored': 9167, 'vnhunj': 9168, 'clock': 9169, 'pummels': 9170, 'hire': 9171, 'httpstcousp': 9172, 'dvswhd': 9173, 'barrel': 9174, 'wzillidr': 9175, 'httpstcoifj': 9176, 'fij': 9177, 'fplfmtsoy': 9178, 'affected': 9179, 'qxhfdja': 9180, 'listing': 9181, 'debut': 9182, 'sefqzi': 9183, 'httpstcorhwz': 9184, 'bbx': 9185, 'httpstcoivuq': 9186, 'azsrk': 9187, 'deficit': 9188, 'rnbkdrnl': 9189, 'crisishit': 9190, 'dearness': 9191, 'httpstcomrz': 9192, 'hnalcq': 9193, 'invited': 9194, 'httpstcokg': 9195, 'fwk': 9196, 'kdw': 9197, 'surplus': 9198, 'httpstcoziy': 9199, 'kqur': 9200, 'recovers': 9201, 'robust': 9202, 'framework': 9203, 'httpstcomsawol': 9204, 'rebounds': 9205, 'yqv': 9206, 'qqqaystv': 9207, 'httpstconui': 9208, 'iplpub': 9209, 'httpstcoonjpa': 9210, 'meltdown': 9211, 'httpstcodm': 9212, 'qdiujzz': 9213, 'mrlyuqwju': 9214, 'tourist': 9215, 'looming': 9216, 'httpstcormuqui': 9217, 'hpd': 9218, 'httpstcolojpnfj': 9219, 'powering': 9220, 'xbjqk': 9221, 'fuels': 9222, 'httpstcoch': 9223, 'ofbg': 9224, 'spooks': 9225, 'iejiz': 9226, 'mvye': 9227, 'xrco': 9228, 'httpstcoyrnk': 9229, 'donald': 9230, 'httpstcogpns': 9231, 'nzktf': 9232, 'bans': 9233, 'qqxujra': 9234, 'httpstcobcxctd': 9235, 'jgj': 9236, 'hwx': 9237, 'nearl': 9238, 'httpstcory': 9239, 'iyzrrbw': 9240, 'okjmk': 9241, 'httpstcozxlzl': 9242, 'httpstcovmge': 9243, 'afwg': 9244, 'mobwe': 9245, 'httpstcoabebloj': 9246, 'bse': 9247, 'ended': 9248, 'httpstcoyfad': 9249, 'lmn': 9250, 'perilous': 9251, 'httpstcopury': 9252, 'hsd': 9253, 'httpstcohttmhwr': 9254, 'ncd': 9255, 'replace': 9256, 'highcost': 9257, 'defensive': 9258, 'largecaps': 9259, 'tcs': 9260, 'layoffs': 9261, 'cii': 9262, 'discoms': 9263, 'yjyjajl': 9264, 'wage': 9265, 'sharemarket': 9266, 'xgtlrokui': 9267, 'factors': 9268, 'dstreet': 9269}\n"
          ]
        },
        {
          "output_type": "execute_result",
          "data": {
            "text/plain": [
              "9270"
            ]
          },
          "metadata": {},
          "execution_count": 26
        }
      ],
      "source": [
        "word_dict = build_word_dict(stock_df['cleaned'])\n",
        "# wordDictJson = []\n",
        "# for word in word_dict:\n",
        "#     tmp = {}\n",
        "#     tmp[\"word\"] = word\n",
        "#     tmp[\"code\"] = word_dict[word]\n",
        "#     wordDictJson.append(tmp)\n",
        "\n",
        "# print(wordDictJson)\n",
        "print(word_dict)\n",
        "len(word_dict)"
      ]
    },
    {
      "cell_type": "code",
      "source": [
        "#from google.colab import files\n",
        "#import json\n",
        "\n",
        "\n",
        "# print(wordDictJson)\n",
        "#with open('word_dict.json', 'w') as fp:\n",
        " # json.dump(word_dict, fp)"
      ],
      "metadata": {
        "id": "z1uCLa8g1DtA"
      },
      "execution_count": null,
      "outputs": []
    },
    {
      "cell_type": "code",
      "execution_count": 28,
      "metadata": {
        "id": "lUgEf-SZ7R7c"
      },
      "outputs": [],
      "source": [
        "x_train, x_test, y_train, y_test = train_test_split(stock_df['cleaned'], stock_df['Sentiment'], test_size = 0.15)"
      ]
    },
    {
      "cell_type": "code",
      "execution_count": 29,
      "metadata": {
        "id": "Kme-IYsM6uJa",
        "colab": {
          "base_uri": "https://localhost:8080/"
        },
        "outputId": "82997dbb-26ac-4959-ecf7-1fae78053cec"
      },
      "outputs": [
        {
          "output_type": "stream",
          "name": "stdout",
          "text": [
            "8438\n"
          ]
        }
      ],
      "source": [
        "word_dict_train = build_word_dict(x_train)\n",
        "print(len(word_dict_train))\n",
        "y_train_cat = to_categorical(y_train, num_classes=2)\n",
        "y_test_cat = to_categorical(y_test, num_classes=2)"
      ]
    },
    {
      "cell_type": "code",
      "execution_count": 30,
      "metadata": {
        "id": "6caxHR9f1Lnr"
      },
      "outputs": [],
      "source": [
        "def sentence_to_vector(sentences, vocab_dict, max_length, unk_token='__UNK__'):\n",
        "    \n",
        "    sequences = []\n",
        "    unk_ID = vocab_dict[unk_token]\n",
        "    for sentence in sentences:\n",
        "        word_l = nltk.word_tokenize(sentence)\n",
        "        vector_word = []\n",
        "        for word in word_l:\n",
        "            word_ID = vocab_dict.get(word, unk_ID)\n",
        "            vector_word.append(word_ID)\n",
        "        vector_word.extend([0] * (max_length - len(vector_word)))\n",
        "        sequences.append(vector_word)\n",
        "    return sequences"
      ]
    },
    {
      "cell_type": "code",
      "execution_count": 31,
      "metadata": {
        "id": "4tGqwPkoiXea"
      },
      "outputs": [],
      "source": [
        "train_sequences = np.array(sentence_to_vector(x_train, word_dict_train, max_length))"
      ]
    },
    {
      "cell_type": "code",
      "execution_count": 32,
      "metadata": {
        "id": "e3joXOZeieD0"
      },
      "outputs": [],
      "source": [
        "test_sequences = np.array(sentence_to_vector(x_test, word_dict_train, max_length))"
      ]
    },
    {
      "cell_type": "code",
      "execution_count": 34,
      "metadata": {
        "id": "KlUjvz5UPZm0",
        "colab": {
          "base_uri": "https://localhost:8080/"
        },
        "outputId": "bb41de14-5a16-42e3-d47e-dcbb17bbd76b"
      },
      "outputs": [
        {
          "output_type": "stream",
          "name": "stdout",
          "text": [
            "Model: \"sequential_1\"\n",
            "_________________________________________________________________\n",
            " Layer (type)                Output Shape              Param #   \n",
            "=================================================================\n",
            " embedding_1 (Embedding)     (None, None, 256)         2160128   \n",
            "                                                                 \n",
            " conv1d_1 (Conv1D)           (None, None, 128)         98432     \n",
            "                                                                 \n",
            " global_max_pooling1d_1 (Glo  (None, 128)              0         \n",
            " balMaxPooling1D)                                                \n",
            "                                                                 \n",
            " dense_2 (Dense)             (None, 64)                8256      \n",
            "                                                                 \n",
            " dropout_1 (Dropout)         (None, 64)                0         \n",
            "                                                                 \n",
            " dense_3 (Dense)             (None, 2)                 130       \n",
            "                                                                 \n",
            "=================================================================\n",
            "Total params: 2,266,946\n",
            "Trainable params: 2,266,946\n",
            "Non-trainable params: 0\n",
            "_________________________________________________________________\n",
            "Epoch 1/4\n",
            "131/131 [==============================] - 6s 36ms/step - loss: 0.5838 - acc: 0.6878 - val_loss: 0.5006 - val_acc: 0.7564\n",
            "Epoch 2/4\n",
            "131/131 [==============================] - 5s 38ms/step - loss: 0.2887 - acc: 0.8857 - val_loss: 0.5105 - val_acc: 0.7740\n",
            "Epoch 3/4\n",
            "131/131 [==============================] - 4s 34ms/step - loss: 0.0813 - acc: 0.9730 - val_loss: 0.6516 - val_acc: 0.7645\n",
            "Epoch 4/4\n",
            "131/131 [==============================] - 4s 34ms/step - loss: 0.0257 - acc: 0.9923 - val_loss: 0.8028 - val_acc: 0.7727\n"
          ]
        },
        {
          "output_type": "execute_result",
          "data": {
            "text/plain": [
              "<keras.callbacks.History at 0x7f5eb84e6a10>"
            ]
          },
          "metadata": {},
          "execution_count": 34
        }
      ],
      "source": [
        "test_model = Sequential()\n",
        "test_model.add(Embedding(len(word_dict_train), output_dim = 256))\n",
        "test_model.add(Conv1D(filters=128, kernel_size=3, padding='valid', activation='relu'))\n",
        "test_model.add(GlobalMaxPool1D())\n",
        "test_model.add(Dense(64, activation = 'relu'))\n",
        "test_model.add(Dropout(0.3))\n",
        "test_model.add(Dense(2,activation = 'softmax'))\n",
        "test_model.compile(optimizer = 'adam', loss = 'categorical_crossentropy', metrics = ['acc'])\n",
        "test_model.summary()\n",
        "test_model.fit(train_sequences, y_train_cat, batch_size = 32, validation_split = 0.15, epochs = 4)"
      ]
    },
    {
      "cell_type": "code",
      "execution_count": 35,
      "metadata": {
        "id": "3k_ZJfGLjQhc",
        "colab": {
          "base_uri": "https://localhost:8080/"
        },
        "outputId": "a9ca8b3d-1be9-4710-a1e8-967afda0ac53"
      },
      "outputs": [
        {
          "output_type": "stream",
          "name": "stdout",
          "text": [
            "Model: \"sequential_2\"\n",
            "_________________________________________________________________\n",
            " Layer (type)                Output Shape              Param #   \n",
            "=================================================================\n",
            " embedding_2 (Embedding)     (None, None, 256)         2373120   \n",
            "                                                                 \n",
            " conv1d_2 (Conv1D)           (None, None, 128)         131200    \n",
            "                                                                 \n",
            " global_max_pooling1d_2 (Glo  (None, 128)              0         \n",
            " balMaxPooling1D)                                                \n",
            "                                                                 \n",
            " dense_4 (Dense)             (None, 64)                8256      \n",
            "                                                                 \n",
            " dropout_2 (Dropout)         (None, 64)                0         \n",
            "                                                                 \n",
            " dense_5 (Dense)             (None, 2)                 130       \n",
            "                                                                 \n",
            "=================================================================\n",
            "Total params: 2,512,706\n",
            "Trainable params: 2,512,706\n",
            "Non-trainable params: 0\n",
            "_________________________________________________________________\n"
          ]
        }
      ],
      "source": [
        "model = Sequential()\n",
        "model.add(Embedding(len(word_dict), output_dim = 256))\n",
        "model.add(Conv1D(filters=128, kernel_size=4, padding='valid', activation='relu'))\n",
        "model.add(GlobalMaxPool1D())\n",
        "model.add(Dense(64, activation = 'relu'))\n",
        "model.add(Dropout(0.2))\n",
        "model.add(Dense(2,activation = 'softmax'))\n",
        "model.compile(optimizer = 'adam', loss = 'categorical_crossentropy', metrics = ['acc'])\n",
        "model.summary()"
      ]
    },
    {
      "cell_type": "code",
      "execution_count": 36,
      "metadata": {
        "id": "KhbQTkvfjNVi",
        "colab": {
          "base_uri": "https://localhost:8080/"
        },
        "outputId": "0dfbbb68-bdc0-4ba2-eb19-289e17d00c07"
      },
      "outputs": [
        {
          "output_type": "stream",
          "name": "stdout",
          "text": [
            "Epoch 1/4\n",
            "77/77 [==============================] - 8s 91ms/step - loss: 0.5863 - acc: 0.6934 - val_loss: 0.7284 - val_acc: 0.5063\n",
            "Epoch 2/4\n",
            "77/77 [==============================] - 7s 97ms/step - loss: 0.3192 - acc: 0.8663 - val_loss: 0.7368 - val_acc: 0.5961\n",
            "Epoch 3/4\n",
            "77/77 [==============================] - 7s 92ms/step - loss: 0.1202 - acc: 0.9575 - val_loss: 0.9909 - val_acc: 0.5834\n",
            "Epoch 4/4\n",
            "77/77 [==============================] - 7s 87ms/step - loss: 0.0484 - acc: 0.9852 - val_loss: 1.2024 - val_acc: 0.5742\n"
          ]
        },
        {
          "output_type": "execute_result",
          "data": {
            "text/plain": [
              "<keras.callbacks.History at 0x7f5eae295410>"
            ]
          },
          "metadata": {},
          "execution_count": 36
        }
      ],
      "source": [
        "sequences = np.array(sentence_to_vector(stock_df['cleaned'], word_dict, max_length))\n",
        "y = to_categorical(stock_df[\"Sentiment\"], 2)\n",
        "model.fit(sequences, y, batch_size = 64, validation_split = 0.15, epochs = 4)"
      ]
    },
    {
      "cell_type": "code",
      "execution_count": 75,
      "metadata": {
        "id": "7qRUkys-BSuQ"
      },
      "outputs": [],
      "source": [
        "pred = test_model.predict(test_sequences)\n",
        "max_indices = np.argmax(pred, axis = 1)\n",
        "accuracy = sum(max_indices == y_test)/len(y_test)"
      ]
    },
    {
      "cell_type": "code",
      "execution_count": 76,
      "metadata": {
        "id": "7rpgzbSqHfR4",
        "colab": {
          "base_uri": "https://localhost:8080/",
          "height": 282
        },
        "outputId": "3be5e89e-68b5-4e4b-c66a-89472668a90b"
      },
      "outputs": [
        {
          "output_type": "execute_result",
          "data": {
            "text/plain": [
              "<matplotlib.axes._subplots.AxesSubplot at 0x7f5eb06d5290>"
            ]
          },
          "metadata": {},
          "execution_count": 76
        },
        {
          "output_type": "display_data",
          "data": {
            "image/png": "[encoded data removed]",
            "text/plain": [
              "<Figure size 432x288 with 2 Axes>"
            ]
          },
          "metadata": {
            "needs_background": "light"
          }
        }
      ],
      "source": [
        "cm = confusion_matrix(y_test, max_indices)\n",
        "sns.heatmap(cm, annot = True)"
      ]
    },
    {
      "cell_type": "code",
      "execution_count": 77,
      "metadata": {
        "id": "aZL_dTBO1Lnu",
        "colab": {
          "base_uri": "https://localhost:8080/"
        },
        "outputId": "a6d8572f-cc4f-409a-af77-ca77e0d1be3f"
      },
      "outputs": [
        {
          "output_type": "execute_result",
          "data": {
            "text/plain": [
              "array([[0.98524195, 0.01475809]], dtype=float32)"
            ]
          },
          "metadata": {},
          "execution_count": 77
        }
      ],
      "source": [
        "test_string = \"SpaceX chief engineer quit\"\n",
        "seq = np.array(sentence_to_vector([test_string], word_dict, max_length))\n",
        "prob = model.predict(seq)\n",
        "prob"
      ]
    },
    {
      "cell_type": "code",
      "execution_count": 49,
      "metadata": {
        "id": "1uNEHulE1Lnu"
      },
      "outputs": [],
      "source": [
        "run_model = tf.function(lambda x: model(x))\n",
        "concrete_func = run_model.get_concrete_function(tf.TensorSpec([1, max_length], model.inputs[0].dtype))\n"
      ]
    },
    {
      "cell_type": "code",
      "execution_count": 50,
      "metadata": {
        "id": "PezYBzGo1Lnv",
        "colab": {
          "base_uri": "https://localhost:8080/"
        },
        "outputId": "747c5ab5-47d4-4439-8ef7-193fe80456da"
      },
      "outputs": [
        {
          "output_type": "stream",
          "name": "stdout",
          "text": [
            "INFO:tensorflow:Assets written to: saved_model/assets\n"
          ]
        }
      ],
      "source": [
        "save_dir = \"saved_model\"\n",
        "model.save(save_dir, save_format=\"tf\", signatures=concrete_func)\n",
        "loaded = tf.keras.models.load_model(save_dir)\n",
        "#print(list(loaded.signatures.keys()))\n",
        "#infer = loaded.signatures[\"serving_default\"]\n",
        "#print(infer.structured_input_signature)\n",
        "#print(infer.structured_outputs)"
      ]
    },
    {
      "cell_type": "code",
      "execution_count": 51,
      "metadata": {
        "id": "Q7m70A4U1Lnv",
        "colab": {
          "base_uri": "https://localhost:8080/"
        },
        "outputId": "869a2a53-fe90-4355-b288-cb8dcd38e329"
      },
      "outputs": [
        {
          "output_type": "stream",
          "name": "stderr",
          "text": [
            "WARNING:absl:Please consider providing the trackable_obj argument in the from_concrete_functions. Providing without the trackable_obj argument is deprecated and it will use the deprecated conversion path.\n",
            "WARNING:absl:Buffer deduplication procedure will be skipped when flatbuffer library is not properly loaded\n"
          ]
        }
      ],
      "source": [
        "converter = tf.lite.TFLiteConverter.from_concrete_functions([concrete_func])\n",
        "tflite_model = converter.convert()\n"
      ]
    },
    {
      "cell_type": "code",
      "execution_count": 52,
      "metadata": {
        "id": "8XTvYWS91Lnw",
        "colab": {
          "base_uri": "https://localhost:8080/"
        },
        "outputId": "dda1ae8f-9bdc-403a-ad84-49d5c2716e81"
      },
      "outputs": [
        {
          "output_type": "execute_result",
          "data": {
            "text/plain": [
              "10054088"
            ]
          },
          "metadata": {},
          "execution_count": 52
        }
      ],
      "source": [
        "tflite_model_file = pathlib.Path('./model.tflite')\n",
        "tflite_model_file.write_bytes(tflite_model)"
      ]
    },
    {
      "cell_type": "code",
      "execution_count": 53,
      "metadata": {
        "id": "OruFfRq71Lnw"
      },
      "outputs": [],
      "source": [
        "expected = model.predict(sequences)\n",
        "\n",
        "interpreter = tf.lite.Interpreter(model_content=tflite_model)\n",
        "interpreter.allocate_tensors()\n",
        "input_details = interpreter.get_input_details()\n",
        "output_details = interpreter.get_output_details()\n",
        "for i in range(len(sequences)):\n",
        "  interpreter.set_tensor(input_details[0][\"index\"], sequences[i:i+1].astype(np.float32))\n",
        "  interpreter.invoke()\n",
        "  res = interpreter.get_tensor(output_details[0][\"index\"])\n",
        "  res = res.flatten()\n",
        "  np.testing.assert_almost_equal(expected[i], res, decimal=4)"
      ]
    }
  ],
  "metadata": {
    "colab": {
      "collapsed_sections": [],
      "name": "model.ipynb",
      "provenance": []
    },
    "kernelspec": {
      "display_name": "Python 3 (ipykernel)",
      "language": "python",
      "name": "python3"
    },
    "language_info": {
      "codemirror_mode": {
        "name": "ipython",
        "version": 3
      },
      "file_extension": ".py",
      "mimetype": "text/x-python",
      "name": "python",
      "nbconvert_exporter": "python",
      "pygments_lexer": "ipython3",
      "version": "3.9.10"
    }
  },
  "nbformat": 4,
  "nbformat_minor": 0
}